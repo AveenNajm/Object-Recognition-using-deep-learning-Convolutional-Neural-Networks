{
 "cells": [
  {
   "cell_type": "markdown",
   "metadata": {
    "id": "o8CrfZ8cK_9O"
   },
   "source": [
    "# Convolutional Neural Networks (CNN) - Object Recognition "
   ]
  },
  {
   "cell_type": "code",
   "execution_count": null,
   "metadata": {
    "id": "L2nrWeI5K_9Q"
   },
   "outputs": [],
   "source": [
    "from numpy.random import seed\n",
    "seed(888)\n",
    "\n",
    "#from tensorflow import set_random_seed\n",
    "#set_random_seed(4112)\n",
    "import tensorflow\n",
    "tensorflow.random.set_seed(112)"
   ]
  },
  {
   "cell_type": "code",
   "execution_count": null,
   "metadata": {
    "id": "d4wfCoaPK_9R"
   },
   "outputs": [],
   "source": [
    "import os\n",
    "import numpy as np\n",
    "import itertools\n",
    "\n",
    "import tensorflow as tf\n",
    "import keras\n",
    "from keras.datasets import cifar10 # importing the dataset\n",
    "\n",
    "from keras.models import Sequential       #to define model/ layers\n",
    "from keras.layers import Dense, Conv2D, MaxPool2D, Flatten   \n",
    "\n",
    "from sklearn.metrics import confusion_matrix\n",
    "\n",
    "# To Explore the images\n",
    "from IPython.display import display\n",
    "from keras.preprocessing.image import array_to_img\n",
    "\n",
    "from tensorflow.keras.utils import to_categorical\n",
    "from tensorflow.keras.layers import Dense,Dropout\n",
    "\n",
    "import matplotlib.pyplot as plt\n",
    "%matplotlib inline"
   ]
  },
  {
   "cell_type": "code",
   "execution_count": null,
   "metadata": {
    "id": "N7G0T1ZUK_9S"
   },
   "outputs": [],
   "source": [
    "import pandas as pd"
   ]
  },
  {
   "cell_type": "markdown",
   "metadata": {
    "id": "kmScJb_BK_9S"
   },
   "source": [
    "## Get the Dataset CIFAR-10 "
   ]
  },
  {
   "cell_type": "code",
   "execution_count": null,
   "metadata": {
    "colab": {
     "base_uri": "https://localhost:8080/"
    },
    "executionInfo": {
     "elapsed": 8037,
     "status": "ok",
     "timestamp": 1616545288909,
     "user": {
      "displayName": "Aveen Najm",
      "photoUrl": "",
      "userId": "16510286446234260860"
     },
     "user_tz": 0
    },
    "id": "QKneK_K3K_9S",
    "outputId": "03f27b97-91c9-4894-ec76-19900fd3ccc1"
   },
   "outputs": [
    {
     "name": "stdout",
     "output_type": "stream",
     "text": [
      "Downloading data from https://www.cs.toronto.edu/~kriz/cifar-10-python.tar.gz\n",
      "170500096/170498071 [==============================] - 2s 0us/step\n"
     ]
    }
   ],
   "source": [
    "# Getting the dataset as a Tuple\n",
    "\n",
    "(x_train_all, y_train_all), (x_test, y_test) = cifar10.load_data()"
   ]
  },
  {
   "cell_type": "markdown",
   "metadata": {
    "id": "SrsWxwVsK_9T"
   },
   "source": [
    "## Constants"
   ]
  },
  {
   "cell_type": "code",
   "execution_count": null,
   "metadata": {
    "id": "rKZy0wZdK_9T"
   },
   "outputs": [],
   "source": [
    "LABEL_NAMES = ['airplane', 'automobile','bird','cat', 'deer', 'dog', 'frog', 'horse', 'ship', 'truck']"
   ]
  },
  {
   "cell_type": "markdown",
   "metadata": {
    "id": "c27CEd-LK_9T"
   },
   "source": [
    "## Exploring the Data"
   ]
  },
  {
   "cell_type": "code",
   "execution_count": null,
   "metadata": {
    "colab": {
     "base_uri": "https://localhost:8080/"
    },
    "executionInfo": {
     "elapsed": 8028,
     "status": "ok",
     "timestamp": 1616545288911,
     "user": {
      "displayName": "Aveen Najm",
      "photoUrl": "",
      "userId": "16510286446234260860"
     },
     "user_tz": 0
    },
    "id": "amzrSABPK_9U",
    "outputId": "a0722353-993c-4178-cec0-bb416d47dd12"
   },
   "outputs": [
    {
     "data": {
      "text/plain": [
       "(50000, 32, 32, 3)"
      ]
     },
     "execution_count": 6,
     "metadata": {
      "tags": []
     },
     "output_type": "execute_result"
    }
   ],
   "source": [
    "x_train_all.shape"
   ]
  },
  {
   "cell_type": "code",
   "execution_count": null,
   "metadata": {
    "colab": {
     "base_uri": "https://localhost:8080/"
    },
    "executionInfo": {
     "elapsed": 8024,
     "status": "ok",
     "timestamp": 1616545288913,
     "user": {
      "displayName": "Aveen Najm",
      "photoUrl": "",
      "userId": "16510286446234260860"
     },
     "user_tz": 0
    },
    "id": "sHhf0wJOK_9U",
    "outputId": "bf2f22f7-3563-41b2-aee6-b1e2a5ea3126"
   },
   "outputs": [
    {
     "data": {
      "text/plain": [
       "array([[[ 59,  62,  63],\n",
       "        [ 43,  46,  45],\n",
       "        [ 50,  48,  43],\n",
       "        ...,\n",
       "        [158, 132, 108],\n",
       "        [152, 125, 102],\n",
       "        [148, 124, 103]],\n",
       "\n",
       "       [[ 16,  20,  20],\n",
       "        [  0,   0,   0],\n",
       "        [ 18,   8,   0],\n",
       "        ...,\n",
       "        [123,  88,  55],\n",
       "        [119,  83,  50],\n",
       "        [122,  87,  57]],\n",
       "\n",
       "       [[ 25,  24,  21],\n",
       "        [ 16,   7,   0],\n",
       "        [ 49,  27,   8],\n",
       "        ...,\n",
       "        [118,  84,  50],\n",
       "        [120,  84,  50],\n",
       "        [109,  73,  42]],\n",
       "\n",
       "       ...,\n",
       "\n",
       "       [[208, 170,  96],\n",
       "        [201, 153,  34],\n",
       "        [198, 161,  26],\n",
       "        ...,\n",
       "        [160, 133,  70],\n",
       "        [ 56,  31,   7],\n",
       "        [ 53,  34,  20]],\n",
       "\n",
       "       [[180, 139,  96],\n",
       "        [173, 123,  42],\n",
       "        [186, 144,  30],\n",
       "        ...,\n",
       "        [184, 148,  94],\n",
       "        [ 97,  62,  34],\n",
       "        [ 83,  53,  34]],\n",
       "\n",
       "       [[177, 144, 116],\n",
       "        [168, 129,  94],\n",
       "        [179, 142,  87],\n",
       "        ...,\n",
       "        [216, 184, 140],\n",
       "        [151, 118,  84],\n",
       "        [123,  92,  72]]], dtype=uint8)"
      ]
     },
     "execution_count": 7,
     "metadata": {
      "tags": []
     },
     "output_type": "execute_result"
    }
   ],
   "source": [
    "x_train_all[0]"
   ]
  },
  {
   "cell_type": "code",
   "execution_count": null,
   "metadata": {
    "colab": {
     "base_uri": "https://localhost:8080/"
    },
    "executionInfo": {
     "elapsed": 8018,
     "status": "ok",
     "timestamp": 1616545288914,
     "user": {
      "displayName": "Aveen Najm",
      "photoUrl": "",
      "userId": "16510286446234260860"
     },
     "user_tz": 0
    },
    "id": "APZ2BqkyK_9U",
    "outputId": "60ba80b8-5a66-4270-eff4-054a144df364"
   },
   "outputs": [
    {
     "data": {
      "text/plain": [
       "(32, 32, 3)"
      ]
     },
     "execution_count": 8,
     "metadata": {
      "tags": []
     },
     "output_type": "execute_result"
    }
   ],
   "source": [
    "x_train_all[0].shape"
   ]
  },
  {
   "cell_type": "markdown",
   "metadata": {
    "id": "to90wvDLK_9V"
   },
   "source": [
    "### Using ipython to display the image"
   ]
  },
  {
   "cell_type": "code",
   "execution_count": null,
   "metadata": {
    "colab": {
     "base_uri": "https://localhost:8080/",
     "height": 49
    },
    "executionInfo": {
     "elapsed": 8012,
     "status": "ok",
     "timestamp": 1616545288915,
     "user": {
      "displayName": "Aveen Najm",
      "photoUrl": "",
      "userId": "16510286446234260860"
     },
     "user_tz": 0
    },
    "id": "7rfNTpTcK_9V",
    "outputId": "dda6bf20-d070-4f7c-e7b3-1ccbe094e2ea"
   },
   "outputs": [
    {
     "data": {
      "image/png": "[encoded data removed]",
      "text/plain": [
       "<PIL.Image.Image image mode=RGB size=32x32 at 0x7F76F3AC7110>"
      ]
     },
     "metadata": {
      "tags": []
     },
     "output_type": "display_data"
    }
   ],
   "source": [
    "# To use the ipython display to view an image\n",
    "\n",
    "pic = array_to_img(x_train_all[0])\n",
    "display(pic)"
   ]
  },
  {
   "cell_type": "code",
   "execution_count": null,
   "metadata": {
    "colab": {
     "base_uri": "https://localhost:8080/",
     "height": 283
    },
    "executionInfo": {
     "elapsed": 8005,
     "status": "ok",
     "timestamp": 1616545288915,
     "user": {
      "displayName": "Aveen Najm",
      "photoUrl": "",
      "userId": "16510286446234260860"
     },
     "user_tz": 0
    },
    "id": "EBuTQCoPK_9V",
    "outputId": "b94d1bd9-f62e-4d2a-bd8c-bdb111fafe07"
   },
   "outputs": [
    {
     "data": {
      "text/plain": [
       "<matplotlib.image.AxesImage at 0x7f76f2f75850>"
      ]
     },
     "execution_count": 10,
     "metadata": {
      "tags": []
     },
     "output_type": "execute_result"
    },
    {
     "data": {
      "image/png": "[encoded data removed]",
      "text/plain": [
       "<Figure size 432x288 with 1 Axes>"
      ]
     },
     "metadata": {
      "needs_background": "light",
      "tags": []
     },
     "output_type": "display_data"
    }
   ],
   "source": [
    "plt.imshow(x_train_all[0])"
   ]
  },
  {
   "cell_type": "code",
   "execution_count": null,
   "metadata": {
    "colab": {
     "base_uri": "https://localhost:8080/"
    },
    "executionInfo": {
     "elapsed": 8701,
     "status": "ok",
     "timestamp": 1616545289618,
     "user": {
      "displayName": "Aveen Najm",
      "photoUrl": "",
      "userId": "16510286446234260860"
     },
     "user_tz": 0
    },
    "id": "mDIZigsUK_9W",
    "outputId": "29c1a872-03df-4d3b-9e3a-8db3df762fab"
   },
   "outputs": [
    {
     "data": {
      "text/plain": [
       "(50000, 1)"
      ]
     },
     "execution_count": 11,
     "metadata": {
      "tags": []
     },
     "output_type": "execute_result"
    }
   ],
   "source": [
    "# To check the label \n",
    "y_train_all.shape"
   ]
  },
  {
   "cell_type": "code",
   "execution_count": null,
   "metadata": {
    "colab": {
     "base_uri": "https://localhost:8080/"
    },
    "executionInfo": {
     "elapsed": 8695,
     "status": "ok",
     "timestamp": 1616545289619,
     "user": {
      "displayName": "Aveen Najm",
      "photoUrl": "",
      "userId": "16510286446234260860"
     },
     "user_tz": 0
    },
    "id": "sTxPIkI-K_9W",
    "outputId": "31629aba-e4a8-4195-a68d-7a9cf6a3becb"
   },
   "outputs": [
    {
     "data": {
      "text/plain": [
       "6"
      ]
     },
     "execution_count": 12,
     "metadata": {
      "tags": []
     },
     "output_type": "execute_result"
    }
   ],
   "source": [
    "# Note that in the image above the index 1 corresponds to \"Automobile\" \n",
    "# we have a 2 dimension numpy array; that is why we also include \" [0] \"\n",
    "\n",
    "y_train_all[0][0]"
   ]
  },
  {
   "cell_type": "code",
   "execution_count": null,
   "metadata": {
    "colab": {
     "base_uri": "https://localhost:8080/",
     "height": 35
    },
    "executionInfo": {
     "elapsed": 8688,
     "status": "ok",
     "timestamp": 1616545289620,
     "user": {
      "displayName": "Aveen Najm",
      "photoUrl": "",
      "userId": "16510286446234260860"
     },
     "user_tz": 0
    },
    "id": "0p82wiaBK_9W",
    "outputId": "0002b8ab-b9e3-4cb6-a7fa-b2db35e6a921"
   },
   "outputs": [
    {
     "data": {
      "application/vnd.google.colaboratory.intrinsic+json": {
       "type": "string"
      },
      "text/plain": [
       "'frog'"
      ]
     },
     "execution_count": 13,
     "metadata": {
      "tags": []
     },
     "output_type": "execute_result"
    }
   ],
   "source": [
    "# Using the lable names to get the actual names of classes\n",
    "\n",
    "LABEL_NAMES[y_train_all[0][0]]"
   ]
  },
  {
   "cell_type": "markdown",
   "metadata": {
    "id": "msTe85fKK_9X"
   },
   "source": [
    "### The shape of the image\n",
    "\n",
    "    * 32, 32 is the weight and the height\n",
    "    * 3 is the number of channels (These are the number of colors): Red, Green & Blue (RGB)\n",
    "    \n",
    " * x_train_all.shape  >>> (50000, 32, 32, 3)\n",
    "     * this means we have 50,000 entries | then 32x32  weight and height| 3 colors (RGB)"
   ]
  },
  {
   "cell_type": "markdown",
   "metadata": {
    "id": "sWFErTtoK_9X"
   },
   "source": [
    "x_train_all.shape"
   ]
  },
  {
   "cell_type": "code",
   "execution_count": null,
   "metadata": {
    "colab": {
     "base_uri": "https://localhost:8080/"
    },
    "executionInfo": {
     "elapsed": 8681,
     "status": "ok",
     "timestamp": 1616545289620,
     "user": {
      "displayName": "Aveen Najm",
      "photoUrl": "",
      "userId": "16510286446234260860"
     },
     "user_tz": 0
    },
    "id": "kfGynp0tK_9X",
    "outputId": "357e4751-99f3-4d70-bfec-a7c74b362c48"
   },
   "outputs": [
    {
     "name": "stdout",
     "output_type": "stream",
     "text": [
      "Number of images = 50000 \t| width = 32 \t| height = 32 \t| channels = 3\n"
     ]
    }
   ],
   "source": [
    "number_of_images, x, y, c = x_train_all.shape\n",
    "print(f'Number of images = {number_of_images} \\t| width = {x} \\t| height = {y} \\t| channels = {c}')"
   ]
  },
  {
   "cell_type": "code",
   "execution_count": null,
   "metadata": {
    "colab": {
     "base_uri": "https://localhost:8080/"
    },
    "executionInfo": {
     "elapsed": 8676,
     "status": "ok",
     "timestamp": 1616545289621,
     "user": {
      "displayName": "Aveen Najm",
      "photoUrl": "",
      "userId": "16510286446234260860"
     },
     "user_tz": 0
    },
    "id": "DbOAst_IK_9Y",
    "outputId": "bda701ca-37ab-4d45-98e6-ebf0a7ae82a3"
   },
   "outputs": [
    {
     "data": {
      "text/plain": [
       "(10000, 32, 32, 3)"
      ]
     },
     "execution_count": 15,
     "metadata": {
      "tags": []
     },
     "output_type": "execute_result"
    }
   ],
   "source": [
    "x_test.shape"
   ]
  },
  {
   "cell_type": "markdown",
   "metadata": {
    "id": "6TRARC-SK_9Y"
   },
   "source": [
    "### Preprocess Data"
   ]
  },
  {
   "cell_type": "markdown",
   "metadata": {},
   "source": [
    "#### * We need to preprocess our data so that it is easier to feed it to our neural network."
   ]
  },
  {
   "cell_type": "markdown",
   "metadata": {},
   "source": [
    "<b>\n",
    "\n",
    "* uint8 means an unsigned integer... 8-bit integer with no negative sign (-). It means a positive integer 1984 is an example of uint.\n",
    "\n",
    "* 255 is the maximum number we have RGB\n",
    "* If we divide x_train_all by 255.0 we will get a float number between 0 and 1.\n",
    "* Scaling the x_train_all down to between 0 and 1 helps out learning rate. we know the learning rate is typically small\n",
    "</b>\n"
   ]
  },
  {
   "cell_type": "markdown",
   "metadata": {},
   "source": [
    "### Scalling both x_train and test"
   ]
  },
  {
   "cell_type": "code",
   "execution_count": null,
   "metadata": {
    "id": "ZTJivLsPK_9Y"
   },
   "outputs": [],
   "source": [
    "x_train_all =x_train_all / 255.0"
   ]
  },
  {
   "cell_type": "code",
   "execution_count": null,
   "metadata": {
    "id": "OcZHgUlDK_9Y"
   },
   "outputs": [],
   "source": [
    "x_test =  x_test / 255.0"
   ]
  },
  {
   "cell_type": "code",
   "execution_count": null,
   "metadata": {
    "colab": {
     "base_uri": "https://localhost:8080/"
    },
    "executionInfo": {
     "elapsed": 8668,
     "status": "ok",
     "timestamp": 1616545289622,
     "user": {
      "displayName": "Aveen Najm",
      "photoUrl": "",
      "userId": "16510286446234260860"
     },
     "user_tz": 0
    },
    "id": "pL5d2-X0K_9Z",
    "outputId": "114ab667-17a3-41ef-fdfd-6024ea5c133c"
   },
   "outputs": [
    {
     "data": {
      "text/plain": [
       "array([[3],\n",
       "       [8],\n",
       "       [8],\n",
       "       ...,\n",
       "       [5],\n",
       "       [1],\n",
       "       [7]], dtype=uint8)"
      ]
     },
     "execution_count": 18,
     "metadata": {
      "tags": []
     },
     "output_type": "execute_result"
    }
   ],
   "source": [
    "y_test"
   ]
  },
  {
   "cell_type": "markdown",
   "metadata": {
    "id": "cQ74D-uMK_9Z"
   },
   "source": [
    "### Creating categorical encoding for the \"y \" data"
   ]
  },
  {
   "cell_type": "code",
   "execution_count": null,
   "metadata": {
    "id": "NkQhFVfJK_9Z"
   },
   "outputs": [],
   "source": [
    "# 10 >>> simply means we have 10 classes like we already know (creating the encoding for 10 classes)\n",
    "y_cat_train_all = to_categorical(y_train_all,10)"
   ]
  },
  {
   "cell_type": "code",
   "execution_count": null,
   "metadata": {
    "id": "nLYNXlnBK_9a"
   },
   "outputs": [],
   "source": [
    "# 10 >>> simply means we have 10 classes like we already know (creating the encoding for 10 classes)\n",
    "y_cat_test = to_categorical(y_test,10)"
   ]
  },
  {
   "cell_type": "code",
   "execution_count": null,
   "metadata": {
    "colab": {
     "base_uri": "https://localhost:8080/"
    },
    "executionInfo": {
     "elapsed": 8659,
     "status": "ok",
     "timestamp": 1616545289623,
     "user": {
      "displayName": "Aveen Najm",
      "photoUrl": "",
      "userId": "16510286446234260860"
     },
     "user_tz": 0
    },
    "id": "ix95F7BZK_9a",
    "outputId": "b46455e8-8407-48c1-ece8-b846bb01ee77"
   },
   "outputs": [
    {
     "data": {
      "text/plain": [
       "array([[0., 0., 0., ..., 0., 0., 0.],\n",
       "       [0., 0., 0., ..., 0., 0., 1.],\n",
       "       [0., 0., 0., ..., 0., 0., 1.],\n",
       "       ...,\n",
       "       [0., 0., 0., ..., 0., 0., 1.],\n",
       "       [0., 1., 0., ..., 0., 0., 0.],\n",
       "       [0., 1., 0., ..., 0., 0., 0.]], dtype=float32)"
      ]
     },
     "execution_count": 21,
     "metadata": {
      "tags": []
     },
     "output_type": "execute_result"
    }
   ],
   "source": [
    "y_cat_train_all"
   ]
  },
  {
   "cell_type": "markdown",
   "metadata": {
    "id": "TlqAUA-XK_9a"
   },
   "source": [
    "### Creating the Validation dataset"
   ]
  },
  {
   "cell_type": "markdown",
   "metadata": {},
   "source": [
    "For small data we usually go with:\n",
    "    * 60% for Training \n",
    "    * 20% Validation \n",
    "    * 20% Testing\n",
    "    \n",
    "    \n",
    "    Only the final selected model gets to see the testing data. This helps us to ensure that we have close to real data in real-world when the model is deployed. Only our best model gets to see our testing dataset. Because it will give us a realistic impression of how our model will do in the real world\n",
    "___\n",
    "\n",
    "However, if the dataset is enormous.:\n",
    "    * 1% for is used for validation\n",
    "    * 1% for is used for testing"
   ]
  },
  {
   "cell_type": "code",
   "execution_count": null,
   "metadata": {
    "id": "-QVNHEAQK_9a"
   },
   "outputs": [],
   "source": [
    "VALIDATION_SIZE = 10000"
   ]
  },
  {
   "cell_type": "code",
   "execution_count": null,
   "metadata": {
    "colab": {
     "base_uri": "https://localhost:8080/"
    },
    "executionInfo": {
     "elapsed": 8646,
     "status": "ok",
     "timestamp": 1616545289624,
     "user": {
      "displayName": "Aveen Najm",
      "photoUrl": "",
      "userId": "16510286446234260860"
     },
     "user_tz": 0
    },
    "id": "qvK5RtiDK_9b",
    "outputId": "0ca79f1b-c1a5-4b9b-84cb-fa73048d2ba5"
   },
   "outputs": [
    {
     "data": {
      "text/plain": [
       "(10000, 32, 32, 3)"
      ]
     },
     "execution_count": 23,
     "metadata": {
      "tags": []
     },
     "output_type": "execute_result"
    }
   ],
   "source": [
    "# VALIDATION_SIZE = 10,000 as defined above \n",
    "\n",
    "x_val = x_train_all[:VALIDATION_SIZE]\n",
    "y_val_cat = y_cat_train_all[:VALIDATION_SIZE]\n",
    "x_val.shape"
   ]
  },
  {
   "cell_type": "code",
   "execution_count": null,
   "metadata": {
    "colab": {
     "base_uri": "https://localhost:8080/"
    },
    "executionInfo": {
     "elapsed": 8633,
     "status": "ok",
     "timestamp": 1616545289624,
     "user": {
      "displayName": "Aveen Najm",
      "photoUrl": "",
      "userId": "16510286446234260860"
     },
     "user_tz": 0
    },
    "id": "39ZejhicK_9b",
    "outputId": "b84cb217-cb1e-46a5-8544-7b20bd99fe1e"
   },
   "outputs": [
    {
     "data": {
      "text/plain": [
       "array([[0., 0., 0., ..., 0., 0., 0.],\n",
       "       [0., 0., 0., ..., 0., 0., 1.],\n",
       "       [0., 0., 0., ..., 0., 0., 1.],\n",
       "       ...,\n",
       "       [0., 1., 0., ..., 0., 0., 0.],\n",
       "       [0., 1., 0., ..., 0., 0., 0.],\n",
       "       [0., 0., 0., ..., 0., 0., 0.]], dtype=float32)"
      ]
     },
     "execution_count": 24,
     "metadata": {
      "tags": []
     },
     "output_type": "execute_result"
    }
   ],
   "source": [
    "y_val_cat"
   ]
  },
  {
   "cell_type": "markdown",
   "metadata": {
    "id": "EWklDEHbK_9b"
   },
   "source": [
    "### NEXT:\n",
    "\n",
    "We Create two NumPy arrays x_train and y_train that have the shape(40000, 3072) and (40000,1) respectively.\n",
    "They will contain the last 40000 values from x_train_all and y_train_all respectively"
   ]
  },
  {
   "cell_type": "code",
   "execution_count": null,
   "metadata": {
    "id": "c3q9ftrpK_9c"
   },
   "outputs": [],
   "source": [
    "x_train = x_train_all[VALIDATION_SIZE:]\n",
    "y_cat_train= y_cat_train_all[VALIDATION_SIZE:]"
   ]
  },
  {
   "cell_type": "code",
   "execution_count": null,
   "metadata": {
    "colab": {
     "base_uri": "https://localhost:8080/"
    },
    "executionInfo": {
     "elapsed": 8623,
     "status": "ok",
     "timestamp": 1616545289625,
     "user": {
      "displayName": "Aveen Najm",
      "photoUrl": "",
      "userId": "16510286446234260860"
     },
     "user_tz": 0
    },
    "id": "RIb02U1oK_9c",
    "outputId": "b948e948-f3de-4532-8c57-937af812a9a5"
   },
   "outputs": [
    {
     "data": {
      "text/plain": [
       "(40000, 32, 32, 3)"
      ]
     },
     "execution_count": 26,
     "metadata": {
      "tags": []
     },
     "output_type": "execute_result"
    }
   ],
   "source": [
    "x_train.shape"
   ]
  },
  {
   "cell_type": "code",
   "execution_count": null,
   "metadata": {
    "colab": {
     "base_uri": "https://localhost:8080/"
    },
    "executionInfo": {
     "elapsed": 8616,
     "status": "ok",
     "timestamp": 1616545289625,
     "user": {
      "displayName": "Aveen Najm",
      "photoUrl": "",
      "userId": "16510286446234260860"
     },
     "user_tz": 0
    },
    "id": "2uhSvlv_K_9c",
    "outputId": "c0638ebf-a107-433f-8faa-525efc54e31a"
   },
   "outputs": [
    {
     "data": {
      "text/plain": [
       "array([[0., 1., 0., ..., 0., 0., 0.],\n",
       "       [0., 0., 0., ..., 0., 0., 0.],\n",
       "       [0., 0., 0., ..., 0., 0., 0.],\n",
       "       ...,\n",
       "       [0., 0., 0., ..., 0., 0., 1.],\n",
       "       [0., 1., 0., ..., 0., 0., 0.],\n",
       "       [0., 1., 0., ..., 0., 0., 0.]], dtype=float32)"
      ]
     },
     "execution_count": 27,
     "metadata": {
      "tags": []
     },
     "output_type": "execute_result"
    }
   ],
   "source": [
    "y_cat_train"
   ]
  },
  {
   "cell_type": "markdown",
   "metadata": {
    "id": "2QCkeBTAK_9c"
   },
   "source": [
    "### BUILDING THE MODEL"
   ]
  },
  {
   "cell_type": "markdown",
   "metadata": {
    "id": "zym6T23tPVDz"
   },
   "source": [
    "# MODEL ONE Dropout"
   ]
  },
  {
   "cell_type": "code",
   "execution_count": null,
   "metadata": {
    "id": "wL2aQwyjK_9d"
   },
   "outputs": [],
   "source": [
    "model_1 = Sequential()\n",
    "\n",
    "# CONVOLUTIONAL LAYER\n",
    "model_1.add(Conv2D(filters=32, kernel_size=(3,3),input_shape=(32, 32, 3), activation='relu',))\n",
    "model_1.add(Conv2D(filters=32, kernel_size=(3,3),input_shape=(32, 32, 3), activation='relu',))\n",
    "# POOLING LAYER\n",
    "model_1.add(MaxPool2D(pool_size=(2, 2)))\n",
    "model_1.add(Dropout(0.2))\n",
    "\n",
    "# CONVOLUTIONAL LAYER\n",
    "model_1.add(Conv2D(filters=64, kernel_size=(3,3),input_shape=(32, 32, 3), activation='relu',))\n",
    "model_1.add(Conv2D(filters=64, kernel_size=(3,3),input_shape=(32, 32, 3), activation='relu',))\n",
    "# POOLING LAYER\n",
    "model_1.add(MaxPool2D(pool_size=(2, 2)))\n",
    "model_1.add(Dropout(0.2))\n",
    "\n",
    "# CONVOLUTIONAL LAYER\n",
    "model_1.add(Conv2D(filters=128, kernel_size=(3,3),input_shape=(32, 32, 3), activation='relu',))\n",
    "# POOLING LAYER\n",
    "model_1.add(MaxPool2D(pool_size=(2, 2)))\n",
    "model_1.add(Dropout(0.2))\n",
    "\n",
    "# FLATTEN IMAGES FROM 32 x 32 x 3 =3072 BEFORE FINAL LAYER\n",
    "model_1.add(Flatten())\n",
    "\n",
    "# 256 NEURONS IN DENSE HIDDEN LAYER\n",
    "model_1.add(Dense(256, activation='relu'))\n",
    "model_1.add(Dropout(0.2))\n",
    "# 128 NEURONS IN DENSE HIDDEN LAYER\n",
    "model_1.add(Dense(128, activation='relu'))\n",
    "model_1.add(Dropout(0.2))\n",
    "\n",
    "# LAST LAYER IS THE CLASSIFIER, THUS 10 POSSIBLE CLASSES\n",
    "model_1.add(Dense(10, activation='softmax'))\n",
    "\n",
    "model_1.compile(loss='categorical_crossentropy',\n",
    "              optimizer='adam',\n",
    "              metrics=['accuracy'])"
   ]
  },
  {
   "cell_type": "code",
   "execution_count": null,
   "metadata": {
    "colab": {
     "base_uri": "https://localhost:8080/"
    },
    "executionInfo": {
     "elapsed": 14048,
     "status": "ok",
     "timestamp": 1616545295067,
     "user": {
      "displayName": "Aveen Najm",
      "photoUrl": "",
      "userId": "16510286446234260860"
     },
     "user_tz": 0
    },
    "id": "9sVjM167K_9d",
    "outputId": "b8ff6568-2142-44fc-f523-3535989cd2f2"
   },
   "outputs": [
    {
     "name": "stdout",
     "output_type": "stream",
     "text": [
      "Model: \"sequential\"\n",
      "_________________________________________________________________\n",
      "Layer (type)                 Output Shape              Param #   \n",
      "=================================================================\n",
      "conv2d (Conv2D)              (None, 30, 30, 32)        896       \n",
      "_________________________________________________________________\n",
      "conv2d_1 (Conv2D)            (None, 28, 28, 32)        9248      \n",
      "_________________________________________________________________\n",
      "max_pooling2d (MaxPooling2D) (None, 14, 14, 32)        0         \n",
      "_________________________________________________________________\n",
      "dropout (Dropout)            (None, 14, 14, 32)        0         \n",
      "_________________________________________________________________\n",
      "conv2d_2 (Conv2D)            (None, 12, 12, 64)        18496     \n",
      "_________________________________________________________________\n",
      "conv2d_3 (Conv2D)            (None, 10, 10, 64)        36928     \n",
      "_________________________________________________________________\n",
      "max_pooling2d_1 (MaxPooling2 (None, 5, 5, 64)          0         \n",
      "_________________________________________________________________\n",
      "dropout_1 (Dropout)          (None, 5, 5, 64)          0         \n",
      "_________________________________________________________________\n",
      "conv2d_4 (Conv2D)            (None, 3, 3, 128)         73856     \n",
      "_________________________________________________________________\n",
      "max_pooling2d_2 (MaxPooling2 (None, 1, 1, 128)         0         \n",
      "_________________________________________________________________\n",
      "dropout_2 (Dropout)          (None, 1, 1, 128)         0         \n",
      "_________________________________________________________________\n",
      "flatten (Flatten)            (None, 128)               0         \n",
      "_________________________________________________________________\n",
      "dense (Dense)                (None, 256)               33024     \n",
      "_________________________________________________________________\n",
      "dropout_3 (Dropout)          (None, 256)               0         \n",
      "_________________________________________________________________\n",
      "dense_1 (Dense)              (None, 128)               32896     \n",
      "_________________________________________________________________\n",
      "dropout_4 (Dropout)          (None, 128)               0         \n",
      "_________________________________________________________________\n",
      "dense_2 (Dense)              (None, 10)                1290      \n",
      "=================================================================\n",
      "Total params: 206,634\n",
      "Trainable params: 206,634\n",
      "Non-trainable params: 0\n",
      "_________________________________________________________________\n"
     ]
    }
   ],
   "source": [
    "model_1.summary()"
   ]
  },
  {
   "cell_type": "code",
   "execution_count": null,
   "metadata": {
    "colab": {
     "base_uri": "https://localhost:8080/"
    },
    "executionInfo": {
     "elapsed": 3318035,
     "status": "ok",
     "timestamp": 1616548599060,
     "user": {
      "displayName": "Aveen Najm",
      "photoUrl": "",
      "userId": "16510286446234260860"
     },
     "user_tz": 0
    },
    "id": "whQLds6PK_9e",
    "outputId": "8ba89a06-e2ea-40b6-f601-65418de260cb"
   },
   "outputs": [
    {
     "name": "stdout",
     "output_type": "stream",
     "text": [
      "Epoch 1/1000\n",
      "267/267 [==============================] - 37s 14ms/step - loss: 2.0975 - accuracy: 0.1943 - val_loss: 1.6258 - val_accuracy: 0.3894\n",
      "Epoch 2/1000\n",
      "267/267 [==============================] - 3s 12ms/step - loss: 1.6431 - accuracy: 0.3862 - val_loss: 1.3996 - val_accuracy: 0.4841\n",
      "Epoch 3/1000\n",
      "267/267 [==============================] - 3s 12ms/step - loss: 1.4062 - accuracy: 0.4891 - val_loss: 1.2552 - val_accuracy: 0.5506\n",
      "Epoch 4/1000\n",
      "267/267 [==============================] - 3s 12ms/step - loss: 1.2944 - accuracy: 0.5365 - val_loss: 1.1603 - val_accuracy: 0.5886\n",
      "Epoch 5/1000\n",
      "267/267 [==============================] - 3s 12ms/step - loss: 1.1986 - accuracy: 0.5766 - val_loss: 1.0997 - val_accuracy: 0.6165\n",
      "Epoch 6/1000\n",
      "267/267 [==============================] - 3s 12ms/step - loss: 1.1349 - accuracy: 0.5998 - val_loss: 1.0215 - val_accuracy: 0.6392\n",
      "Epoch 7/1000\n",
      "267/267 [==============================] - 3s 12ms/step - loss: 1.0475 - accuracy: 0.6353 - val_loss: 0.9754 - val_accuracy: 0.6621\n",
      "Epoch 8/1000\n",
      "267/267 [==============================] - 3s 12ms/step - loss: 1.0154 - accuracy: 0.6473 - val_loss: 0.9040 - val_accuracy: 0.6895\n",
      "Epoch 9/1000\n",
      "267/267 [==============================] - 3s 12ms/step - loss: 0.9733 - accuracy: 0.6607 - val_loss: 0.8892 - val_accuracy: 0.6863\n",
      "Epoch 10/1000\n",
      "267/267 [==============================] - 3s 12ms/step - loss: 0.9256 - accuracy: 0.6786 - val_loss: 0.8796 - val_accuracy: 0.6915\n",
      "Epoch 11/1000\n",
      "267/267 [==============================] - 3s 12ms/step - loss: 0.9077 - accuracy: 0.6839 - val_loss: 0.8792 - val_accuracy: 0.6914\n",
      "Epoch 12/1000\n",
      "267/267 [==============================] - 3s 12ms/step - loss: 0.8745 - accuracy: 0.6943 - val_loss: 0.8183 - val_accuracy: 0.7131\n",
      "Epoch 13/1000\n",
      "267/267 [==============================] - 3s 12ms/step - loss: 0.8500 - accuracy: 0.7060 - val_loss: 0.8359 - val_accuracy: 0.7062\n",
      "Epoch 14/1000\n",
      "267/267 [==============================] - 3s 12ms/step - loss: 0.8450 - accuracy: 0.7072 - val_loss: 0.8533 - val_accuracy: 0.6991\n",
      "Epoch 15/1000\n",
      "267/267 [==============================] - 3s 12ms/step - loss: 0.8133 - accuracy: 0.7193 - val_loss: 0.7988 - val_accuracy: 0.7217\n",
      "Epoch 16/1000\n",
      "267/267 [==============================] - 3s 12ms/step - loss: 0.8063 - accuracy: 0.7207 - val_loss: 0.7846 - val_accuracy: 0.7240\n",
      "Epoch 17/1000\n",
      "267/267 [==============================] - 3s 12ms/step - loss: 0.7790 - accuracy: 0.7330 - val_loss: 0.7958 - val_accuracy: 0.7267\n",
      "Epoch 18/1000\n",
      "267/267 [==============================] - 3s 12ms/step - loss: 0.7692 - accuracy: 0.7349 - val_loss: 0.7834 - val_accuracy: 0.7306\n",
      "Epoch 19/1000\n",
      "267/267 [==============================] - 3s 12ms/step - loss: 0.7465 - accuracy: 0.7414 - val_loss: 0.7610 - val_accuracy: 0.7351\n",
      "Epoch 20/1000\n",
      "267/267 [==============================] - 3s 12ms/step - loss: 0.7417 - accuracy: 0.7425 - val_loss: 0.7598 - val_accuracy: 0.7334\n",
      "Epoch 21/1000\n",
      "267/267 [==============================] - 3s 12ms/step - loss: 0.7447 - accuracy: 0.7417 - val_loss: 0.7506 - val_accuracy: 0.7393\n",
      "Epoch 22/1000\n",
      "267/267 [==============================] - 3s 12ms/step - loss: 0.7077 - accuracy: 0.7557 - val_loss: 0.7845 - val_accuracy: 0.7291\n",
      "Epoch 23/1000\n",
      "267/267 [==============================] - 3s 12ms/step - loss: 0.6960 - accuracy: 0.7593 - val_loss: 0.7773 - val_accuracy: 0.7362\n",
      "Epoch 24/1000\n",
      "267/267 [==============================] - 3s 12ms/step - loss: 0.7066 - accuracy: 0.7543 - val_loss: 0.7652 - val_accuracy: 0.7368\n",
      "Epoch 25/1000\n",
      "267/267 [==============================] - 3s 12ms/step - loss: 0.7014 - accuracy: 0.7570 - val_loss: 0.7473 - val_accuracy: 0.7430\n",
      "Epoch 26/1000\n",
      "267/267 [==============================] - 3s 12ms/step - loss: 0.6833 - accuracy: 0.7601 - val_loss: 0.7463 - val_accuracy: 0.7406\n",
      "Epoch 27/1000\n",
      "267/267 [==============================] - 3s 12ms/step - loss: 0.6714 - accuracy: 0.7673 - val_loss: 0.7280 - val_accuracy: 0.7477\n",
      "Epoch 28/1000\n",
      "267/267 [==============================] - 3s 12ms/step - loss: 0.6629 - accuracy: 0.7712 - val_loss: 0.7253 - val_accuracy: 0.7500\n",
      "Epoch 29/1000\n",
      "267/267 [==============================] - 3s 12ms/step - loss: 0.6651 - accuracy: 0.7682 - val_loss: 0.7299 - val_accuracy: 0.7502\n",
      "Epoch 30/1000\n",
      "267/267 [==============================] - 3s 12ms/step - loss: 0.6610 - accuracy: 0.7688 - val_loss: 0.7456 - val_accuracy: 0.7447\n",
      "Epoch 31/1000\n",
      "267/267 [==============================] - 3s 12ms/step - loss: 0.6453 - accuracy: 0.7762 - val_loss: 0.7148 - val_accuracy: 0.7508\n",
      "Epoch 32/1000\n",
      "267/267 [==============================] - 3s 12ms/step - loss: 0.6327 - accuracy: 0.7816 - val_loss: 0.7748 - val_accuracy: 0.7355\n",
      "Epoch 33/1000\n",
      "267/267 [==============================] - 3s 12ms/step - loss: 0.6322 - accuracy: 0.7830 - val_loss: 0.7415 - val_accuracy: 0.7448\n",
      "Epoch 34/1000\n",
      "267/267 [==============================] - 3s 12ms/step - loss: 0.6243 - accuracy: 0.7809 - val_loss: 0.7278 - val_accuracy: 0.7526\n",
      "Epoch 35/1000\n",
      "267/267 [==============================] - 3s 12ms/step - loss: 0.6174 - accuracy: 0.7861 - val_loss: 0.7284 - val_accuracy: 0.7499\n",
      "Epoch 36/1000\n",
      "267/267 [==============================] - 3s 12ms/step - loss: 0.6118 - accuracy: 0.7870 - val_loss: 0.7186 - val_accuracy: 0.7527\n",
      "Epoch 37/1000\n",
      "267/267 [==============================] - 3s 12ms/step - loss: 0.6080 - accuracy: 0.7874 - val_loss: 0.7344 - val_accuracy: 0.7549\n",
      "Epoch 38/1000\n",
      "267/267 [==============================] - 3s 12ms/step - loss: 0.6063 - accuracy: 0.7905 - val_loss: 0.7373 - val_accuracy: 0.7529\n",
      "Epoch 39/1000\n",
      "267/267 [==============================] - 3s 12ms/step - loss: 0.6094 - accuracy: 0.7890 - val_loss: 0.7394 - val_accuracy: 0.7538\n",
      "Epoch 40/1000\n",
      "267/267 [==============================] - 3s 12ms/step - loss: 0.5973 - accuracy: 0.7902 - val_loss: 0.7286 - val_accuracy: 0.7511\n",
      "Epoch 41/1000\n",
      "267/267 [==============================] - 3s 12ms/step - loss: 0.5908 - accuracy: 0.7931 - val_loss: 0.7101 - val_accuracy: 0.7587\n",
      "Epoch 42/1000\n",
      "267/267 [==============================] - 3s 12ms/step - loss: 0.5727 - accuracy: 0.8005 - val_loss: 0.7539 - val_accuracy: 0.7442\n",
      "Epoch 43/1000\n",
      "267/267 [==============================] - 3s 12ms/step - loss: 0.5910 - accuracy: 0.7921 - val_loss: 0.7207 - val_accuracy: 0.7536\n",
      "Epoch 44/1000\n",
      "267/267 [==============================] - 3s 12ms/step - loss: 0.5836 - accuracy: 0.7956 - val_loss: 0.7349 - val_accuracy: 0.7502\n",
      "Epoch 45/1000\n",
      "267/267 [==============================] - 3s 12ms/step - loss: 0.5798 - accuracy: 0.7969 - val_loss: 0.7137 - val_accuracy: 0.7594\n",
      "Epoch 46/1000\n",
      "267/267 [==============================] - 3s 12ms/step - loss: 0.5672 - accuracy: 0.8028 - val_loss: 0.7382 - val_accuracy: 0.7527\n",
      "Epoch 47/1000\n",
      "267/267 [==============================] - 3s 12ms/step - loss: 0.5640 - accuracy: 0.8051 - val_loss: 0.7157 - val_accuracy: 0.7600\n",
      "Epoch 48/1000\n",
      "267/267 [==============================] - 3s 12ms/step - loss: 0.5588 - accuracy: 0.8038 - val_loss: 0.7095 - val_accuracy: 0.7599\n",
      "Epoch 49/1000\n",
      "267/267 [==============================] - 3s 12ms/step - loss: 0.5644 - accuracy: 0.8044 - val_loss: 0.6911 - val_accuracy: 0.7643\n",
      "Epoch 50/1000\n",
      "267/267 [==============================] - 3s 12ms/step - loss: 0.5428 - accuracy: 0.8107 - val_loss: 0.7342 - val_accuracy: 0.7569\n",
      "Epoch 51/1000\n",
      "267/267 [==============================] - 3s 12ms/step - loss: 0.5340 - accuracy: 0.8125 - val_loss: 0.7062 - val_accuracy: 0.7633\n",
      "Epoch 52/1000\n",
      "267/267 [==============================] - 3s 12ms/step - loss: 0.5453 - accuracy: 0.8128 - val_loss: 0.7048 - val_accuracy: 0.7617\n",
      "Epoch 53/1000\n",
      "267/267 [==============================] - 3s 12ms/step - loss: 0.5385 - accuracy: 0.8125 - val_loss: 0.6957 - val_accuracy: 0.7665\n",
      "Epoch 54/1000\n",
      "267/267 [==============================] - 3s 12ms/step - loss: 0.5353 - accuracy: 0.8153 - val_loss: 0.7151 - val_accuracy: 0.7648\n",
      "Epoch 55/1000\n",
      "267/267 [==============================] - 3s 12ms/step - loss: 0.5131 - accuracy: 0.8197 - val_loss: 0.7152 - val_accuracy: 0.7644\n",
      "Epoch 56/1000\n",
      "267/267 [==============================] - 3s 12ms/step - loss: 0.5305 - accuracy: 0.8138 - val_loss: 0.7120 - val_accuracy: 0.7614\n",
      "Epoch 57/1000\n",
      "267/267 [==============================] - 3s 12ms/step - loss: 0.5310 - accuracy: 0.8152 - val_loss: 0.7071 - val_accuracy: 0.7640\n",
      "Epoch 58/1000\n",
      "267/267 [==============================] - 3s 12ms/step - loss: 0.5278 - accuracy: 0.8134 - val_loss: 0.7232 - val_accuracy: 0.7626\n",
      "Epoch 59/1000\n",
      "267/267 [==============================] - 3s 11ms/step - loss: 0.5297 - accuracy: 0.8145 - val_loss: 0.7366 - val_accuracy: 0.7614\n",
      "Epoch 60/1000\n",
      "267/267 [==============================] - 3s 12ms/step - loss: 0.5208 - accuracy: 0.8174 - val_loss: 0.7143 - val_accuracy: 0.7645\n",
      "Epoch 61/1000\n",
      "267/267 [==============================] - 3s 12ms/step - loss: 0.5356 - accuracy: 0.8138 - val_loss: 0.7135 - val_accuracy: 0.7611\n",
      "Epoch 62/1000\n",
      "267/267 [==============================] - 3s 12ms/step - loss: 0.5077 - accuracy: 0.8243 - val_loss: 0.7173 - val_accuracy: 0.7659\n",
      "Epoch 63/1000\n",
      "267/267 [==============================] - 3s 12ms/step - loss: 0.5146 - accuracy: 0.8193 - val_loss: 0.7194 - val_accuracy: 0.7660\n",
      "Epoch 64/1000\n",
      "267/267 [==============================] - 3s 12ms/step - loss: 0.5051 - accuracy: 0.8236 - val_loss: 0.7151 - val_accuracy: 0.7643\n",
      "Epoch 65/1000\n",
      "267/267 [==============================] - 3s 12ms/step - loss: 0.5115 - accuracy: 0.8215 - val_loss: 0.7015 - val_accuracy: 0.7683\n",
      "Epoch 66/1000\n",
      "267/267 [==============================] - 3s 12ms/step - loss: 0.5142 - accuracy: 0.8211 - val_loss: 0.7223 - val_accuracy: 0.7579\n",
      "Epoch 67/1000\n",
      "267/267 [==============================] - 3s 12ms/step - loss: 0.5079 - accuracy: 0.8211 - val_loss: 0.7180 - val_accuracy: 0.7636\n",
      "Epoch 68/1000\n",
      "267/267 [==============================] - 3s 12ms/step - loss: 0.5120 - accuracy: 0.8256 - val_loss: 0.6945 - val_accuracy: 0.7718\n",
      "Epoch 69/1000\n",
      "267/267 [==============================] - 3s 12ms/step - loss: 0.4982 - accuracy: 0.8255 - val_loss: 0.7170 - val_accuracy: 0.7635\n",
      "Epoch 70/1000\n",
      "267/267 [==============================] - 3s 12ms/step - loss: 0.4979 - accuracy: 0.8261 - val_loss: 0.7137 - val_accuracy: 0.7636\n",
      "Epoch 71/1000\n",
      "267/267 [==============================] - 3s 12ms/step - loss: 0.4878 - accuracy: 0.8315 - val_loss: 0.7128 - val_accuracy: 0.7635\n",
      "Epoch 72/1000\n",
      "267/267 [==============================] - 3s 12ms/step - loss: 0.4868 - accuracy: 0.8304 - val_loss: 0.7152 - val_accuracy: 0.7683\n",
      "Epoch 73/1000\n",
      "267/267 [==============================] - 3s 12ms/step - loss: 0.4969 - accuracy: 0.8273 - val_loss: 0.7185 - val_accuracy: 0.7659\n",
      "Epoch 74/1000\n",
      "267/267 [==============================] - 3s 12ms/step - loss: 0.4869 - accuracy: 0.8306 - val_loss: 0.7085 - val_accuracy: 0.7639\n",
      "Epoch 75/1000\n",
      "267/267 [==============================] - 3s 12ms/step - loss: 0.4851 - accuracy: 0.8315 - val_loss: 0.7144 - val_accuracy: 0.7693\n",
      "Epoch 76/1000\n",
      "267/267 [==============================] - 3s 12ms/step - loss: 0.4825 - accuracy: 0.8301 - val_loss: 0.7038 - val_accuracy: 0.7704\n",
      "Epoch 77/1000\n",
      "267/267 [==============================] - 3s 12ms/step - loss: 0.4715 - accuracy: 0.8362 - val_loss: 0.7194 - val_accuracy: 0.7653\n",
      "Epoch 78/1000\n",
      "267/267 [==============================] - 3s 12ms/step - loss: 0.4811 - accuracy: 0.8330 - val_loss: 0.7129 - val_accuracy: 0.7655\n",
      "Epoch 79/1000\n",
      "267/267 [==============================] - 3s 12ms/step - loss: 0.4665 - accuracy: 0.8368 - val_loss: 0.7381 - val_accuracy: 0.7666\n",
      "Epoch 80/1000\n",
      "267/267 [==============================] - 3s 12ms/step - loss: 0.4894 - accuracy: 0.8292 - val_loss: 0.7428 - val_accuracy: 0.7635\n",
      "Epoch 81/1000\n",
      "267/267 [==============================] - 3s 12ms/step - loss: 0.4697 - accuracy: 0.8334 - val_loss: 0.7197 - val_accuracy: 0.7678\n",
      "Epoch 82/1000\n",
      "267/267 [==============================] - 3s 12ms/step - loss: 0.4636 - accuracy: 0.8365 - val_loss: 0.7450 - val_accuracy: 0.7599\n",
      "Epoch 83/1000\n",
      "267/267 [==============================] - 3s 12ms/step - loss: 0.4759 - accuracy: 0.8335 - val_loss: 0.7202 - val_accuracy: 0.7668\n",
      "Epoch 84/1000\n",
      "267/267 [==============================] - 3s 12ms/step - loss: 0.4713 - accuracy: 0.8385 - val_loss: 0.7358 - val_accuracy: 0.7629\n",
      "Epoch 85/1000\n",
      "267/267 [==============================] - 3s 12ms/step - loss: 0.4609 - accuracy: 0.8376 - val_loss: 0.7218 - val_accuracy: 0.7691\n",
      "Epoch 86/1000\n",
      "267/267 [==============================] - 3s 12ms/step - loss: 0.4637 - accuracy: 0.8391 - val_loss: 0.7395 - val_accuracy: 0.7638\n",
      "Epoch 87/1000\n",
      "267/267 [==============================] - 3s 12ms/step - loss: 0.4677 - accuracy: 0.8360 - val_loss: 0.7263 - val_accuracy: 0.7679\n",
      "Epoch 88/1000\n",
      "267/267 [==============================] - 3s 12ms/step - loss: 0.4615 - accuracy: 0.8383 - val_loss: 0.7155 - val_accuracy: 0.7685\n",
      "Epoch 89/1000\n",
      "267/267 [==============================] - 3s 12ms/step - loss: 0.4569 - accuracy: 0.8427 - val_loss: 0.7474 - val_accuracy: 0.7664\n",
      "Epoch 90/1000\n",
      "267/267 [==============================] - 3s 12ms/step - loss: 0.4561 - accuracy: 0.8407 - val_loss: 0.7112 - val_accuracy: 0.7708\n",
      "Epoch 91/1000\n",
      "267/267 [==============================] - 3s 12ms/step - loss: 0.4550 - accuracy: 0.8396 - val_loss: 0.7357 - val_accuracy: 0.7706\n",
      "Epoch 92/1000\n",
      "267/267 [==============================] - 3s 12ms/step - loss: 0.4622 - accuracy: 0.8366 - val_loss: 0.7111 - val_accuracy: 0.7693\n",
      "Epoch 93/1000\n",
      "267/267 [==============================] - 3s 12ms/step - loss: 0.4497 - accuracy: 0.8422 - val_loss: 0.7390 - val_accuracy: 0.7702\n",
      "Epoch 94/1000\n",
      "267/267 [==============================] - 3s 12ms/step - loss: 0.4537 - accuracy: 0.8420 - val_loss: 0.7387 - val_accuracy: 0.7603\n",
      "Epoch 95/1000\n",
      "267/267 [==============================] - 3s 12ms/step - loss: 0.4578 - accuracy: 0.8406 - val_loss: 0.7364 - val_accuracy: 0.7675\n",
      "Epoch 96/1000\n",
      "267/267 [==============================] - 3s 12ms/step - loss: 0.4569 - accuracy: 0.8406 - val_loss: 0.7323 - val_accuracy: 0.7688\n",
      "Epoch 97/1000\n",
      "267/267 [==============================] - 3s 12ms/step - loss: 0.4505 - accuracy: 0.8437 - val_loss: 0.7165 - val_accuracy: 0.7729\n",
      "Epoch 98/1000\n",
      "267/267 [==============================] - 3s 12ms/step - loss: 0.4476 - accuracy: 0.8461 - val_loss: 0.7307 - val_accuracy: 0.7706\n",
      "Epoch 99/1000\n",
      "267/267 [==============================] - 3s 12ms/step - loss: 0.4333 - accuracy: 0.8489 - val_loss: 0.7253 - val_accuracy: 0.7691\n",
      "Epoch 100/1000\n",
      "267/267 [==============================] - 3s 12ms/step - loss: 0.4338 - accuracy: 0.8479 - val_loss: 0.7577 - val_accuracy: 0.7671\n",
      "Epoch 101/1000\n",
      "267/267 [==============================] - 3s 12ms/step - loss: 0.4379 - accuracy: 0.8475 - val_loss: 0.7252 - val_accuracy: 0.7685\n",
      "Epoch 102/1000\n",
      "267/267 [==============================] - 3s 12ms/step - loss: 0.4328 - accuracy: 0.8533 - val_loss: 0.7391 - val_accuracy: 0.7644\n",
      "Epoch 103/1000\n",
      "267/267 [==============================] - 3s 12ms/step - loss: 0.4448 - accuracy: 0.8472 - val_loss: 0.7443 - val_accuracy: 0.7656\n",
      "Epoch 104/1000\n",
      "267/267 [==============================] - 3s 12ms/step - loss: 0.4433 - accuracy: 0.8458 - val_loss: 0.7249 - val_accuracy: 0.7675\n",
      "Epoch 105/1000\n",
      "267/267 [==============================] - 3s 12ms/step - loss: 0.4229 - accuracy: 0.8507 - val_loss: 0.7271 - val_accuracy: 0.7700\n",
      "Epoch 106/1000\n",
      "267/267 [==============================] - 3s 12ms/step - loss: 0.4459 - accuracy: 0.8430 - val_loss: 0.7376 - val_accuracy: 0.7692\n",
      "Epoch 107/1000\n",
      "267/267 [==============================] - 3s 12ms/step - loss: 0.4367 - accuracy: 0.8465 - val_loss: 0.7307 - val_accuracy: 0.7639\n",
      "Epoch 108/1000\n",
      "267/267 [==============================] - 3s 12ms/step - loss: 0.4356 - accuracy: 0.8503 - val_loss: 0.7437 - val_accuracy: 0.7692\n",
      "Epoch 109/1000\n",
      "267/267 [==============================] - 3s 12ms/step - loss: 0.4345 - accuracy: 0.8478 - val_loss: 0.7226 - val_accuracy: 0.7722\n",
      "Epoch 110/1000\n",
      "267/267 [==============================] - 3s 12ms/step - loss: 0.4198 - accuracy: 0.8558 - val_loss: 0.7323 - val_accuracy: 0.7692\n",
      "Epoch 111/1000\n",
      "267/267 [==============================] - 3s 12ms/step - loss: 0.4289 - accuracy: 0.8494 - val_loss: 0.7243 - val_accuracy: 0.7731\n",
      "Epoch 112/1000\n",
      "267/267 [==============================] - 3s 12ms/step - loss: 0.4288 - accuracy: 0.8520 - val_loss: 0.7246 - val_accuracy: 0.7715\n",
      "Epoch 113/1000\n",
      "267/267 [==============================] - 3s 12ms/step - loss: 0.4238 - accuracy: 0.8538 - val_loss: 0.7353 - val_accuracy: 0.7660\n",
      "Epoch 114/1000\n",
      "267/267 [==============================] - 3s 12ms/step - loss: 0.4294 - accuracy: 0.8508 - val_loss: 0.7212 - val_accuracy: 0.7720\n",
      "Epoch 115/1000\n",
      "267/267 [==============================] - 3s 12ms/step - loss: 0.4177 - accuracy: 0.8539 - val_loss: 0.7393 - val_accuracy: 0.7686\n",
      "Epoch 116/1000\n",
      "267/267 [==============================] - 3s 12ms/step - loss: 0.4192 - accuracy: 0.8545 - val_loss: 0.7084 - val_accuracy: 0.7740\n",
      "Epoch 117/1000\n",
      "267/267 [==============================] - 3s 12ms/step - loss: 0.4200 - accuracy: 0.8519 - val_loss: 0.7225 - val_accuracy: 0.7708\n",
      "Epoch 118/1000\n",
      "267/267 [==============================] - 3s 12ms/step - loss: 0.4151 - accuracy: 0.8534 - val_loss: 0.7311 - val_accuracy: 0.7693\n",
      "Epoch 119/1000\n",
      "267/267 [==============================] - 3s 12ms/step - loss: 0.4191 - accuracy: 0.8546 - val_loss: 0.7132 - val_accuracy: 0.7775\n",
      "Epoch 120/1000\n",
      "267/267 [==============================] - 3s 12ms/step - loss: 0.4097 - accuracy: 0.8586 - val_loss: 0.7014 - val_accuracy: 0.7744\n",
      "Epoch 121/1000\n",
      "267/267 [==============================] - 3s 12ms/step - loss: 0.4113 - accuracy: 0.8600 - val_loss: 0.7416 - val_accuracy: 0.7716\n",
      "Epoch 122/1000\n",
      "267/267 [==============================] - 3s 12ms/step - loss: 0.4122 - accuracy: 0.8550 - val_loss: 0.7372 - val_accuracy: 0.7714\n",
      "Epoch 123/1000\n",
      "267/267 [==============================] - 3s 12ms/step - loss: 0.4075 - accuracy: 0.8570 - val_loss: 0.7503 - val_accuracy: 0.7710\n",
      "Epoch 124/1000\n",
      "267/267 [==============================] - 3s 12ms/step - loss: 0.4161 - accuracy: 0.8551 - val_loss: 0.7499 - val_accuracy: 0.7706\n",
      "Epoch 125/1000\n",
      "267/267 [==============================] - 3s 12ms/step - loss: 0.4153 - accuracy: 0.8542 - val_loss: 0.7292 - val_accuracy: 0.7752\n",
      "Epoch 126/1000\n",
      "267/267 [==============================] - 3s 12ms/step - loss: 0.4076 - accuracy: 0.8593 - val_loss: 0.7263 - val_accuracy: 0.7744\n",
      "Epoch 127/1000\n",
      "267/267 [==============================] - 3s 12ms/step - loss: 0.4033 - accuracy: 0.8626 - val_loss: 0.7526 - val_accuracy: 0.7700\n",
      "Epoch 128/1000\n",
      "267/267 [==============================] - 3s 12ms/step - loss: 0.4079 - accuracy: 0.8595 - val_loss: 0.7235 - val_accuracy: 0.7713\n",
      "Epoch 129/1000\n",
      "267/267 [==============================] - 3s 12ms/step - loss: 0.4069 - accuracy: 0.8577 - val_loss: 0.7353 - val_accuracy: 0.7718\n",
      "Epoch 130/1000\n",
      "267/267 [==============================] - 3s 12ms/step - loss: 0.4204 - accuracy: 0.8554 - val_loss: 0.7185 - val_accuracy: 0.7742\n",
      "Epoch 131/1000\n",
      "267/267 [==============================] - 3s 12ms/step - loss: 0.4124 - accuracy: 0.8574 - val_loss: 0.7388 - val_accuracy: 0.7659\n",
      "Epoch 132/1000\n",
      "267/267 [==============================] - 3s 12ms/step - loss: 0.4099 - accuracy: 0.8557 - val_loss: 0.7297 - val_accuracy: 0.7699\n",
      "Epoch 133/1000\n",
      "267/267 [==============================] - 3s 12ms/step - loss: 0.4087 - accuracy: 0.8546 - val_loss: 0.7260 - val_accuracy: 0.7721\n",
      "Epoch 134/1000\n",
      "267/267 [==============================] - 3s 12ms/step - loss: 0.4042 - accuracy: 0.8580 - val_loss: 0.7190 - val_accuracy: 0.7762\n",
      "Epoch 135/1000\n",
      "267/267 [==============================] - 3s 12ms/step - loss: 0.3917 - accuracy: 0.8648 - val_loss: 0.7398 - val_accuracy: 0.7701\n",
      "Epoch 136/1000\n",
      "267/267 [==============================] - 3s 12ms/step - loss: 0.4026 - accuracy: 0.8626 - val_loss: 0.7593 - val_accuracy: 0.7698\n",
      "Epoch 137/1000\n",
      "267/267 [==============================] - 3s 12ms/step - loss: 0.4015 - accuracy: 0.8607 - val_loss: 0.7234 - val_accuracy: 0.7784\n",
      "Epoch 138/1000\n",
      "267/267 [==============================] - 3s 12ms/step - loss: 0.4092 - accuracy: 0.8587 - val_loss: 0.7467 - val_accuracy: 0.7690\n",
      "Epoch 139/1000\n",
      "267/267 [==============================] - 3s 12ms/step - loss: 0.3987 - accuracy: 0.8642 - val_loss: 0.7786 - val_accuracy: 0.7593\n",
      "Epoch 140/1000\n",
      "267/267 [==============================] - 3s 12ms/step - loss: 0.4032 - accuracy: 0.8605 - val_loss: 0.7158 - val_accuracy: 0.7747\n",
      "Epoch 141/1000\n",
      "267/267 [==============================] - 3s 12ms/step - loss: 0.3925 - accuracy: 0.8626 - val_loss: 0.7569 - val_accuracy: 0.7711\n",
      "Epoch 142/1000\n",
      "267/267 [==============================] - 3s 12ms/step - loss: 0.4024 - accuracy: 0.8617 - val_loss: 0.7278 - val_accuracy: 0.7739\n",
      "Epoch 143/1000\n",
      "267/267 [==============================] - 3s 12ms/step - loss: 0.4004 - accuracy: 0.8594 - val_loss: 0.7449 - val_accuracy: 0.7702\n",
      "Epoch 144/1000\n",
      "267/267 [==============================] - 3s 12ms/step - loss: 0.3849 - accuracy: 0.8644 - val_loss: 0.7380 - val_accuracy: 0.7691\n",
      "Epoch 145/1000\n",
      "267/267 [==============================] - 3s 12ms/step - loss: 0.4049 - accuracy: 0.8585 - val_loss: 0.7408 - val_accuracy: 0.7702\n",
      "Epoch 146/1000\n",
      "267/267 [==============================] - 3s 12ms/step - loss: 0.3962 - accuracy: 0.8638 - val_loss: 0.7438 - val_accuracy: 0.7656\n",
      "Epoch 147/1000\n",
      "267/267 [==============================] - 3s 12ms/step - loss: 0.3952 - accuracy: 0.8634 - val_loss: 0.7595 - val_accuracy: 0.7664\n",
      "Epoch 148/1000\n",
      "267/267 [==============================] - 3s 12ms/step - loss: 0.3888 - accuracy: 0.8668 - val_loss: 0.7317 - val_accuracy: 0.7756\n",
      "Epoch 149/1000\n",
      "267/267 [==============================] - 3s 12ms/step - loss: 0.3963 - accuracy: 0.8645 - val_loss: 0.7374 - val_accuracy: 0.7690\n",
      "Epoch 150/1000\n",
      "267/267 [==============================] - 3s 12ms/step - loss: 0.3839 - accuracy: 0.8685 - val_loss: 0.7400 - val_accuracy: 0.7702\n",
      "Epoch 151/1000\n",
      "267/267 [==============================] - 3s 12ms/step - loss: 0.3887 - accuracy: 0.8646 - val_loss: 0.7410 - val_accuracy: 0.7704\n",
      "Epoch 152/1000\n",
      "267/267 [==============================] - 3s 12ms/step - loss: 0.3933 - accuracy: 0.8636 - val_loss: 0.7421 - val_accuracy: 0.7730\n",
      "Epoch 153/1000\n",
      "267/267 [==============================] - 3s 12ms/step - loss: 0.3966 - accuracy: 0.8652 - val_loss: 0.7343 - val_accuracy: 0.7721\n",
      "Epoch 154/1000\n",
      "267/267 [==============================] - 3s 12ms/step - loss: 0.3943 - accuracy: 0.8642 - val_loss: 0.7219 - val_accuracy: 0.7728\n",
      "Epoch 155/1000\n",
      "267/267 [==============================] - 3s 12ms/step - loss: 0.3886 - accuracy: 0.8644 - val_loss: 0.7484 - val_accuracy: 0.7754\n",
      "Epoch 156/1000\n",
      "267/267 [==============================] - 3s 12ms/step - loss: 0.3889 - accuracy: 0.8675 - val_loss: 0.7170 - val_accuracy: 0.7739\n",
      "Epoch 157/1000\n",
      "267/267 [==============================] - 3s 12ms/step - loss: 0.3777 - accuracy: 0.8681 - val_loss: 0.7434 - val_accuracy: 0.7703\n",
      "Epoch 158/1000\n",
      "267/267 [==============================] - 3s 12ms/step - loss: 0.3877 - accuracy: 0.8679 - val_loss: 0.7209 - val_accuracy: 0.7724\n",
      "Epoch 159/1000\n",
      "267/267 [==============================] - 3s 12ms/step - loss: 0.3742 - accuracy: 0.8673 - val_loss: 0.7558 - val_accuracy: 0.7680\n",
      "Epoch 160/1000\n",
      "267/267 [==============================] - 3s 12ms/step - loss: 0.3853 - accuracy: 0.8655 - val_loss: 0.7373 - val_accuracy: 0.7766\n",
      "Epoch 161/1000\n",
      "267/267 [==============================] - 3s 12ms/step - loss: 0.3892 - accuracy: 0.8683 - val_loss: 0.7439 - val_accuracy: 0.7754\n",
      "Epoch 162/1000\n",
      "267/267 [==============================] - 3s 12ms/step - loss: 0.3807 - accuracy: 0.8673 - val_loss: 0.7696 - val_accuracy: 0.7677\n",
      "Epoch 163/1000\n",
      "267/267 [==============================] - 3s 12ms/step - loss: 0.3797 - accuracy: 0.8682 - val_loss: 0.7740 - val_accuracy: 0.7648\n",
      "Epoch 164/1000\n",
      "267/267 [==============================] - 3s 12ms/step - loss: 0.3706 - accuracy: 0.8681 - val_loss: 0.7403 - val_accuracy: 0.7682\n",
      "Epoch 165/1000\n",
      "267/267 [==============================] - 3s 12ms/step - loss: 0.3849 - accuracy: 0.8662 - val_loss: 0.7592 - val_accuracy: 0.7715\n",
      "Epoch 166/1000\n",
      "267/267 [==============================] - 3s 12ms/step - loss: 0.3782 - accuracy: 0.8715 - val_loss: 0.7556 - val_accuracy: 0.7688\n",
      "Epoch 167/1000\n",
      "267/267 [==============================] - 3s 12ms/step - loss: 0.3858 - accuracy: 0.8675 - val_loss: 0.7439 - val_accuracy: 0.7728\n",
      "Epoch 168/1000\n",
      "267/267 [==============================] - 3s 12ms/step - loss: 0.3768 - accuracy: 0.8682 - val_loss: 0.7345 - val_accuracy: 0.7759\n",
      "Epoch 169/1000\n",
      "267/267 [==============================] - 3s 12ms/step - loss: 0.3779 - accuracy: 0.8711 - val_loss: 0.7673 - val_accuracy: 0.7713\n",
      "Epoch 170/1000\n",
      "267/267 [==============================] - 3s 12ms/step - loss: 0.3824 - accuracy: 0.8669 - val_loss: 0.7514 - val_accuracy: 0.7719\n",
      "Epoch 171/1000\n",
      "267/267 [==============================] - 3s 12ms/step - loss: 0.3787 - accuracy: 0.8682 - val_loss: 0.7289 - val_accuracy: 0.7752\n",
      "Epoch 172/1000\n",
      "267/267 [==============================] - 3s 12ms/step - loss: 0.3668 - accuracy: 0.8746 - val_loss: 0.7370 - val_accuracy: 0.7721\n",
      "Epoch 173/1000\n",
      "267/267 [==============================] - 3s 12ms/step - loss: 0.3804 - accuracy: 0.8678 - val_loss: 0.7486 - val_accuracy: 0.7758\n",
      "Epoch 174/1000\n",
      "267/267 [==============================] - 3s 12ms/step - loss: 0.3728 - accuracy: 0.8733 - val_loss: 0.7584 - val_accuracy: 0.7759\n",
      "Epoch 175/1000\n",
      "267/267 [==============================] - 3s 12ms/step - loss: 0.3719 - accuracy: 0.8687 - val_loss: 0.7516 - val_accuracy: 0.7768\n",
      "Epoch 176/1000\n",
      "267/267 [==============================] - 3s 12ms/step - loss: 0.3793 - accuracy: 0.8657 - val_loss: 0.7878 - val_accuracy: 0.7721\n",
      "Epoch 177/1000\n",
      "267/267 [==============================] - 3s 12ms/step - loss: 0.3814 - accuracy: 0.8708 - val_loss: 0.7705 - val_accuracy: 0.7712\n",
      "Epoch 178/1000\n",
      "267/267 [==============================] - 3s 12ms/step - loss: 0.3747 - accuracy: 0.8675 - val_loss: 0.7372 - val_accuracy: 0.7776\n",
      "Epoch 179/1000\n",
      "267/267 [==============================] - 3s 12ms/step - loss: 0.3736 - accuracy: 0.8699 - val_loss: 0.7607 - val_accuracy: 0.7698\n",
      "Epoch 180/1000\n",
      "267/267 [==============================] - 3s 12ms/step - loss: 0.3699 - accuracy: 0.8715 - val_loss: 0.7630 - val_accuracy: 0.7745\n",
      "Epoch 181/1000\n",
      "267/267 [==============================] - 3s 12ms/step - loss: 0.3605 - accuracy: 0.8762 - val_loss: 0.7299 - val_accuracy: 0.7795\n",
      "Epoch 182/1000\n",
      "267/267 [==============================] - 3s 12ms/step - loss: 0.3633 - accuracy: 0.8723 - val_loss: 0.7435 - val_accuracy: 0.7746\n",
      "Epoch 183/1000\n",
      "267/267 [==============================] - 3s 12ms/step - loss: 0.3759 - accuracy: 0.8698 - val_loss: 0.7345 - val_accuracy: 0.7762\n",
      "Epoch 184/1000\n",
      "267/267 [==============================] - 3s 12ms/step - loss: 0.3669 - accuracy: 0.8742 - val_loss: 0.7300 - val_accuracy: 0.7777\n",
      "Epoch 185/1000\n",
      "267/267 [==============================] - 3s 12ms/step - loss: 0.3694 - accuracy: 0.8733 - val_loss: 0.7388 - val_accuracy: 0.7757\n",
      "Epoch 186/1000\n",
      "267/267 [==============================] - 3s 12ms/step - loss: 0.3707 - accuracy: 0.8713 - val_loss: 0.7579 - val_accuracy: 0.7723\n",
      "Epoch 187/1000\n",
      "267/267 [==============================] - 3s 12ms/step - loss: 0.3668 - accuracy: 0.8718 - val_loss: 0.7484 - val_accuracy: 0.7736\n",
      "Epoch 188/1000\n",
      "267/267 [==============================] - 3s 12ms/step - loss: 0.3717 - accuracy: 0.8708 - val_loss: 0.7538 - val_accuracy: 0.7715\n",
      "Epoch 189/1000\n",
      "267/267 [==============================] - 3s 12ms/step - loss: 0.3688 - accuracy: 0.8732 - val_loss: 0.7522 - val_accuracy: 0.7713\n",
      "Epoch 190/1000\n",
      "267/267 [==============================] - 3s 12ms/step - loss: 0.3601 - accuracy: 0.8773 - val_loss: 0.7588 - val_accuracy: 0.7756\n",
      "Epoch 191/1000\n",
      "267/267 [==============================] - 3s 12ms/step - loss: 0.3566 - accuracy: 0.8771 - val_loss: 0.7419 - val_accuracy: 0.7740\n",
      "Epoch 192/1000\n",
      "267/267 [==============================] - 3s 12ms/step - loss: 0.3692 - accuracy: 0.8728 - val_loss: 0.7366 - val_accuracy: 0.7768\n",
      "Epoch 193/1000\n",
      "267/267 [==============================] - 3s 12ms/step - loss: 0.3594 - accuracy: 0.8756 - val_loss: 0.7563 - val_accuracy: 0.7748\n",
      "Epoch 194/1000\n",
      "267/267 [==============================] - 3s 12ms/step - loss: 0.3785 - accuracy: 0.8705 - val_loss: 0.7532 - val_accuracy: 0.7700\n",
      "Epoch 195/1000\n",
      "267/267 [==============================] - 3s 12ms/step - loss: 0.3785 - accuracy: 0.8695 - val_loss: 0.7465 - val_accuracy: 0.7710\n",
      "Epoch 196/1000\n",
      "267/267 [==============================] - 3s 12ms/step - loss: 0.3709 - accuracy: 0.8719 - val_loss: 0.7465 - val_accuracy: 0.7745\n",
      "Epoch 197/1000\n",
      "267/267 [==============================] - 3s 12ms/step - loss: 0.3565 - accuracy: 0.8772 - val_loss: 0.7435 - val_accuracy: 0.7743\n",
      "Epoch 198/1000\n",
      "267/267 [==============================] - 3s 12ms/step - loss: 0.3623 - accuracy: 0.8763 - val_loss: 0.7492 - val_accuracy: 0.7751\n",
      "Epoch 199/1000\n",
      "267/267 [==============================] - 3s 12ms/step - loss: 0.3656 - accuracy: 0.8734 - val_loss: 0.7719 - val_accuracy: 0.7726\n",
      "Epoch 200/1000\n",
      "267/267 [==============================] - 3s 12ms/step - loss: 0.3672 - accuracy: 0.8749 - val_loss: 0.7476 - val_accuracy: 0.7705\n",
      "Epoch 201/1000\n",
      "267/267 [==============================] - 3s 12ms/step - loss: 0.3606 - accuracy: 0.8767 - val_loss: 0.7593 - val_accuracy: 0.7713\n",
      "Epoch 202/1000\n",
      "267/267 [==============================] - 3s 12ms/step - loss: 0.3661 - accuracy: 0.8736 - val_loss: 0.7504 - val_accuracy: 0.7742\n",
      "Epoch 203/1000\n",
      "267/267 [==============================] - 3s 12ms/step - loss: 0.3714 - accuracy: 0.8711 - val_loss: 0.7315 - val_accuracy: 0.7745\n",
      "Epoch 204/1000\n",
      "267/267 [==============================] - 3s 12ms/step - loss: 0.3666 - accuracy: 0.8770 - val_loss: 0.7479 - val_accuracy: 0.7737\n",
      "Epoch 205/1000\n",
      "267/267 [==============================] - 3s 12ms/step - loss: 0.3609 - accuracy: 0.8739 - val_loss: 0.7502 - val_accuracy: 0.7753\n",
      "Epoch 206/1000\n",
      "267/267 [==============================] - 3s 12ms/step - loss: 0.3709 - accuracy: 0.8705 - val_loss: 0.7509 - val_accuracy: 0.7779\n",
      "Epoch 207/1000\n",
      "267/267 [==============================] - 3s 12ms/step - loss: 0.3700 - accuracy: 0.8753 - val_loss: 0.7577 - val_accuracy: 0.7703\n",
      "Epoch 208/1000\n",
      "267/267 [==============================] - 3s 12ms/step - loss: 0.3654 - accuracy: 0.8759 - val_loss: 0.7452 - val_accuracy: 0.7731\n",
      "Epoch 209/1000\n",
      "267/267 [==============================] - 3s 12ms/step - loss: 0.3624 - accuracy: 0.8736 - val_loss: 0.7435 - val_accuracy: 0.7717\n",
      "Epoch 210/1000\n",
      "267/267 [==============================] - 3s 12ms/step - loss: 0.3614 - accuracy: 0.8756 - val_loss: 0.7455 - val_accuracy: 0.7709\n",
      "Epoch 211/1000\n",
      "267/267 [==============================] - 3s 12ms/step - loss: 0.3672 - accuracy: 0.8711 - val_loss: 0.7691 - val_accuracy: 0.7663\n",
      "Epoch 212/1000\n",
      "267/267 [==============================] - 3s 12ms/step - loss: 0.3656 - accuracy: 0.8767 - val_loss: 0.7443 - val_accuracy: 0.7719\n",
      "Epoch 213/1000\n",
      "267/267 [==============================] - 3s 12ms/step - loss: 0.3543 - accuracy: 0.8781 - val_loss: 0.7435 - val_accuracy: 0.7778\n",
      "Epoch 214/1000\n",
      "267/267 [==============================] - 3s 12ms/step - loss: 0.3679 - accuracy: 0.8732 - val_loss: 0.7403 - val_accuracy: 0.7806\n",
      "Epoch 215/1000\n",
      "267/267 [==============================] - 3s 12ms/step - loss: 0.3609 - accuracy: 0.8760 - val_loss: 0.7394 - val_accuracy: 0.7786\n",
      "Epoch 216/1000\n",
      "267/267 [==============================] - 3s 12ms/step - loss: 0.3493 - accuracy: 0.8806 - val_loss: 0.7690 - val_accuracy: 0.7730\n",
      "Epoch 217/1000\n",
      "267/267 [==============================] - 3s 12ms/step - loss: 0.3529 - accuracy: 0.8789 - val_loss: 0.7688 - val_accuracy: 0.7750\n",
      "Epoch 218/1000\n",
      "267/267 [==============================] - 3s 12ms/step - loss: 0.3591 - accuracy: 0.8788 - val_loss: 0.7423 - val_accuracy: 0.7795\n",
      "Epoch 219/1000\n",
      "267/267 [==============================] - 3s 12ms/step - loss: 0.3531 - accuracy: 0.8794 - val_loss: 0.7612 - val_accuracy: 0.7752\n",
      "Epoch 220/1000\n",
      "267/267 [==============================] - 3s 12ms/step - loss: 0.3657 - accuracy: 0.8765 - val_loss: 0.7406 - val_accuracy: 0.7753\n",
      "Epoch 221/1000\n",
      "267/267 [==============================] - 3s 12ms/step - loss: 0.3581 - accuracy: 0.8757 - val_loss: 0.7555 - val_accuracy: 0.7697\n",
      "Epoch 222/1000\n",
      "267/267 [==============================] - 3s 12ms/step - loss: 0.3603 - accuracy: 0.8771 - val_loss: 0.7351 - val_accuracy: 0.7734\n",
      "Epoch 223/1000\n",
      "267/267 [==============================] - 3s 12ms/step - loss: 0.3485 - accuracy: 0.8819 - val_loss: 0.7786 - val_accuracy: 0.7695\n",
      "Epoch 224/1000\n",
      "267/267 [==============================] - 3s 12ms/step - loss: 0.3521 - accuracy: 0.8794 - val_loss: 0.7532 - val_accuracy: 0.7716\n",
      "Epoch 225/1000\n",
      "267/267 [==============================] - 3s 12ms/step - loss: 0.3581 - accuracy: 0.8771 - val_loss: 0.7486 - val_accuracy: 0.7747\n",
      "Epoch 226/1000\n",
      "267/267 [==============================] - 3s 12ms/step - loss: 0.3588 - accuracy: 0.8778 - val_loss: 0.7698 - val_accuracy: 0.7744\n",
      "Epoch 227/1000\n",
      "267/267 [==============================] - 3s 12ms/step - loss: 0.3578 - accuracy: 0.8768 - val_loss: 0.7411 - val_accuracy: 0.7764\n",
      "Epoch 228/1000\n",
      "267/267 [==============================] - 3s 12ms/step - loss: 0.3485 - accuracy: 0.8796 - val_loss: 0.7678 - val_accuracy: 0.7696\n",
      "Epoch 229/1000\n",
      "267/267 [==============================] - 3s 12ms/step - loss: 0.3429 - accuracy: 0.8818 - val_loss: 0.7552 - val_accuracy: 0.7756\n",
      "Epoch 230/1000\n",
      "267/267 [==============================] - 3s 12ms/step - loss: 0.3505 - accuracy: 0.8799 - val_loss: 0.7765 - val_accuracy: 0.7739\n",
      "Epoch 231/1000\n",
      "267/267 [==============================] - 3s 12ms/step - loss: 0.3528 - accuracy: 0.8777 - val_loss: 0.7440 - val_accuracy: 0.7734\n",
      "Epoch 232/1000\n",
      "267/267 [==============================] - 3s 12ms/step - loss: 0.3515 - accuracy: 0.8787 - val_loss: 0.7763 - val_accuracy: 0.7709\n",
      "Epoch 233/1000\n",
      "267/267 [==============================] - 3s 12ms/step - loss: 0.3536 - accuracy: 0.8786 - val_loss: 0.7576 - val_accuracy: 0.7735\n",
      "Epoch 234/1000\n",
      "267/267 [==============================] - 3s 12ms/step - loss: 0.3605 - accuracy: 0.8778 - val_loss: 0.7560 - val_accuracy: 0.7751\n",
      "Epoch 235/1000\n",
      "267/267 [==============================] - 3s 12ms/step - loss: 0.3529 - accuracy: 0.8779 - val_loss: 0.7742 - val_accuracy: 0.7715\n",
      "Epoch 236/1000\n",
      "267/267 [==============================] - 3s 12ms/step - loss: 0.3548 - accuracy: 0.8767 - val_loss: 0.7487 - val_accuracy: 0.7753\n",
      "Epoch 237/1000\n",
      "267/267 [==============================] - 3s 12ms/step - loss: 0.3530 - accuracy: 0.8818 - val_loss: 0.7711 - val_accuracy: 0.7737\n",
      "Epoch 238/1000\n",
      "267/267 [==============================] - 3s 12ms/step - loss: 0.3505 - accuracy: 0.8772 - val_loss: 0.7859 - val_accuracy: 0.7692\n",
      "Epoch 239/1000\n",
      "267/267 [==============================] - 3s 12ms/step - loss: 0.3489 - accuracy: 0.8792 - val_loss: 0.7673 - val_accuracy: 0.7708\n",
      "Epoch 240/1000\n",
      "267/267 [==============================] - 3s 12ms/step - loss: 0.3580 - accuracy: 0.8770 - val_loss: 0.7715 - val_accuracy: 0.7728\n",
      "Epoch 241/1000\n",
      "267/267 [==============================] - 3s 12ms/step - loss: 0.3440 - accuracy: 0.8849 - val_loss: 0.7667 - val_accuracy: 0.7736\n",
      "Epoch 242/1000\n",
      "267/267 [==============================] - 3s 12ms/step - loss: 0.3555 - accuracy: 0.8778 - val_loss: 0.7646 - val_accuracy: 0.7722\n",
      "Epoch 243/1000\n",
      "267/267 [==============================] - 3s 12ms/step - loss: 0.3434 - accuracy: 0.8808 - val_loss: 0.7948 - val_accuracy: 0.7729\n",
      "Epoch 244/1000\n",
      "267/267 [==============================] - 3s 12ms/step - loss: 0.3463 - accuracy: 0.8830 - val_loss: 0.7845 - val_accuracy: 0.7708\n",
      "Epoch 245/1000\n",
      "267/267 [==============================] - 3s 12ms/step - loss: 0.3459 - accuracy: 0.8829 - val_loss: 0.7534 - val_accuracy: 0.7773\n",
      "Epoch 246/1000\n",
      "267/267 [==============================] - 3s 12ms/step - loss: 0.3611 - accuracy: 0.8758 - val_loss: 0.7780 - val_accuracy: 0.7663\n",
      "Epoch 247/1000\n",
      "267/267 [==============================] - 3s 12ms/step - loss: 0.3423 - accuracy: 0.8806 - val_loss: 0.7511 - val_accuracy: 0.7751\n",
      "Epoch 248/1000\n",
      "267/267 [==============================] - 3s 12ms/step - loss: 0.3400 - accuracy: 0.8833 - val_loss: 0.7775 - val_accuracy: 0.7697\n",
      "Epoch 249/1000\n",
      "267/267 [==============================] - 3s 12ms/step - loss: 0.3430 - accuracy: 0.8827 - val_loss: 0.7806 - val_accuracy: 0.7764\n",
      "Epoch 250/1000\n",
      "267/267 [==============================] - 3s 12ms/step - loss: 0.3451 - accuracy: 0.8832 - val_loss: 0.7524 - val_accuracy: 0.7747\n",
      "Epoch 251/1000\n",
      "267/267 [==============================] - 3s 12ms/step - loss: 0.3396 - accuracy: 0.8849 - val_loss: 0.7601 - val_accuracy: 0.7728\n",
      "Epoch 252/1000\n",
      "267/267 [==============================] - 3s 12ms/step - loss: 0.3495 - accuracy: 0.8799 - val_loss: 0.7930 - val_accuracy: 0.7694\n",
      "Epoch 253/1000\n",
      "267/267 [==============================] - 3s 12ms/step - loss: 0.3455 - accuracy: 0.8825 - val_loss: 0.7632 - val_accuracy: 0.7678\n",
      "Epoch 254/1000\n",
      "267/267 [==============================] - 3s 12ms/step - loss: 0.3358 - accuracy: 0.8866 - val_loss: 0.7503 - val_accuracy: 0.7728\n",
      "Epoch 255/1000\n",
      "267/267 [==============================] - 3s 12ms/step - loss: 0.3567 - accuracy: 0.8788 - val_loss: 0.7458 - val_accuracy: 0.7772\n",
      "Epoch 256/1000\n",
      "267/267 [==============================] - 3s 12ms/step - loss: 0.3416 - accuracy: 0.8826 - val_loss: 0.7548 - val_accuracy: 0.7723\n",
      "Epoch 257/1000\n",
      "267/267 [==============================] - 3s 12ms/step - loss: 0.3416 - accuracy: 0.8829 - val_loss: 0.7538 - val_accuracy: 0.7717\n",
      "Epoch 258/1000\n",
      "267/267 [==============================] - 3s 12ms/step - loss: 0.3499 - accuracy: 0.8794 - val_loss: 0.7852 - val_accuracy: 0.7711\n",
      "Epoch 259/1000\n",
      "267/267 [==============================] - 3s 12ms/step - loss: 0.3428 - accuracy: 0.8835 - val_loss: 0.7496 - val_accuracy: 0.7780\n",
      "Epoch 260/1000\n",
      "267/267 [==============================] - 3s 12ms/step - loss: 0.3491 - accuracy: 0.8791 - val_loss: 0.7652 - val_accuracy: 0.7761\n",
      "Epoch 261/1000\n",
      "267/267 [==============================] - 3s 12ms/step - loss: 0.3409 - accuracy: 0.8851 - val_loss: 0.7717 - val_accuracy: 0.7698\n",
      "Epoch 262/1000\n",
      "267/267 [==============================] - 3s 12ms/step - loss: 0.3454 - accuracy: 0.8815 - val_loss: 0.7693 - val_accuracy: 0.7768\n",
      "Epoch 263/1000\n",
      "267/267 [==============================] - 3s 12ms/step - loss: 0.3407 - accuracy: 0.8830 - val_loss: 0.7752 - val_accuracy: 0.7713\n",
      "Epoch 264/1000\n",
      "267/267 [==============================] - 3s 12ms/step - loss: 0.3551 - accuracy: 0.8787 - val_loss: 0.7531 - val_accuracy: 0.7741\n",
      "Epoch 265/1000\n",
      "267/267 [==============================] - 3s 12ms/step - loss: 0.3342 - accuracy: 0.8866 - val_loss: 0.7675 - val_accuracy: 0.7757\n",
      "Epoch 266/1000\n",
      "267/267 [==============================] - 3s 12ms/step - loss: 0.3343 - accuracy: 0.8875 - val_loss: 0.7736 - val_accuracy: 0.7756\n",
      "Epoch 267/1000\n",
      "267/267 [==============================] - 3s 12ms/step - loss: 0.3532 - accuracy: 0.8785 - val_loss: 0.7590 - val_accuracy: 0.7736\n",
      "Epoch 268/1000\n",
      "267/267 [==============================] - 3s 12ms/step - loss: 0.3335 - accuracy: 0.8855 - val_loss: 0.7767 - val_accuracy: 0.7721\n",
      "Epoch 269/1000\n",
      "267/267 [==============================] - 3s 12ms/step - loss: 0.3320 - accuracy: 0.8847 - val_loss: 0.7629 - val_accuracy: 0.7750\n",
      "Epoch 270/1000\n",
      "267/267 [==============================] - 3s 12ms/step - loss: 0.3424 - accuracy: 0.8809 - val_loss: 0.7470 - val_accuracy: 0.7758\n",
      "Epoch 271/1000\n",
      "267/267 [==============================] - 3s 12ms/step - loss: 0.3341 - accuracy: 0.8836 - val_loss: 0.7672 - val_accuracy: 0.7738\n",
      "Epoch 272/1000\n",
      "267/267 [==============================] - 3s 12ms/step - loss: 0.3418 - accuracy: 0.8833 - val_loss: 0.7895 - val_accuracy: 0.7692\n",
      "Epoch 273/1000\n",
      "267/267 [==============================] - 3s 12ms/step - loss: 0.3377 - accuracy: 0.8838 - val_loss: 0.7847 - val_accuracy: 0.7730\n",
      "Epoch 274/1000\n",
      "267/267 [==============================] - 3s 12ms/step - loss: 0.3391 - accuracy: 0.8839 - val_loss: 0.7518 - val_accuracy: 0.7734\n",
      "Epoch 275/1000\n",
      "267/267 [==============================] - 3s 12ms/step - loss: 0.3437 - accuracy: 0.8818 - val_loss: 0.7728 - val_accuracy: 0.7750\n",
      "Epoch 276/1000\n",
      "267/267 [==============================] - 3s 12ms/step - loss: 0.3423 - accuracy: 0.8833 - val_loss: 0.7812 - val_accuracy: 0.7703\n",
      "Epoch 277/1000\n",
      "267/267 [==============================] - 3s 12ms/step - loss: 0.3425 - accuracy: 0.8831 - val_loss: 0.7885 - val_accuracy: 0.7744\n",
      "Epoch 278/1000\n",
      "267/267 [==============================] - 3s 12ms/step - loss: 0.3515 - accuracy: 0.8823 - val_loss: 0.7710 - val_accuracy: 0.7722\n",
      "Epoch 279/1000\n",
      "267/267 [==============================] - 3s 12ms/step - loss: 0.3533 - accuracy: 0.8786 - val_loss: 0.7968 - val_accuracy: 0.7716\n",
      "Epoch 280/1000\n",
      "267/267 [==============================] - 3s 12ms/step - loss: 0.3362 - accuracy: 0.8858 - val_loss: 0.7659 - val_accuracy: 0.7725\n",
      "Epoch 281/1000\n",
      "267/267 [==============================] - 3s 12ms/step - loss: 0.3469 - accuracy: 0.8841 - val_loss: 0.7732 - val_accuracy: 0.7752\n",
      "Epoch 282/1000\n",
      "267/267 [==============================] - 3s 12ms/step - loss: 0.3342 - accuracy: 0.8848 - val_loss: 0.7620 - val_accuracy: 0.7789\n",
      "Epoch 283/1000\n",
      "267/267 [==============================] - 3s 12ms/step - loss: 0.3220 - accuracy: 0.8879 - val_loss: 0.7705 - val_accuracy: 0.7757\n",
      "Epoch 284/1000\n",
      "267/267 [==============================] - 3s 12ms/step - loss: 0.3373 - accuracy: 0.8858 - val_loss: 0.7674 - val_accuracy: 0.7738\n",
      "Epoch 285/1000\n",
      "267/267 [==============================] - 3s 12ms/step - loss: 0.3320 - accuracy: 0.8841 - val_loss: 0.7510 - val_accuracy: 0.7744\n",
      "Epoch 286/1000\n",
      "267/267 [==============================] - 3s 12ms/step - loss: 0.3366 - accuracy: 0.8836 - val_loss: 0.7711 - val_accuracy: 0.7712\n",
      "Epoch 287/1000\n",
      "267/267 [==============================] - 3s 12ms/step - loss: 0.3350 - accuracy: 0.8838 - val_loss: 0.7436 - val_accuracy: 0.7769\n",
      "Epoch 288/1000\n",
      "267/267 [==============================] - 3s 12ms/step - loss: 0.3422 - accuracy: 0.8821 - val_loss: 0.7594 - val_accuracy: 0.7742\n",
      "Epoch 289/1000\n",
      "267/267 [==============================] - 3s 12ms/step - loss: 0.3400 - accuracy: 0.8859 - val_loss: 0.7727 - val_accuracy: 0.7754\n",
      "Epoch 290/1000\n",
      "267/267 [==============================] - 3s 12ms/step - loss: 0.3422 - accuracy: 0.8832 - val_loss: 0.7872 - val_accuracy: 0.7682\n",
      "Epoch 291/1000\n",
      "267/267 [==============================] - 3s 12ms/step - loss: 0.3506 - accuracy: 0.8794 - val_loss: 0.7984 - val_accuracy: 0.7701\n",
      "Epoch 292/1000\n",
      "267/267 [==============================] - 3s 12ms/step - loss: 0.3414 - accuracy: 0.8834 - val_loss: 0.7901 - val_accuracy: 0.7704\n",
      "Epoch 293/1000\n",
      "267/267 [==============================] - 3s 12ms/step - loss: 0.3349 - accuracy: 0.8866 - val_loss: 0.7816 - val_accuracy: 0.7769\n",
      "Epoch 294/1000\n",
      "267/267 [==============================] - 3s 12ms/step - loss: 0.3288 - accuracy: 0.8897 - val_loss: 0.7700 - val_accuracy: 0.7664\n",
      "Epoch 295/1000\n",
      "267/267 [==============================] - 3s 12ms/step - loss: 0.3387 - accuracy: 0.8848 - val_loss: 0.7651 - val_accuracy: 0.7742\n",
      "Epoch 296/1000\n",
      "267/267 [==============================] - 3s 12ms/step - loss: 0.3447 - accuracy: 0.8848 - val_loss: 0.7802 - val_accuracy: 0.7703\n",
      "Epoch 297/1000\n",
      "267/267 [==============================] - 3s 12ms/step - loss: 0.3280 - accuracy: 0.8878 - val_loss: 0.7659 - val_accuracy: 0.7707\n",
      "Epoch 298/1000\n",
      "267/267 [==============================] - 3s 12ms/step - loss: 0.3282 - accuracy: 0.8864 - val_loss: 0.7776 - val_accuracy: 0.7749\n",
      "Epoch 299/1000\n",
      "267/267 [==============================] - 3s 12ms/step - loss: 0.3260 - accuracy: 0.8876 - val_loss: 0.7653 - val_accuracy: 0.7723\n",
      "Epoch 300/1000\n",
      "267/267 [==============================] - 3s 12ms/step - loss: 0.3334 - accuracy: 0.8839 - val_loss: 0.7639 - val_accuracy: 0.7692\n",
      "Epoch 301/1000\n",
      "267/267 [==============================] - 3s 12ms/step - loss: 0.3401 - accuracy: 0.8829 - val_loss: 0.7719 - val_accuracy: 0.7755\n",
      "Epoch 302/1000\n",
      "267/267 [==============================] - 3s 12ms/step - loss: 0.3306 - accuracy: 0.8887 - val_loss: 0.7777 - val_accuracy: 0.7753\n",
      "Epoch 303/1000\n",
      "267/267 [==============================] - 3s 12ms/step - loss: 0.3287 - accuracy: 0.8896 - val_loss: 0.7707 - val_accuracy: 0.7716\n",
      "Epoch 304/1000\n",
      "267/267 [==============================] - 3s 12ms/step - loss: 0.3274 - accuracy: 0.8862 - val_loss: 0.7782 - val_accuracy: 0.7721\n",
      "Epoch 305/1000\n",
      "267/267 [==============================] - 3s 12ms/step - loss: 0.3327 - accuracy: 0.8873 - val_loss: 0.7561 - val_accuracy: 0.7748\n",
      "Epoch 306/1000\n",
      "267/267 [==============================] - 3s 12ms/step - loss: 0.3269 - accuracy: 0.8889 - val_loss: 0.7608 - val_accuracy: 0.7738\n",
      "Epoch 307/1000\n",
      "267/267 [==============================] - 3s 12ms/step - loss: 0.3243 - accuracy: 0.8905 - val_loss: 0.7674 - val_accuracy: 0.7728\n",
      "Epoch 308/1000\n",
      "267/267 [==============================] - 3s 12ms/step - loss: 0.3238 - accuracy: 0.8911 - val_loss: 0.7831 - val_accuracy: 0.7750\n",
      "Epoch 309/1000\n",
      "267/267 [==============================] - 3s 12ms/step - loss: 0.3304 - accuracy: 0.8897 - val_loss: 0.7714 - val_accuracy: 0.7740\n",
      "Epoch 310/1000\n",
      "267/267 [==============================] - 3s 12ms/step - loss: 0.3228 - accuracy: 0.8910 - val_loss: 0.7734 - val_accuracy: 0.7739\n",
      "Epoch 311/1000\n",
      "267/267 [==============================] - 3s 12ms/step - loss: 0.3306 - accuracy: 0.8871 - val_loss: 0.7622 - val_accuracy: 0.7769\n",
      "Epoch 312/1000\n",
      "267/267 [==============================] - 3s 12ms/step - loss: 0.3358 - accuracy: 0.8845 - val_loss: 0.7648 - val_accuracy: 0.7715\n",
      "Epoch 313/1000\n",
      "267/267 [==============================] - 3s 12ms/step - loss: 0.3289 - accuracy: 0.8900 - val_loss: 0.7935 - val_accuracy: 0.7691\n",
      "Epoch 314/1000\n",
      "267/267 [==============================] - 3s 12ms/step - loss: 0.3289 - accuracy: 0.8882 - val_loss: 0.7940 - val_accuracy: 0.7694\n",
      "Epoch 315/1000\n",
      "267/267 [==============================] - 3s 12ms/step - loss: 0.3296 - accuracy: 0.8882 - val_loss: 0.7957 - val_accuracy: 0.7704\n",
      "Epoch 316/1000\n",
      "267/267 [==============================] - 3s 12ms/step - loss: 0.3326 - accuracy: 0.8849 - val_loss: 0.7522 - val_accuracy: 0.7767\n",
      "Epoch 317/1000\n",
      "267/267 [==============================] - 3s 12ms/step - loss: 0.3301 - accuracy: 0.8892 - val_loss: 0.7626 - val_accuracy: 0.7750\n",
      "Epoch 318/1000\n",
      "267/267 [==============================] - 3s 12ms/step - loss: 0.3270 - accuracy: 0.8901 - val_loss: 0.7800 - val_accuracy: 0.7710\n",
      "Epoch 319/1000\n",
      "267/267 [==============================] - 3s 12ms/step - loss: 0.3229 - accuracy: 0.8892 - val_loss: 0.7612 - val_accuracy: 0.7753\n",
      "Epoch 320/1000\n",
      "267/267 [==============================] - 3s 12ms/step - loss: 0.3246 - accuracy: 0.8890 - val_loss: 0.7689 - val_accuracy: 0.7699\n",
      "Epoch 321/1000\n",
      "267/267 [==============================] - 3s 12ms/step - loss: 0.3355 - accuracy: 0.8858 - val_loss: 0.7592 - val_accuracy: 0.7726\n",
      "Epoch 322/1000\n",
      "267/267 [==============================] - 3s 12ms/step - loss: 0.3255 - accuracy: 0.8874 - val_loss: 0.7901 - val_accuracy: 0.7706\n",
      "Epoch 323/1000\n",
      "267/267 [==============================] - 3s 12ms/step - loss: 0.3170 - accuracy: 0.8891 - val_loss: 0.7708 - val_accuracy: 0.7710\n",
      "Epoch 324/1000\n",
      "267/267 [==============================] - 3s 12ms/step - loss: 0.3188 - accuracy: 0.8920 - val_loss: 0.7635 - val_accuracy: 0.7770\n",
      "Epoch 325/1000\n",
      "267/267 [==============================] - 3s 12ms/step - loss: 0.3325 - accuracy: 0.8863 - val_loss: 0.7723 - val_accuracy: 0.7739\n",
      "Epoch 326/1000\n",
      "267/267 [==============================] - 3s 12ms/step - loss: 0.3320 - accuracy: 0.8893 - val_loss: 0.7922 - val_accuracy: 0.7739\n",
      "Epoch 327/1000\n",
      "267/267 [==============================] - 3s 12ms/step - loss: 0.3448 - accuracy: 0.8826 - val_loss: 0.7674 - val_accuracy: 0.7784\n",
      "Epoch 328/1000\n",
      "267/267 [==============================] - 3s 12ms/step - loss: 0.3325 - accuracy: 0.8848 - val_loss: 0.7884 - val_accuracy: 0.7679\n",
      "Epoch 329/1000\n",
      "267/267 [==============================] - 3s 12ms/step - loss: 0.3424 - accuracy: 0.8844 - val_loss: 0.7664 - val_accuracy: 0.7757\n",
      "Epoch 330/1000\n",
      "267/267 [==============================] - 3s 12ms/step - loss: 0.3200 - accuracy: 0.8883 - val_loss: 0.7583 - val_accuracy: 0.7789\n",
      "Epoch 331/1000\n",
      "267/267 [==============================] - 3s 12ms/step - loss: 0.3324 - accuracy: 0.8895 - val_loss: 0.7794 - val_accuracy: 0.7777\n",
      "Epoch 332/1000\n",
      "267/267 [==============================] - 3s 12ms/step - loss: 0.3259 - accuracy: 0.8894 - val_loss: 0.7637 - val_accuracy: 0.7728\n",
      "Epoch 333/1000\n",
      "267/267 [==============================] - 3s 12ms/step - loss: 0.3252 - accuracy: 0.8878 - val_loss: 0.7778 - val_accuracy: 0.7711\n",
      "Epoch 334/1000\n",
      "267/267 [==============================] - 3s 12ms/step - loss: 0.3334 - accuracy: 0.8877 - val_loss: 0.7519 - val_accuracy: 0.7751\n",
      "Epoch 335/1000\n",
      "267/267 [==============================] - 3s 12ms/step - loss: 0.3328 - accuracy: 0.8868 - val_loss: 0.8095 - val_accuracy: 0.7670\n",
      "Epoch 336/1000\n",
      "267/267 [==============================] - 3s 12ms/step - loss: 0.3267 - accuracy: 0.8879 - val_loss: 0.7798 - val_accuracy: 0.7730\n",
      "Epoch 337/1000\n",
      "267/267 [==============================] - 3s 12ms/step - loss: 0.3243 - accuracy: 0.8892 - val_loss: 0.7914 - val_accuracy: 0.7724\n",
      "Epoch 338/1000\n",
      "267/267 [==============================] - 3s 12ms/step - loss: 0.3353 - accuracy: 0.8834 - val_loss: 0.7897 - val_accuracy: 0.7692\n",
      "Epoch 339/1000\n",
      "267/267 [==============================] - 3s 12ms/step - loss: 0.3262 - accuracy: 0.8872 - val_loss: 0.7561 - val_accuracy: 0.7737\n",
      "Epoch 340/1000\n",
      "267/267 [==============================] - 3s 12ms/step - loss: 0.3251 - accuracy: 0.8894 - val_loss: 0.7750 - val_accuracy: 0.7773\n",
      "Epoch 341/1000\n",
      "267/267 [==============================] - 3s 12ms/step - loss: 0.3208 - accuracy: 0.8917 - val_loss: 0.7769 - val_accuracy: 0.7763\n",
      "Epoch 342/1000\n",
      "267/267 [==============================] - 3s 12ms/step - loss: 0.3164 - accuracy: 0.8912 - val_loss: 0.7477 - val_accuracy: 0.7721\n",
      "Epoch 343/1000\n",
      "267/267 [==============================] - 3s 12ms/step - loss: 0.3213 - accuracy: 0.8905 - val_loss: 0.7537 - val_accuracy: 0.7772\n",
      "Epoch 344/1000\n",
      "267/267 [==============================] - 3s 12ms/step - loss: 0.3143 - accuracy: 0.8929 - val_loss: 0.7524 - val_accuracy: 0.7753\n",
      "Epoch 345/1000\n",
      "267/267 [==============================] - 3s 12ms/step - loss: 0.3271 - accuracy: 0.8912 - val_loss: 0.7437 - val_accuracy: 0.7772\n",
      "Epoch 346/1000\n",
      "267/267 [==============================] - 3s 12ms/step - loss: 0.3284 - accuracy: 0.8889 - val_loss: 0.7599 - val_accuracy: 0.7787\n",
      "Epoch 347/1000\n",
      "267/267 [==============================] - 3s 12ms/step - loss: 0.3225 - accuracy: 0.8901 - val_loss: 0.7749 - val_accuracy: 0.7770\n",
      "Epoch 348/1000\n",
      "267/267 [==============================] - 3s 12ms/step - loss: 0.3284 - accuracy: 0.8882 - val_loss: 0.7693 - val_accuracy: 0.7729\n",
      "Epoch 349/1000\n",
      "267/267 [==============================] - 3s 12ms/step - loss: 0.3160 - accuracy: 0.8941 - val_loss: 0.7518 - val_accuracy: 0.7808\n",
      "Epoch 350/1000\n",
      "267/267 [==============================] - 3s 12ms/step - loss: 0.3127 - accuracy: 0.8951 - val_loss: 0.7554 - val_accuracy: 0.7736\n",
      "Epoch 351/1000\n",
      "267/267 [==============================] - 3s 12ms/step - loss: 0.3263 - accuracy: 0.8869 - val_loss: 0.7725 - val_accuracy: 0.7719\n",
      "Epoch 352/1000\n",
      "267/267 [==============================] - 3s 12ms/step - loss: 0.3242 - accuracy: 0.8897 - val_loss: 0.7787 - val_accuracy: 0.7739\n",
      "Epoch 353/1000\n",
      "267/267 [==============================] - 3s 12ms/step - loss: 0.3300 - accuracy: 0.8877 - val_loss: 0.7865 - val_accuracy: 0.7732\n",
      "Epoch 354/1000\n",
      "267/267 [==============================] - 3s 12ms/step - loss: 0.3216 - accuracy: 0.8914 - val_loss: 0.7576 - val_accuracy: 0.7733\n",
      "Epoch 355/1000\n",
      "267/267 [==============================] - 3s 12ms/step - loss: 0.3241 - accuracy: 0.8918 - val_loss: 0.7904 - val_accuracy: 0.7724\n",
      "Epoch 356/1000\n",
      "267/267 [==============================] - 3s 12ms/step - loss: 0.3356 - accuracy: 0.8866 - val_loss: 0.7702 - val_accuracy: 0.7779\n",
      "Epoch 357/1000\n",
      "267/267 [==============================] - 3s 12ms/step - loss: 0.3232 - accuracy: 0.8913 - val_loss: 0.7581 - val_accuracy: 0.7788\n",
      "Epoch 358/1000\n",
      "267/267 [==============================] - 3s 12ms/step - loss: 0.3199 - accuracy: 0.8914 - val_loss: 0.7752 - val_accuracy: 0.7727\n",
      "Epoch 359/1000\n",
      "267/267 [==============================] - 3s 12ms/step - loss: 0.3155 - accuracy: 0.8949 - val_loss: 0.7537 - val_accuracy: 0.7769\n",
      "Epoch 360/1000\n",
      "267/267 [==============================] - 3s 12ms/step - loss: 0.3294 - accuracy: 0.8899 - val_loss: 0.7957 - val_accuracy: 0.7724\n",
      "Epoch 361/1000\n",
      "267/267 [==============================] - 3s 12ms/step - loss: 0.3274 - accuracy: 0.8885 - val_loss: 0.7581 - val_accuracy: 0.7743\n",
      "Epoch 362/1000\n",
      "267/267 [==============================] - 3s 12ms/step - loss: 0.3216 - accuracy: 0.8911 - val_loss: 0.7568 - val_accuracy: 0.7763\n",
      "Epoch 363/1000\n",
      "267/267 [==============================] - 3s 12ms/step - loss: 0.3208 - accuracy: 0.8909 - val_loss: 0.8031 - val_accuracy: 0.7685\n",
      "Epoch 364/1000\n",
      "267/267 [==============================] - 3s 12ms/step - loss: 0.3226 - accuracy: 0.8924 - val_loss: 0.7763 - val_accuracy: 0.7727\n",
      "Epoch 365/1000\n",
      "267/267 [==============================] - 3s 12ms/step - loss: 0.3170 - accuracy: 0.8944 - val_loss: 0.7731 - val_accuracy: 0.7695\n",
      "Epoch 366/1000\n",
      "267/267 [==============================] - 3s 12ms/step - loss: 0.3172 - accuracy: 0.8917 - val_loss: 0.7662 - val_accuracy: 0.7734\n",
      "Epoch 367/1000\n",
      "267/267 [==============================] - 3s 12ms/step - loss: 0.3087 - accuracy: 0.8942 - val_loss: 0.7816 - val_accuracy: 0.7760\n",
      "Epoch 368/1000\n",
      "267/267 [==============================] - 3s 12ms/step - loss: 0.3247 - accuracy: 0.8930 - val_loss: 0.7797 - val_accuracy: 0.7759\n",
      "Epoch 369/1000\n",
      "267/267 [==============================] - 3s 12ms/step - loss: 0.3225 - accuracy: 0.8921 - val_loss: 0.7664 - val_accuracy: 0.7779\n",
      "Epoch 370/1000\n",
      "267/267 [==============================] - 3s 12ms/step - loss: 0.3194 - accuracy: 0.8928 - val_loss: 0.7774 - val_accuracy: 0.7733\n",
      "Epoch 371/1000\n",
      "267/267 [==============================] - 3s 12ms/step - loss: 0.3188 - accuracy: 0.8932 - val_loss: 0.7852 - val_accuracy: 0.7734\n",
      "Epoch 372/1000\n",
      "267/267 [==============================] - 3s 12ms/step - loss: 0.3271 - accuracy: 0.8887 - val_loss: 0.7605 - val_accuracy: 0.7756\n",
      "Epoch 373/1000\n",
      "267/267 [==============================] - 3s 12ms/step - loss: 0.3045 - accuracy: 0.8963 - val_loss: 0.7617 - val_accuracy: 0.7730\n",
      "Epoch 374/1000\n",
      "267/267 [==============================] - 3s 12ms/step - loss: 0.3261 - accuracy: 0.8892 - val_loss: 0.7591 - val_accuracy: 0.7752\n",
      "Epoch 375/1000\n",
      "267/267 [==============================] - 3s 12ms/step - loss: 0.3182 - accuracy: 0.8904 - val_loss: 0.7775 - val_accuracy: 0.7740\n",
      "Epoch 376/1000\n",
      "267/267 [==============================] - 3s 12ms/step - loss: 0.3035 - accuracy: 0.8988 - val_loss: 0.7993 - val_accuracy: 0.7681\n",
      "Epoch 377/1000\n",
      "267/267 [==============================] - 3s 12ms/step - loss: 0.3207 - accuracy: 0.8918 - val_loss: 0.7896 - val_accuracy: 0.7741\n",
      "Epoch 378/1000\n",
      "267/267 [==============================] - 3s 12ms/step - loss: 0.3165 - accuracy: 0.8918 - val_loss: 0.7929 - val_accuracy: 0.7726\n",
      "Epoch 379/1000\n",
      "267/267 [==============================] - 3s 12ms/step - loss: 0.3159 - accuracy: 0.8932 - val_loss: 0.7757 - val_accuracy: 0.7747\n",
      "Epoch 380/1000\n",
      "267/267 [==============================] - 3s 12ms/step - loss: 0.3276 - accuracy: 0.8871 - val_loss: 0.7690 - val_accuracy: 0.7735\n",
      "Epoch 381/1000\n",
      "267/267 [==============================] - 3s 12ms/step - loss: 0.3144 - accuracy: 0.8932 - val_loss: 0.7443 - val_accuracy: 0.7792\n",
      "Epoch 382/1000\n",
      "267/267 [==============================] - 3s 12ms/step - loss: 0.3161 - accuracy: 0.8945 - val_loss: 0.7979 - val_accuracy: 0.7738\n",
      "Epoch 383/1000\n",
      "267/267 [==============================] - 3s 12ms/step - loss: 0.3088 - accuracy: 0.8962 - val_loss: 0.7666 - val_accuracy: 0.7789\n",
      "Epoch 384/1000\n",
      "267/267 [==============================] - 3s 12ms/step - loss: 0.3056 - accuracy: 0.8975 - val_loss: 0.7805 - val_accuracy: 0.7743\n",
      "Epoch 385/1000\n",
      "267/267 [==============================] - 3s 12ms/step - loss: 0.3120 - accuracy: 0.8961 - val_loss: 0.7769 - val_accuracy: 0.7757\n",
      "Epoch 386/1000\n",
      "267/267 [==============================] - 3s 12ms/step - loss: 0.3169 - accuracy: 0.8919 - val_loss: 0.8022 - val_accuracy: 0.7745\n",
      "Epoch 387/1000\n",
      "267/267 [==============================] - 3s 12ms/step - loss: 0.3151 - accuracy: 0.8942 - val_loss: 0.7790 - val_accuracy: 0.7769\n",
      "Epoch 388/1000\n",
      "267/267 [==============================] - 3s 12ms/step - loss: 0.3185 - accuracy: 0.8915 - val_loss: 0.7950 - val_accuracy: 0.7742\n",
      "Epoch 389/1000\n",
      "267/267 [==============================] - 3s 12ms/step - loss: 0.3159 - accuracy: 0.8912 - val_loss: 0.7788 - val_accuracy: 0.7751\n",
      "Epoch 390/1000\n",
      "267/267 [==============================] - 3s 12ms/step - loss: 0.3094 - accuracy: 0.8969 - val_loss: 0.8032 - val_accuracy: 0.7715\n",
      "Epoch 391/1000\n",
      "267/267 [==============================] - 3s 12ms/step - loss: 0.3160 - accuracy: 0.8923 - val_loss: 0.7796 - val_accuracy: 0.7693\n",
      "Epoch 392/1000\n",
      "267/267 [==============================] - 3s 12ms/step - loss: 0.3148 - accuracy: 0.8911 - val_loss: 0.7923 - val_accuracy: 0.7725\n",
      "Epoch 393/1000\n",
      "267/267 [==============================] - 3s 12ms/step - loss: 0.3198 - accuracy: 0.8928 - val_loss: 0.7855 - val_accuracy: 0.7747\n",
      "Epoch 394/1000\n",
      "267/267 [==============================] - 3s 12ms/step - loss: 0.3279 - accuracy: 0.8914 - val_loss: 0.8005 - val_accuracy: 0.7726\n",
      "Epoch 395/1000\n",
      "267/267 [==============================] - 3s 12ms/step - loss: 0.3089 - accuracy: 0.8951 - val_loss: 0.7719 - val_accuracy: 0.7753\n",
      "Epoch 396/1000\n",
      "267/267 [==============================] - 3s 12ms/step - loss: 0.3139 - accuracy: 0.8940 - val_loss: 0.7866 - val_accuracy: 0.7731\n",
      "Epoch 397/1000\n",
      "267/267 [==============================] - 3s 12ms/step - loss: 0.3133 - accuracy: 0.8934 - val_loss: 0.7648 - val_accuracy: 0.7734\n",
      "Epoch 398/1000\n",
      "267/267 [==============================] - 3s 12ms/step - loss: 0.3140 - accuracy: 0.8973 - val_loss: 0.8009 - val_accuracy: 0.7737\n",
      "Epoch 399/1000\n",
      "267/267 [==============================] - 3s 12ms/step - loss: 0.3107 - accuracy: 0.8941 - val_loss: 0.7892 - val_accuracy: 0.7751\n",
      "Epoch 400/1000\n",
      "267/267 [==============================] - 3s 12ms/step - loss: 0.3189 - accuracy: 0.8929 - val_loss: 0.7671 - val_accuracy: 0.7757\n",
      "Epoch 401/1000\n",
      "267/267 [==============================] - 3s 12ms/step - loss: 0.3150 - accuracy: 0.8924 - val_loss: 0.7940 - val_accuracy: 0.7742\n",
      "Epoch 402/1000\n",
      "267/267 [==============================] - 3s 12ms/step - loss: 0.3114 - accuracy: 0.8964 - val_loss: 0.7600 - val_accuracy: 0.7757\n",
      "Epoch 403/1000\n",
      "267/267 [==============================] - 3s 12ms/step - loss: 0.3139 - accuracy: 0.8940 - val_loss: 0.7503 - val_accuracy: 0.7767\n",
      "Epoch 404/1000\n",
      "267/267 [==============================] - 3s 12ms/step - loss: 0.3044 - accuracy: 0.8962 - val_loss: 0.7779 - val_accuracy: 0.7767\n",
      "Epoch 405/1000\n",
      "267/267 [==============================] - 3s 12ms/step - loss: 0.3095 - accuracy: 0.8941 - val_loss: 0.7797 - val_accuracy: 0.7761\n",
      "Epoch 406/1000\n",
      "267/267 [==============================] - 3s 12ms/step - loss: 0.3214 - accuracy: 0.8928 - val_loss: 0.7966 - val_accuracy: 0.7727\n",
      "Epoch 407/1000\n",
      "267/267 [==============================] - 3s 12ms/step - loss: 0.3149 - accuracy: 0.8951 - val_loss: 0.7784 - val_accuracy: 0.7708\n",
      "Epoch 408/1000\n",
      "267/267 [==============================] - 3s 12ms/step - loss: 0.3115 - accuracy: 0.8961 - val_loss: 0.7605 - val_accuracy: 0.7719\n",
      "Epoch 409/1000\n",
      "267/267 [==============================] - 3s 12ms/step - loss: 0.3198 - accuracy: 0.8943 - val_loss: 0.7870 - val_accuracy: 0.7776\n",
      "Epoch 410/1000\n",
      "267/267 [==============================] - 3s 12ms/step - loss: 0.3113 - accuracy: 0.8942 - val_loss: 0.8158 - val_accuracy: 0.7688\n",
      "Epoch 411/1000\n",
      "267/267 [==============================] - 3s 12ms/step - loss: 0.3209 - accuracy: 0.8931 - val_loss: 0.7501 - val_accuracy: 0.7774\n",
      "Epoch 412/1000\n",
      "267/267 [==============================] - 3s 12ms/step - loss: 0.3016 - accuracy: 0.8975 - val_loss: 0.7948 - val_accuracy: 0.7745\n",
      "Epoch 413/1000\n",
      "267/267 [==============================] - 3s 12ms/step - loss: 0.3223 - accuracy: 0.8910 - val_loss: 0.7669 - val_accuracy: 0.7759\n",
      "Epoch 414/1000\n",
      "267/267 [==============================] - 3s 12ms/step - loss: 0.3116 - accuracy: 0.8955 - val_loss: 0.7762 - val_accuracy: 0.7700\n",
      "Epoch 415/1000\n",
      "267/267 [==============================] - 3s 12ms/step - loss: 0.3076 - accuracy: 0.8975 - val_loss: 0.7951 - val_accuracy: 0.7735\n",
      "Epoch 416/1000\n",
      "267/267 [==============================] - 3s 12ms/step - loss: 0.3137 - accuracy: 0.8948 - val_loss: 0.7704 - val_accuracy: 0.7704\n",
      "Epoch 417/1000\n",
      "267/267 [==============================] - 3s 12ms/step - loss: 0.3096 - accuracy: 0.8963 - val_loss: 0.7539 - val_accuracy: 0.7768\n",
      "Epoch 418/1000\n",
      "267/267 [==============================] - 3s 12ms/step - loss: 0.3068 - accuracy: 0.8973 - val_loss: 0.7765 - val_accuracy: 0.7761\n",
      "Epoch 419/1000\n",
      "267/267 [==============================] - 3s 12ms/step - loss: 0.3138 - accuracy: 0.8956 - val_loss: 0.7959 - val_accuracy: 0.7760\n",
      "Epoch 420/1000\n",
      "267/267 [==============================] - 3s 12ms/step - loss: 0.2994 - accuracy: 0.8994 - val_loss: 0.7512 - val_accuracy: 0.7773\n",
      "Epoch 421/1000\n",
      "267/267 [==============================] - 3s 12ms/step - loss: 0.3174 - accuracy: 0.8925 - val_loss: 0.7658 - val_accuracy: 0.7728\n",
      "Epoch 422/1000\n",
      "267/267 [==============================] - 3s 12ms/step - loss: 0.3181 - accuracy: 0.8958 - val_loss: 0.7993 - val_accuracy: 0.7731\n",
      "Epoch 423/1000\n",
      "267/267 [==============================] - 3s 12ms/step - loss: 0.3123 - accuracy: 0.8964 - val_loss: 0.7741 - val_accuracy: 0.7782\n",
      "Epoch 424/1000\n",
      "267/267 [==============================] - 3s 12ms/step - loss: 0.3036 - accuracy: 0.9006 - val_loss: 0.7811 - val_accuracy: 0.7780\n",
      "Epoch 425/1000\n",
      "267/267 [==============================] - 3s 12ms/step - loss: 0.2993 - accuracy: 0.8992 - val_loss: 0.7802 - val_accuracy: 0.7758\n",
      "Epoch 426/1000\n",
      "267/267 [==============================] - 3s 12ms/step - loss: 0.3124 - accuracy: 0.8961 - val_loss: 0.7737 - val_accuracy: 0.7705\n",
      "Epoch 427/1000\n",
      "267/267 [==============================] - 3s 12ms/step - loss: 0.3059 - accuracy: 0.8959 - val_loss: 0.7949 - val_accuracy: 0.7702\n",
      "Epoch 428/1000\n",
      "267/267 [==============================] - 3s 12ms/step - loss: 0.3151 - accuracy: 0.8944 - val_loss: 0.7964 - val_accuracy: 0.7735\n",
      "Epoch 429/1000\n",
      "267/267 [==============================] - 3s 12ms/step - loss: 0.3101 - accuracy: 0.8962 - val_loss: 0.7862 - val_accuracy: 0.7752\n",
      "Epoch 430/1000\n",
      "267/267 [==============================] - 3s 12ms/step - loss: 0.3067 - accuracy: 0.8971 - val_loss: 0.7537 - val_accuracy: 0.7737\n",
      "Epoch 431/1000\n",
      "267/267 [==============================] - 3s 12ms/step - loss: 0.3022 - accuracy: 0.8984 - val_loss: 0.7888 - val_accuracy: 0.7729\n",
      "Epoch 432/1000\n",
      "267/267 [==============================] - 3s 12ms/step - loss: 0.3163 - accuracy: 0.8943 - val_loss: 0.7818 - val_accuracy: 0.7707\n",
      "Epoch 433/1000\n",
      "267/267 [==============================] - 3s 12ms/step - loss: 0.3138 - accuracy: 0.8949 - val_loss: 0.7668 - val_accuracy: 0.7743\n",
      "Epoch 434/1000\n",
      "267/267 [==============================] - 3s 12ms/step - loss: 0.3128 - accuracy: 0.8955 - val_loss: 0.7577 - val_accuracy: 0.7755\n",
      "Epoch 435/1000\n",
      "267/267 [==============================] - 3s 12ms/step - loss: 0.3044 - accuracy: 0.8991 - val_loss: 0.7922 - val_accuracy: 0.7732\n",
      "Epoch 436/1000\n",
      "267/267 [==============================] - 3s 12ms/step - loss: 0.3146 - accuracy: 0.8992 - val_loss: 0.8287 - val_accuracy: 0.7760\n",
      "Epoch 437/1000\n",
      "267/267 [==============================] - 3s 12ms/step - loss: 0.3169 - accuracy: 0.8938 - val_loss: 0.8041 - val_accuracy: 0.7748\n",
      "Epoch 438/1000\n",
      "267/267 [==============================] - 3s 12ms/step - loss: 0.3120 - accuracy: 0.8925 - val_loss: 0.8229 - val_accuracy: 0.7659\n",
      "Epoch 439/1000\n",
      "267/267 [==============================] - 3s 12ms/step - loss: 0.3239 - accuracy: 0.8929 - val_loss: 0.7646 - val_accuracy: 0.7745\n",
      "Epoch 440/1000\n",
      "267/267 [==============================] - 3s 12ms/step - loss: 0.3035 - accuracy: 0.8998 - val_loss: 0.8001 - val_accuracy: 0.7725\n",
      "Epoch 441/1000\n",
      "267/267 [==============================] - 3s 12ms/step - loss: 0.3175 - accuracy: 0.8938 - val_loss: 0.7975 - val_accuracy: 0.7814\n",
      "Epoch 442/1000\n",
      "267/267 [==============================] - 3s 12ms/step - loss: 0.3141 - accuracy: 0.8939 - val_loss: 0.7956 - val_accuracy: 0.7752\n",
      "Epoch 443/1000\n",
      "267/267 [==============================] - 3s 12ms/step - loss: 0.3051 - accuracy: 0.8974 - val_loss: 0.7751 - val_accuracy: 0.7727\n",
      "Epoch 444/1000\n",
      "267/267 [==============================] - 3s 12ms/step - loss: 0.3102 - accuracy: 0.8962 - val_loss: 0.8250 - val_accuracy: 0.7722\n",
      "Epoch 445/1000\n",
      "267/267 [==============================] - 3s 12ms/step - loss: 0.3121 - accuracy: 0.8966 - val_loss: 0.8001 - val_accuracy: 0.7724\n",
      "Epoch 446/1000\n",
      "267/267 [==============================] - 3s 12ms/step - loss: 0.3118 - accuracy: 0.8950 - val_loss: 0.7907 - val_accuracy: 0.7734\n",
      "Epoch 447/1000\n",
      "267/267 [==============================] - 3s 12ms/step - loss: 0.3178 - accuracy: 0.8963 - val_loss: 0.8117 - val_accuracy: 0.7794\n",
      "Epoch 448/1000\n",
      "267/267 [==============================] - 3s 12ms/step - loss: 0.3071 - accuracy: 0.8984 - val_loss: 0.7995 - val_accuracy: 0.7731\n",
      "Epoch 449/1000\n",
      "267/267 [==============================] - 3s 12ms/step - loss: 0.3070 - accuracy: 0.8989 - val_loss: 0.8048 - val_accuracy: 0.7747\n",
      "Epoch 450/1000\n",
      "267/267 [==============================] - 3s 12ms/step - loss: 0.3045 - accuracy: 0.8983 - val_loss: 0.7931 - val_accuracy: 0.7763\n",
      "Epoch 451/1000\n",
      "267/267 [==============================] - 3s 12ms/step - loss: 0.3039 - accuracy: 0.9013 - val_loss: 0.7911 - val_accuracy: 0.7728\n",
      "Epoch 452/1000\n",
      "267/267 [==============================] - 3s 12ms/step - loss: 0.3035 - accuracy: 0.8986 - val_loss: 0.7842 - val_accuracy: 0.7723\n",
      "Epoch 453/1000\n",
      "267/267 [==============================] - 3s 12ms/step - loss: 0.3099 - accuracy: 0.8970 - val_loss: 0.8038 - val_accuracy: 0.7747\n",
      "Epoch 454/1000\n",
      "267/267 [==============================] - 3s 12ms/step - loss: 0.3096 - accuracy: 0.8960 - val_loss: 0.8097 - val_accuracy: 0.7732\n",
      "Epoch 455/1000\n",
      "267/267 [==============================] - 3s 12ms/step - loss: 0.3094 - accuracy: 0.8950 - val_loss: 0.7759 - val_accuracy: 0.7732\n",
      "Epoch 456/1000\n",
      "267/267 [==============================] - 3s 12ms/step - loss: 0.3009 - accuracy: 0.8995 - val_loss: 0.7942 - val_accuracy: 0.7751\n",
      "Epoch 457/1000\n",
      "267/267 [==============================] - 3s 12ms/step - loss: 0.3086 - accuracy: 0.8977 - val_loss: 0.7871 - val_accuracy: 0.7771\n",
      "Epoch 458/1000\n",
      "267/267 [==============================] - 3s 12ms/step - loss: 0.3038 - accuracy: 0.8975 - val_loss: 0.7804 - val_accuracy: 0.7764\n",
      "Epoch 459/1000\n",
      "267/267 [==============================] - 3s 12ms/step - loss: 0.3064 - accuracy: 0.8967 - val_loss: 0.7763 - val_accuracy: 0.7715\n",
      "Epoch 460/1000\n",
      "267/267 [==============================] - 3s 12ms/step - loss: 0.3058 - accuracy: 0.8996 - val_loss: 0.8020 - val_accuracy: 0.7783\n",
      "Epoch 461/1000\n",
      "267/267 [==============================] - 3s 12ms/step - loss: 0.3199 - accuracy: 0.8919 - val_loss: 0.8086 - val_accuracy: 0.7757\n",
      "Epoch 462/1000\n",
      "267/267 [==============================] - 3s 12ms/step - loss: 0.3044 - accuracy: 0.9010 - val_loss: 0.8017 - val_accuracy: 0.7774\n",
      "Epoch 463/1000\n",
      "267/267 [==============================] - 3s 12ms/step - loss: 0.3118 - accuracy: 0.8949 - val_loss: 0.8174 - val_accuracy: 0.7766\n",
      "Epoch 464/1000\n",
      "267/267 [==============================] - 3s 12ms/step - loss: 0.3139 - accuracy: 0.8957 - val_loss: 0.7748 - val_accuracy: 0.7792\n",
      "Epoch 465/1000\n",
      "267/267 [==============================] - 3s 12ms/step - loss: 0.3133 - accuracy: 0.8943 - val_loss: 0.7865 - val_accuracy: 0.7729\n",
      "Epoch 466/1000\n",
      "267/267 [==============================] - 3s 12ms/step - loss: 0.3029 - accuracy: 0.8957 - val_loss: 0.8087 - val_accuracy: 0.7750\n",
      "Epoch 467/1000\n",
      "267/267 [==============================] - 3s 12ms/step - loss: 0.3126 - accuracy: 0.8935 - val_loss: 0.8152 - val_accuracy: 0.7761\n",
      "Epoch 468/1000\n",
      "267/267 [==============================] - 3s 12ms/step - loss: 0.3025 - accuracy: 0.9014 - val_loss: 0.8091 - val_accuracy: 0.7725\n",
      "Epoch 469/1000\n",
      "267/267 [==============================] - 3s 12ms/step - loss: 0.3034 - accuracy: 0.8978 - val_loss: 0.7849 - val_accuracy: 0.7776\n",
      "Epoch 470/1000\n",
      "267/267 [==============================] - 3s 12ms/step - loss: 0.2963 - accuracy: 0.9020 - val_loss: 0.7720 - val_accuracy: 0.7756\n",
      "Epoch 471/1000\n",
      "267/267 [==============================] - 3s 12ms/step - loss: 0.3051 - accuracy: 0.8943 - val_loss: 0.7975 - val_accuracy: 0.7747\n",
      "Epoch 472/1000\n",
      "267/267 [==============================] - 3s 12ms/step - loss: 0.2960 - accuracy: 0.9025 - val_loss: 0.7897 - val_accuracy: 0.7756\n",
      "Epoch 473/1000\n",
      "267/267 [==============================] - 3s 12ms/step - loss: 0.3095 - accuracy: 0.8958 - val_loss: 0.7907 - val_accuracy: 0.7739\n",
      "Epoch 474/1000\n",
      "267/267 [==============================] - 3s 12ms/step - loss: 0.2985 - accuracy: 0.9004 - val_loss: 0.7711 - val_accuracy: 0.7777\n",
      "Epoch 475/1000\n",
      "267/267 [==============================] - 3s 12ms/step - loss: 0.2968 - accuracy: 0.8997 - val_loss: 0.7712 - val_accuracy: 0.7748\n",
      "Epoch 476/1000\n",
      "267/267 [==============================] - 3s 12ms/step - loss: 0.3185 - accuracy: 0.8947 - val_loss: 0.8044 - val_accuracy: 0.7723\n",
      "Epoch 477/1000\n",
      "267/267 [==============================] - 3s 12ms/step - loss: 0.3122 - accuracy: 0.8969 - val_loss: 0.8081 - val_accuracy: 0.7755\n",
      "Epoch 478/1000\n",
      "267/267 [==============================] - 3s 12ms/step - loss: 0.2977 - accuracy: 0.9016 - val_loss: 0.7947 - val_accuracy: 0.7750\n",
      "Epoch 479/1000\n",
      "267/267 [==============================] - 3s 12ms/step - loss: 0.3085 - accuracy: 0.8953 - val_loss: 0.8025 - val_accuracy: 0.7719\n",
      "Epoch 480/1000\n",
      "267/267 [==============================] - 3s 12ms/step - loss: 0.3123 - accuracy: 0.8953 - val_loss: 0.7845 - val_accuracy: 0.7785\n",
      "Epoch 481/1000\n",
      "267/267 [==============================] - 3s 12ms/step - loss: 0.3011 - accuracy: 0.8992 - val_loss: 0.7905 - val_accuracy: 0.7722\n",
      "Epoch 482/1000\n",
      "267/267 [==============================] - 3s 12ms/step - loss: 0.3046 - accuracy: 0.8981 - val_loss: 0.7960 - val_accuracy: 0.7756\n",
      "Epoch 483/1000\n",
      "267/267 [==============================] - 3s 12ms/step - loss: 0.3140 - accuracy: 0.8947 - val_loss: 0.7596 - val_accuracy: 0.7811\n",
      "Epoch 484/1000\n",
      "267/267 [==============================] - 3s 12ms/step - loss: 0.2997 - accuracy: 0.8982 - val_loss: 0.7853 - val_accuracy: 0.7750\n",
      "Epoch 485/1000\n",
      "267/267 [==============================] - 3s 12ms/step - loss: 0.2967 - accuracy: 0.8986 - val_loss: 0.7840 - val_accuracy: 0.7740\n",
      "Epoch 486/1000\n",
      "267/267 [==============================] - 3s 12ms/step - loss: 0.2992 - accuracy: 0.9008 - val_loss: 0.7713 - val_accuracy: 0.7715\n",
      "Epoch 487/1000\n",
      "267/267 [==============================] - 3s 12ms/step - loss: 0.3007 - accuracy: 0.8998 - val_loss: 0.7950 - val_accuracy: 0.7730\n",
      "Epoch 488/1000\n",
      "267/267 [==============================] - 3s 12ms/step - loss: 0.3071 - accuracy: 0.8983 - val_loss: 0.8029 - val_accuracy: 0.7771\n",
      "Epoch 489/1000\n",
      "267/267 [==============================] - 3s 12ms/step - loss: 0.3092 - accuracy: 0.8976 - val_loss: 0.7953 - val_accuracy: 0.7694\n",
      "Epoch 490/1000\n",
      "267/267 [==============================] - 3s 12ms/step - loss: 0.2945 - accuracy: 0.8993 - val_loss: 0.7731 - val_accuracy: 0.7714\n",
      "Epoch 491/1000\n",
      "267/267 [==============================] - 3s 12ms/step - loss: 0.3104 - accuracy: 0.8967 - val_loss: 0.7981 - val_accuracy: 0.7759\n",
      "Epoch 492/1000\n",
      "267/267 [==============================] - 3s 12ms/step - loss: 0.2984 - accuracy: 0.8994 - val_loss: 0.7680 - val_accuracy: 0.7780\n",
      "Epoch 493/1000\n",
      "267/267 [==============================] - 3s 13ms/step - loss: 0.2954 - accuracy: 0.9032 - val_loss: 0.7932 - val_accuracy: 0.7706\n",
      "Epoch 494/1000\n",
      "267/267 [==============================] - 3s 12ms/step - loss: 0.3057 - accuracy: 0.9005 - val_loss: 0.8174 - val_accuracy: 0.7714\n",
      "Epoch 495/1000\n",
      "267/267 [==============================] - 3s 12ms/step - loss: 0.3059 - accuracy: 0.8989 - val_loss: 0.7998 - val_accuracy: 0.7705\n",
      "Epoch 496/1000\n",
      "267/267 [==============================] - 3s 12ms/step - loss: 0.3020 - accuracy: 0.8978 - val_loss: 0.7906 - val_accuracy: 0.7713\n",
      "Epoch 497/1000\n",
      "267/267 [==============================] - 3s 12ms/step - loss: 0.3051 - accuracy: 0.8994 - val_loss: 0.7944 - val_accuracy: 0.7801\n",
      "Epoch 498/1000\n",
      "267/267 [==============================] - 3s 12ms/step - loss: 0.3082 - accuracy: 0.8951 - val_loss: 0.8022 - val_accuracy: 0.7758\n",
      "Epoch 499/1000\n",
      "267/267 [==============================] - 3s 12ms/step - loss: 0.2970 - accuracy: 0.9015 - val_loss: 0.8062 - val_accuracy: 0.7704\n",
      "Epoch 500/1000\n",
      "267/267 [==============================] - 3s 12ms/step - loss: 0.3134 - accuracy: 0.8966 - val_loss: 0.7838 - val_accuracy: 0.7753\n",
      "Epoch 501/1000\n",
      "267/267 [==============================] - 3s 12ms/step - loss: 0.3021 - accuracy: 0.8987 - val_loss: 0.7945 - val_accuracy: 0.7771\n",
      "Epoch 502/1000\n",
      "267/267 [==============================] - 3s 12ms/step - loss: 0.2915 - accuracy: 0.9036 - val_loss: 0.7723 - val_accuracy: 0.7762\n",
      "Epoch 503/1000\n",
      "267/267 [==============================] - 3s 12ms/step - loss: 0.3027 - accuracy: 0.8985 - val_loss: 0.8093 - val_accuracy: 0.7750\n",
      "Epoch 504/1000\n",
      "267/267 [==============================] - 3s 12ms/step - loss: 0.3038 - accuracy: 0.9017 - val_loss: 0.8221 - val_accuracy: 0.7725\n",
      "Epoch 505/1000\n",
      "267/267 [==============================] - 3s 12ms/step - loss: 0.2938 - accuracy: 0.9017 - val_loss: 0.7849 - val_accuracy: 0.7773\n",
      "Epoch 506/1000\n",
      "267/267 [==============================] - 3s 12ms/step - loss: 0.2972 - accuracy: 0.9024 - val_loss: 0.8064 - val_accuracy: 0.7728\n",
      "Epoch 507/1000\n",
      "267/267 [==============================] - 3s 12ms/step - loss: 0.3011 - accuracy: 0.8989 - val_loss: 0.7997 - val_accuracy: 0.7680\n",
      "Epoch 508/1000\n",
      "267/267 [==============================] - 3s 12ms/step - loss: 0.3098 - accuracy: 0.8958 - val_loss: 0.8164 - val_accuracy: 0.7767\n",
      "Epoch 509/1000\n",
      "267/267 [==============================] - 3s 12ms/step - loss: 0.3005 - accuracy: 0.8986 - val_loss: 0.7962 - val_accuracy: 0.7774\n",
      "Epoch 510/1000\n",
      "267/267 [==============================] - 3s 12ms/step - loss: 0.2927 - accuracy: 0.9017 - val_loss: 0.7802 - val_accuracy: 0.7748\n",
      "Epoch 511/1000\n",
      "267/267 [==============================] - 3s 12ms/step - loss: 0.3012 - accuracy: 0.9007 - val_loss: 0.7856 - val_accuracy: 0.7742\n",
      "Epoch 512/1000\n",
      "267/267 [==============================] - 3s 12ms/step - loss: 0.3126 - accuracy: 0.8936 - val_loss: 0.7888 - val_accuracy: 0.7720\n",
      "Epoch 513/1000\n",
      "267/267 [==============================] - 3s 12ms/step - loss: 0.2902 - accuracy: 0.9032 - val_loss: 0.8004 - val_accuracy: 0.7712\n",
      "Epoch 514/1000\n",
      "267/267 [==============================] - 3s 12ms/step - loss: 0.2944 - accuracy: 0.9002 - val_loss: 0.8209 - val_accuracy: 0.7665\n",
      "Epoch 515/1000\n",
      "267/267 [==============================] - 3s 12ms/step - loss: 0.2976 - accuracy: 0.8988 - val_loss: 0.7827 - val_accuracy: 0.7755\n",
      "Epoch 516/1000\n",
      "267/267 [==============================] - 3s 12ms/step - loss: 0.2971 - accuracy: 0.8996 - val_loss: 0.8154 - val_accuracy: 0.7748\n",
      "Epoch 517/1000\n",
      "267/267 [==============================] - 3s 12ms/step - loss: 0.2944 - accuracy: 0.9041 - val_loss: 0.7930 - val_accuracy: 0.7754\n",
      "Epoch 518/1000\n",
      "267/267 [==============================] - 3s 12ms/step - loss: 0.3041 - accuracy: 0.8997 - val_loss: 0.8076 - val_accuracy: 0.7753\n",
      "Epoch 519/1000\n",
      "267/267 [==============================] - 3s 12ms/step - loss: 0.2975 - accuracy: 0.8992 - val_loss: 0.8548 - val_accuracy: 0.7737\n",
      "Epoch 520/1000\n",
      "267/267 [==============================] - 3s 12ms/step - loss: 0.3028 - accuracy: 0.8994 - val_loss: 0.7959 - val_accuracy: 0.7728\n",
      "Epoch 521/1000\n",
      "267/267 [==============================] - 3s 12ms/step - loss: 0.2986 - accuracy: 0.8999 - val_loss: 0.7960 - val_accuracy: 0.7772\n",
      "Epoch 522/1000\n",
      "267/267 [==============================] - 3s 12ms/step - loss: 0.3020 - accuracy: 0.8995 - val_loss: 0.7889 - val_accuracy: 0.7778\n",
      "Epoch 523/1000\n",
      "267/267 [==============================] - 3s 12ms/step - loss: 0.2967 - accuracy: 0.9009 - val_loss: 0.8271 - val_accuracy: 0.7748\n",
      "Epoch 524/1000\n",
      "267/267 [==============================] - 3s 12ms/step - loss: 0.2925 - accuracy: 0.9024 - val_loss: 0.8059 - val_accuracy: 0.7749\n",
      "Epoch 525/1000\n",
      "267/267 [==============================] - 3s 12ms/step - loss: 0.2911 - accuracy: 0.9026 - val_loss: 0.8217 - val_accuracy: 0.7755\n",
      "Epoch 526/1000\n",
      "267/267 [==============================] - 3s 12ms/step - loss: 0.3004 - accuracy: 0.9004 - val_loss: 0.7835 - val_accuracy: 0.7755\n",
      "Epoch 527/1000\n",
      "267/267 [==============================] - 3s 12ms/step - loss: 0.2966 - accuracy: 0.9031 - val_loss: 0.8033 - val_accuracy: 0.7750\n",
      "Epoch 528/1000\n",
      "267/267 [==============================] - 3s 12ms/step - loss: 0.2860 - accuracy: 0.9047 - val_loss: 0.7995 - val_accuracy: 0.7706\n",
      "Epoch 529/1000\n",
      "267/267 [==============================] - 3s 12ms/step - loss: 0.3081 - accuracy: 0.8985 - val_loss: 0.8080 - val_accuracy: 0.7784\n",
      "Epoch 530/1000\n",
      "267/267 [==============================] - 3s 12ms/step - loss: 0.2940 - accuracy: 0.9025 - val_loss: 0.8047 - val_accuracy: 0.7736\n",
      "Epoch 531/1000\n",
      "267/267 [==============================] - 3s 12ms/step - loss: 0.2906 - accuracy: 0.9025 - val_loss: 0.8121 - val_accuracy: 0.7715\n",
      "Epoch 532/1000\n",
      "267/267 [==============================] - 3s 12ms/step - loss: 0.2957 - accuracy: 0.9013 - val_loss: 0.7881 - val_accuracy: 0.7740\n",
      "Epoch 533/1000\n",
      "267/267 [==============================] - 3s 12ms/step - loss: 0.3059 - accuracy: 0.9003 - val_loss: 0.8419 - val_accuracy: 0.7737\n",
      "Epoch 534/1000\n",
      "267/267 [==============================] - 3s 12ms/step - loss: 0.2994 - accuracy: 0.8996 - val_loss: 0.8059 - val_accuracy: 0.7752\n",
      "Epoch 535/1000\n",
      "267/267 [==============================] - 3s 12ms/step - loss: 0.3112 - accuracy: 0.8977 - val_loss: 0.7924 - val_accuracy: 0.7711\n",
      "Epoch 536/1000\n",
      "267/267 [==============================] - 3s 13ms/step - loss: 0.2937 - accuracy: 0.9029 - val_loss: 0.8130 - val_accuracy: 0.7742\n",
      "Epoch 537/1000\n",
      "267/267 [==============================] - 3s 12ms/step - loss: 0.3053 - accuracy: 0.8993 - val_loss: 0.8163 - val_accuracy: 0.7725\n",
      "Epoch 538/1000\n",
      "267/267 [==============================] - 3s 12ms/step - loss: 0.2954 - accuracy: 0.9034 - val_loss: 0.8015 - val_accuracy: 0.7772\n",
      "Epoch 539/1000\n",
      "267/267 [==============================] - 3s 12ms/step - loss: 0.3031 - accuracy: 0.9031 - val_loss: 0.7820 - val_accuracy: 0.7778\n",
      "Epoch 540/1000\n",
      "267/267 [==============================] - 3s 12ms/step - loss: 0.2919 - accuracy: 0.9047 - val_loss: 0.8114 - val_accuracy: 0.7735\n",
      "Epoch 541/1000\n",
      "267/267 [==============================] - 3s 12ms/step - loss: 0.2984 - accuracy: 0.8998 - val_loss: 0.8149 - val_accuracy: 0.7739\n",
      "Epoch 542/1000\n",
      "267/267 [==============================] - 3s 12ms/step - loss: 0.3046 - accuracy: 0.8991 - val_loss: 0.8122 - val_accuracy: 0.7711\n",
      "Epoch 543/1000\n",
      "267/267 [==============================] - 3s 12ms/step - loss: 0.3003 - accuracy: 0.9002 - val_loss: 0.7999 - val_accuracy: 0.7725\n",
      "Epoch 544/1000\n",
      "267/267 [==============================] - 3s 12ms/step - loss: 0.3025 - accuracy: 0.8979 - val_loss: 0.8057 - val_accuracy: 0.7760\n",
      "Epoch 545/1000\n",
      "267/267 [==============================] - 3s 12ms/step - loss: 0.3095 - accuracy: 0.8976 - val_loss: 0.7867 - val_accuracy: 0.7741\n",
      "Epoch 546/1000\n",
      "267/267 [==============================] - 3s 12ms/step - loss: 0.3058 - accuracy: 0.8994 - val_loss: 0.8104 - val_accuracy: 0.7761\n",
      "Epoch 547/1000\n",
      "267/267 [==============================] - 3s 12ms/step - loss: 0.2962 - accuracy: 0.9031 - val_loss: 0.7834 - val_accuracy: 0.7783\n",
      "Epoch 548/1000\n",
      "267/267 [==============================] - 3s 12ms/step - loss: 0.2973 - accuracy: 0.9027 - val_loss: 0.8082 - val_accuracy: 0.7743\n",
      "Epoch 549/1000\n",
      "267/267 [==============================] - 3s 12ms/step - loss: 0.2920 - accuracy: 0.9035 - val_loss: 0.8200 - val_accuracy: 0.7684\n",
      "Epoch 550/1000\n",
      "267/267 [==============================] - 3s 12ms/step - loss: 0.2946 - accuracy: 0.9016 - val_loss: 0.8118 - val_accuracy: 0.7710\n",
      "Epoch 551/1000\n",
      "267/267 [==============================] - 3s 12ms/step - loss: 0.2913 - accuracy: 0.9035 - val_loss: 0.8160 - val_accuracy: 0.7750\n",
      "Epoch 552/1000\n",
      "267/267 [==============================] - 3s 13ms/step - loss: 0.3094 - accuracy: 0.8982 - val_loss: 0.7915 - val_accuracy: 0.7716\n",
      "Epoch 553/1000\n",
      "267/267 [==============================] - 3s 12ms/step - loss: 0.3050 - accuracy: 0.8981 - val_loss: 0.8071 - val_accuracy: 0.7797\n",
      "Epoch 554/1000\n",
      "267/267 [==============================] - 3s 12ms/step - loss: 0.2952 - accuracy: 0.9025 - val_loss: 0.8126 - val_accuracy: 0.7719\n",
      "Epoch 555/1000\n",
      "267/267 [==============================] - 3s 12ms/step - loss: 0.3059 - accuracy: 0.8974 - val_loss: 0.8048 - val_accuracy: 0.7718\n",
      "Epoch 556/1000\n",
      "267/267 [==============================] - 3s 13ms/step - loss: 0.3023 - accuracy: 0.9001 - val_loss: 0.7890 - val_accuracy: 0.7770\n",
      "Epoch 557/1000\n",
      "267/267 [==============================] - 3s 12ms/step - loss: 0.2869 - accuracy: 0.9051 - val_loss: 0.8177 - val_accuracy: 0.7762\n",
      "Epoch 558/1000\n",
      "267/267 [==============================] - 3s 12ms/step - loss: 0.3020 - accuracy: 0.8990 - val_loss: 0.8009 - val_accuracy: 0.7766\n",
      "Epoch 559/1000\n",
      "267/267 [==============================] - 3s 12ms/step - loss: 0.3035 - accuracy: 0.8989 - val_loss: 0.8006 - val_accuracy: 0.7783\n",
      "Epoch 560/1000\n",
      "267/267 [==============================] - 3s 12ms/step - loss: 0.3022 - accuracy: 0.8973 - val_loss: 0.8039 - val_accuracy: 0.7730\n",
      "Epoch 561/1000\n",
      "267/267 [==============================] - 3s 13ms/step - loss: 0.2885 - accuracy: 0.9048 - val_loss: 0.8053 - val_accuracy: 0.7756\n",
      "Epoch 562/1000\n",
      "267/267 [==============================] - 3s 12ms/step - loss: 0.2985 - accuracy: 0.9014 - val_loss: 0.8227 - val_accuracy: 0.7769\n",
      "Epoch 563/1000\n",
      "267/267 [==============================] - 3s 12ms/step - loss: 0.2998 - accuracy: 0.9005 - val_loss: 0.7866 - val_accuracy: 0.7748\n",
      "Epoch 564/1000\n",
      "267/267 [==============================] - 3s 12ms/step - loss: 0.2912 - accuracy: 0.9025 - val_loss: 0.8110 - val_accuracy: 0.7735\n",
      "Epoch 565/1000\n",
      "267/267 [==============================] - 3s 12ms/step - loss: 0.3091 - accuracy: 0.8981 - val_loss: 0.8027 - val_accuracy: 0.7713\n",
      "Epoch 566/1000\n",
      "267/267 [==============================] - 3s 12ms/step - loss: 0.3014 - accuracy: 0.8992 - val_loss: 0.8130 - val_accuracy: 0.7783\n",
      "Epoch 567/1000\n",
      "267/267 [==============================] - 3s 12ms/step - loss: 0.3004 - accuracy: 0.8995 - val_loss: 0.8093 - val_accuracy: 0.7721\n",
      "Epoch 568/1000\n",
      "267/267 [==============================] - 3s 12ms/step - loss: 0.2908 - accuracy: 0.9048 - val_loss: 0.8056 - val_accuracy: 0.7768\n",
      "Epoch 569/1000\n",
      "267/267 [==============================] - 3s 12ms/step - loss: 0.2970 - accuracy: 0.9009 - val_loss: 0.8111 - val_accuracy: 0.7729\n",
      "Epoch 570/1000\n",
      "267/267 [==============================] - 3s 12ms/step - loss: 0.2952 - accuracy: 0.9018 - val_loss: 0.7947 - val_accuracy: 0.7809\n",
      "Epoch 571/1000\n",
      "267/267 [==============================] - 3s 12ms/step - loss: 0.2882 - accuracy: 0.9046 - val_loss: 0.7791 - val_accuracy: 0.7726\n",
      "Epoch 572/1000\n",
      "267/267 [==============================] - 3s 12ms/step - loss: 0.2880 - accuracy: 0.9060 - val_loss: 0.7936 - val_accuracy: 0.7752\n",
      "Epoch 573/1000\n",
      "267/267 [==============================] - 3s 12ms/step - loss: 0.2931 - accuracy: 0.9020 - val_loss: 0.8313 - val_accuracy: 0.7689\n",
      "Epoch 574/1000\n",
      "267/267 [==============================] - 3s 12ms/step - loss: 0.2902 - accuracy: 0.9032 - val_loss: 0.8358 - val_accuracy: 0.7726\n",
      "Epoch 575/1000\n",
      "267/267 [==============================] - 3s 12ms/step - loss: 0.2910 - accuracy: 0.9031 - val_loss: 0.7837 - val_accuracy: 0.7721\n",
      "Epoch 576/1000\n",
      "267/267 [==============================] - 3s 12ms/step - loss: 0.3075 - accuracy: 0.8972 - val_loss: 0.7952 - val_accuracy: 0.7736\n",
      "Epoch 577/1000\n",
      "267/267 [==============================] - 3s 12ms/step - loss: 0.2957 - accuracy: 0.9009 - val_loss: 0.8162 - val_accuracy: 0.7765\n",
      "Epoch 578/1000\n",
      "267/267 [==============================] - 3s 12ms/step - loss: 0.2839 - accuracy: 0.9059 - val_loss: 0.8013 - val_accuracy: 0.7741\n",
      "Epoch 579/1000\n",
      "267/267 [==============================] - 3s 12ms/step - loss: 0.2869 - accuracy: 0.9032 - val_loss: 0.8024 - val_accuracy: 0.7769\n",
      "Epoch 580/1000\n",
      "267/267 [==============================] - 3s 12ms/step - loss: 0.3007 - accuracy: 0.8996 - val_loss: 0.8128 - val_accuracy: 0.7718\n",
      "Epoch 581/1000\n",
      "267/267 [==============================] - 3s 12ms/step - loss: 0.3038 - accuracy: 0.8998 - val_loss: 0.8074 - val_accuracy: 0.7752\n",
      "Epoch 582/1000\n",
      "267/267 [==============================] - 3s 12ms/step - loss: 0.2952 - accuracy: 0.9013 - val_loss: 0.8139 - val_accuracy: 0.7722\n",
      "Epoch 583/1000\n",
      "267/267 [==============================] - 3s 12ms/step - loss: 0.2951 - accuracy: 0.9035 - val_loss: 0.7882 - val_accuracy: 0.7758\n",
      "Epoch 584/1000\n",
      "267/267 [==============================] - 3s 12ms/step - loss: 0.2883 - accuracy: 0.9031 - val_loss: 0.7986 - val_accuracy: 0.7728\n",
      "Epoch 585/1000\n",
      "267/267 [==============================] - 3s 12ms/step - loss: 0.3032 - accuracy: 0.9009 - val_loss: 0.8159 - val_accuracy: 0.7744\n",
      "Epoch 586/1000\n",
      "267/267 [==============================] - 3s 12ms/step - loss: 0.2930 - accuracy: 0.9017 - val_loss: 0.8115 - val_accuracy: 0.7687\n",
      "Epoch 587/1000\n",
      "267/267 [==============================] - 3s 12ms/step - loss: 0.2878 - accuracy: 0.9031 - val_loss: 0.8320 - val_accuracy: 0.7723\n",
      "Epoch 588/1000\n",
      "267/267 [==============================] - 3s 12ms/step - loss: 0.3029 - accuracy: 0.9000 - val_loss: 0.8182 - val_accuracy: 0.7686\n",
      "Epoch 589/1000\n",
      "267/267 [==============================] - 3s 12ms/step - loss: 0.2996 - accuracy: 0.9017 - val_loss: 0.8090 - val_accuracy: 0.7757\n",
      "Epoch 590/1000\n",
      "267/267 [==============================] - 3s 12ms/step - loss: 0.2978 - accuracy: 0.9002 - val_loss: 0.8259 - val_accuracy: 0.7690\n",
      "Epoch 591/1000\n",
      "267/267 [==============================] - 3s 12ms/step - loss: 0.3015 - accuracy: 0.9012 - val_loss: 0.8066 - val_accuracy: 0.7739\n",
      "Epoch 592/1000\n",
      "267/267 [==============================] - 3s 12ms/step - loss: 0.3046 - accuracy: 0.8968 - val_loss: 0.8379 - val_accuracy: 0.7732\n",
      "Epoch 593/1000\n",
      "267/267 [==============================] - 3s 12ms/step - loss: 0.2882 - accuracy: 0.9037 - val_loss: 0.8241 - val_accuracy: 0.7743\n",
      "Epoch 594/1000\n",
      "267/267 [==============================] - 3s 12ms/step - loss: 0.2934 - accuracy: 0.9015 - val_loss: 0.8382 - val_accuracy: 0.7789\n",
      "Epoch 595/1000\n",
      "267/267 [==============================] - 3s 12ms/step - loss: 0.2926 - accuracy: 0.9037 - val_loss: 0.8250 - val_accuracy: 0.7785\n",
      "Epoch 596/1000\n",
      "267/267 [==============================] - 3s 12ms/step - loss: 0.2934 - accuracy: 0.9055 - val_loss: 0.8020 - val_accuracy: 0.7778\n",
      "Epoch 597/1000\n",
      "267/267 [==============================] - 3s 13ms/step - loss: 0.3003 - accuracy: 0.8990 - val_loss: 0.8014 - val_accuracy: 0.7748\n",
      "Epoch 598/1000\n",
      "267/267 [==============================] - 3s 12ms/step - loss: 0.2919 - accuracy: 0.9018 - val_loss: 0.7808 - val_accuracy: 0.7818\n",
      "Epoch 599/1000\n",
      "267/267 [==============================] - 3s 12ms/step - loss: 0.2892 - accuracy: 0.9042 - val_loss: 0.8106 - val_accuracy: 0.7769\n",
      "Epoch 600/1000\n",
      "267/267 [==============================] - 3s 12ms/step - loss: 0.2875 - accuracy: 0.9016 - val_loss: 0.7950 - val_accuracy: 0.7766\n",
      "Epoch 601/1000\n",
      "267/267 [==============================] - 3s 12ms/step - loss: 0.2942 - accuracy: 0.9027 - val_loss: 0.8170 - val_accuracy: 0.7740\n",
      "Epoch 602/1000\n",
      "267/267 [==============================] - 3s 12ms/step - loss: 0.2815 - accuracy: 0.9064 - val_loss: 0.8233 - val_accuracy: 0.7765\n",
      "Epoch 603/1000\n",
      "267/267 [==============================] - 3s 12ms/step - loss: 0.2942 - accuracy: 0.9034 - val_loss: 0.7908 - val_accuracy: 0.7774\n",
      "Epoch 604/1000\n",
      "267/267 [==============================] - 3s 13ms/step - loss: 0.2945 - accuracy: 0.9000 - val_loss: 0.8080 - val_accuracy: 0.7710\n",
      "Epoch 605/1000\n",
      "267/267 [==============================] - 3s 13ms/step - loss: 0.3009 - accuracy: 0.9009 - val_loss: 0.8406 - val_accuracy: 0.7738\n",
      "Epoch 606/1000\n",
      "267/267 [==============================] - 3s 12ms/step - loss: 0.2917 - accuracy: 0.9043 - val_loss: 0.7671 - val_accuracy: 0.7742\n",
      "Epoch 607/1000\n",
      "267/267 [==============================] - 3s 12ms/step - loss: 0.2882 - accuracy: 0.9046 - val_loss: 0.8157 - val_accuracy: 0.7716\n",
      "Epoch 608/1000\n",
      "267/267 [==============================] - 3s 12ms/step - loss: 0.2980 - accuracy: 0.9008 - val_loss: 0.7978 - val_accuracy: 0.7738\n",
      "Epoch 609/1000\n",
      "267/267 [==============================] - 3s 12ms/step - loss: 0.2986 - accuracy: 0.9011 - val_loss: 0.7944 - val_accuracy: 0.7792\n",
      "Epoch 610/1000\n",
      "267/267 [==============================] - 3s 12ms/step - loss: 0.2840 - accuracy: 0.9056 - val_loss: 0.8169 - val_accuracy: 0.7733\n",
      "Epoch 611/1000\n",
      "267/267 [==============================] - 3s 12ms/step - loss: 0.2999 - accuracy: 0.9014 - val_loss: 0.8195 - val_accuracy: 0.7753\n",
      "Epoch 612/1000\n",
      "267/267 [==============================] - 3s 12ms/step - loss: 0.2930 - accuracy: 0.9039 - val_loss: 0.8161 - val_accuracy: 0.7750\n",
      "Epoch 613/1000\n",
      "267/267 [==============================] - 3s 12ms/step - loss: 0.2922 - accuracy: 0.9036 - val_loss: 0.8033 - val_accuracy: 0.7774\n",
      "Epoch 614/1000\n",
      "267/267 [==============================] - 3s 13ms/step - loss: 0.2905 - accuracy: 0.9030 - val_loss: 0.7997 - val_accuracy: 0.7745\n",
      "Epoch 615/1000\n",
      "267/267 [==============================] - 3s 12ms/step - loss: 0.2879 - accuracy: 0.9063 - val_loss: 0.8297 - val_accuracy: 0.7806\n",
      "Epoch 616/1000\n",
      "267/267 [==============================] - 3s 12ms/step - loss: 0.2826 - accuracy: 0.9064 - val_loss: 0.8090 - val_accuracy: 0.7761\n",
      "Epoch 617/1000\n",
      "267/267 [==============================] - 3s 13ms/step - loss: 0.2889 - accuracy: 0.9043 - val_loss: 0.8367 - val_accuracy: 0.7724\n",
      "Epoch 618/1000\n",
      "267/267 [==============================] - 3s 12ms/step - loss: 0.2961 - accuracy: 0.8996 - val_loss: 0.7975 - val_accuracy: 0.7797\n",
      "Epoch 619/1000\n",
      "267/267 [==============================] - 3s 12ms/step - loss: 0.2956 - accuracy: 0.9032 - val_loss: 0.8034 - val_accuracy: 0.7707\n",
      "Epoch 620/1000\n",
      "267/267 [==============================] - 3s 13ms/step - loss: 0.3021 - accuracy: 0.8989 - val_loss: 0.8068 - val_accuracy: 0.7757\n",
      "Epoch 621/1000\n",
      "267/267 [==============================] - 3s 12ms/step - loss: 0.2951 - accuracy: 0.9016 - val_loss: 0.7952 - val_accuracy: 0.7727\n",
      "Epoch 622/1000\n",
      "267/267 [==============================] - 3s 12ms/step - loss: 0.2921 - accuracy: 0.9036 - val_loss: 0.8380 - val_accuracy: 0.7781\n",
      "Epoch 623/1000\n",
      "267/267 [==============================] - 3s 12ms/step - loss: 0.2898 - accuracy: 0.9031 - val_loss: 0.8282 - val_accuracy: 0.7785\n",
      "Epoch 624/1000\n",
      "267/267 [==============================] - 3s 13ms/step - loss: 0.2925 - accuracy: 0.9047 - val_loss: 0.8339 - val_accuracy: 0.7746\n",
      "Epoch 625/1000\n",
      "267/267 [==============================] - 3s 12ms/step - loss: 0.2983 - accuracy: 0.9035 - val_loss: 0.8198 - val_accuracy: 0.7742\n",
      "Epoch 626/1000\n",
      "267/267 [==============================] - 3s 12ms/step - loss: 0.3008 - accuracy: 0.8999 - val_loss: 0.7867 - val_accuracy: 0.7757\n",
      "Epoch 627/1000\n",
      "267/267 [==============================] - 3s 13ms/step - loss: 0.2927 - accuracy: 0.9025 - val_loss: 0.8019 - val_accuracy: 0.7744\n",
      "Epoch 628/1000\n",
      "267/267 [==============================] - 3s 12ms/step - loss: 0.2965 - accuracy: 0.9018 - val_loss: 0.8195 - val_accuracy: 0.7766\n",
      "Epoch 629/1000\n",
      "267/267 [==============================] - 3s 12ms/step - loss: 0.2995 - accuracy: 0.9011 - val_loss: 0.8157 - val_accuracy: 0.7766\n",
      "Epoch 630/1000\n",
      "267/267 [==============================] - 3s 12ms/step - loss: 0.2981 - accuracy: 0.9007 - val_loss: 0.8728 - val_accuracy: 0.7732\n",
      "Epoch 631/1000\n",
      "267/267 [==============================] - 3s 12ms/step - loss: 0.2897 - accuracy: 0.9016 - val_loss: 0.7929 - val_accuracy: 0.7794\n",
      "Epoch 632/1000\n",
      "267/267 [==============================] - 3s 12ms/step - loss: 0.2909 - accuracy: 0.9033 - val_loss: 0.7865 - val_accuracy: 0.7735\n",
      "Epoch 633/1000\n",
      "267/267 [==============================] - 3s 12ms/step - loss: 0.2895 - accuracy: 0.9044 - val_loss: 0.7992 - val_accuracy: 0.7754\n",
      "Epoch 634/1000\n",
      "267/267 [==============================] - 3s 12ms/step - loss: 0.2887 - accuracy: 0.9039 - val_loss: 0.8191 - val_accuracy: 0.7754\n",
      "Epoch 635/1000\n",
      "267/267 [==============================] - 3s 12ms/step - loss: 0.2859 - accuracy: 0.9024 - val_loss: 0.7936 - val_accuracy: 0.7747\n",
      "Epoch 636/1000\n",
      "267/267 [==============================] - 3s 12ms/step - loss: 0.2931 - accuracy: 0.9018 - val_loss: 0.7962 - val_accuracy: 0.7775\n",
      "Epoch 637/1000\n",
      "267/267 [==============================] - 3s 12ms/step - loss: 0.2797 - accuracy: 0.9065 - val_loss: 0.8497 - val_accuracy: 0.7621\n",
      "Epoch 638/1000\n",
      "267/267 [==============================] - 3s 12ms/step - loss: 0.2920 - accuracy: 0.9008 - val_loss: 0.8070 - val_accuracy: 0.7734\n",
      "Epoch 639/1000\n",
      "267/267 [==============================] - 3s 12ms/step - loss: 0.2842 - accuracy: 0.9071 - val_loss: 0.8271 - val_accuracy: 0.7710\n",
      "Epoch 640/1000\n",
      "267/267 [==============================] - 3s 12ms/step - loss: 0.2840 - accuracy: 0.9054 - val_loss: 0.8307 - val_accuracy: 0.7800\n",
      "Epoch 641/1000\n",
      "267/267 [==============================] - 3s 13ms/step - loss: 0.2866 - accuracy: 0.9052 - val_loss: 0.8133 - val_accuracy: 0.7739\n",
      "Epoch 642/1000\n",
      "267/267 [==============================] - 3s 12ms/step - loss: 0.2873 - accuracy: 0.9042 - val_loss: 0.8458 - val_accuracy: 0.7751\n",
      "Epoch 643/1000\n",
      "267/267 [==============================] - 3s 13ms/step - loss: 0.2823 - accuracy: 0.9061 - val_loss: 0.7865 - val_accuracy: 0.7753\n",
      "Epoch 644/1000\n",
      "267/267 [==============================] - 3s 12ms/step - loss: 0.2893 - accuracy: 0.9027 - val_loss: 0.7947 - val_accuracy: 0.7774\n",
      "Epoch 645/1000\n",
      "267/267 [==============================] - 3s 12ms/step - loss: 0.2911 - accuracy: 0.9056 - val_loss: 0.8265 - val_accuracy: 0.7711\n",
      "Epoch 646/1000\n",
      "267/267 [==============================] - 3s 12ms/step - loss: 0.2901 - accuracy: 0.9037 - val_loss: 0.8016 - val_accuracy: 0.7801\n",
      "Epoch 647/1000\n",
      "267/267 [==============================] - 3s 13ms/step - loss: 0.2892 - accuracy: 0.9055 - val_loss: 0.7957 - val_accuracy: 0.7764\n",
      "Epoch 648/1000\n",
      "267/267 [==============================] - 3s 12ms/step - loss: 0.3025 - accuracy: 0.9010 - val_loss: 0.7901 - val_accuracy: 0.7788\n",
      "Epoch 649/1000\n",
      "267/267 [==============================] - 3s 12ms/step - loss: 0.2877 - accuracy: 0.9056 - val_loss: 0.8152 - val_accuracy: 0.7732\n",
      "Epoch 650/1000\n",
      "267/267 [==============================] - 3s 12ms/step - loss: 0.3010 - accuracy: 0.9010 - val_loss: 0.7963 - val_accuracy: 0.7773\n",
      "Epoch 651/1000\n",
      "267/267 [==============================] - 3s 13ms/step - loss: 0.2827 - accuracy: 0.9068 - val_loss: 0.7975 - val_accuracy: 0.7769\n",
      "Epoch 652/1000\n",
      "267/267 [==============================] - 3s 12ms/step - loss: 0.2890 - accuracy: 0.9015 - val_loss: 0.8176 - val_accuracy: 0.7781\n",
      "Epoch 653/1000\n",
      "267/267 [==============================] - 3s 12ms/step - loss: 0.3013 - accuracy: 0.9005 - val_loss: 0.7984 - val_accuracy: 0.7784\n",
      "Epoch 654/1000\n",
      "267/267 [==============================] - 3s 12ms/step - loss: 0.2723 - accuracy: 0.9094 - val_loss: 0.8064 - val_accuracy: 0.7794\n",
      "Epoch 655/1000\n",
      "267/267 [==============================] - 3s 12ms/step - loss: 0.2981 - accuracy: 0.9029 - val_loss: 0.7985 - val_accuracy: 0.7762\n",
      "Epoch 656/1000\n",
      "267/267 [==============================] - 3s 12ms/step - loss: 0.2962 - accuracy: 0.9032 - val_loss: 0.8119 - val_accuracy: 0.7809\n",
      "Epoch 657/1000\n",
      "267/267 [==============================] - 3s 12ms/step - loss: 0.3003 - accuracy: 0.9043 - val_loss: 0.8097 - val_accuracy: 0.7762\n",
      "Epoch 658/1000\n",
      "267/267 [==============================] - 3s 13ms/step - loss: 0.2852 - accuracy: 0.9065 - val_loss: 0.8006 - val_accuracy: 0.7742\n",
      "Epoch 659/1000\n",
      "267/267 [==============================] - 3s 12ms/step - loss: 0.2895 - accuracy: 0.9059 - val_loss: 0.8092 - val_accuracy: 0.7764\n",
      "Epoch 660/1000\n",
      "267/267 [==============================] - 3s 12ms/step - loss: 0.3022 - accuracy: 0.9023 - val_loss: 0.8012 - val_accuracy: 0.7787\n",
      "Epoch 661/1000\n",
      "267/267 [==============================] - 3s 12ms/step - loss: 0.2854 - accuracy: 0.9081 - val_loss: 0.8320 - val_accuracy: 0.7758\n",
      "Epoch 662/1000\n",
      "267/267 [==============================] - 3s 12ms/step - loss: 0.2965 - accuracy: 0.8992 - val_loss: 0.8339 - val_accuracy: 0.7789\n",
      "Epoch 663/1000\n",
      "267/267 [==============================] - 3s 12ms/step - loss: 0.2937 - accuracy: 0.9015 - val_loss: 0.8239 - val_accuracy: 0.7767\n",
      "Epoch 664/1000\n",
      "267/267 [==============================] - 3s 12ms/step - loss: 0.2841 - accuracy: 0.9071 - val_loss: 0.8384 - val_accuracy: 0.7730\n",
      "Epoch 665/1000\n",
      "267/267 [==============================] - 3s 13ms/step - loss: 0.2895 - accuracy: 0.9035 - val_loss: 0.8046 - val_accuracy: 0.7765\n",
      "Epoch 666/1000\n",
      "267/267 [==============================] - 3s 12ms/step - loss: 0.2869 - accuracy: 0.9043 - val_loss: 0.8136 - val_accuracy: 0.7722\n",
      "Epoch 667/1000\n",
      "267/267 [==============================] - 3s 12ms/step - loss: 0.3065 - accuracy: 0.8992 - val_loss: 0.7990 - val_accuracy: 0.7762\n",
      "Epoch 668/1000\n",
      "267/267 [==============================] - 3s 12ms/step - loss: 0.2857 - accuracy: 0.9074 - val_loss: 0.8096 - val_accuracy: 0.7751\n",
      "Epoch 669/1000\n",
      "267/267 [==============================] - 3s 12ms/step - loss: 0.2802 - accuracy: 0.9089 - val_loss: 0.8097 - val_accuracy: 0.7741\n",
      "Epoch 670/1000\n",
      "267/267 [==============================] - 3s 13ms/step - loss: 0.2858 - accuracy: 0.9039 - val_loss: 0.8280 - val_accuracy: 0.7783\n",
      "Epoch 671/1000\n",
      "267/267 [==============================] - 3s 13ms/step - loss: 0.2867 - accuracy: 0.9057 - val_loss: 0.8357 - val_accuracy: 0.7716\n",
      "Epoch 672/1000\n",
      "267/267 [==============================] - 3s 12ms/step - loss: 0.2898 - accuracy: 0.9053 - val_loss: 0.7928 - val_accuracy: 0.7756\n",
      "Epoch 673/1000\n",
      "267/267 [==============================] - 3s 13ms/step - loss: 0.2955 - accuracy: 0.9011 - val_loss: 0.8096 - val_accuracy: 0.7767\n",
      "Epoch 674/1000\n",
      "267/267 [==============================] - 3s 12ms/step - loss: 0.2767 - accuracy: 0.9050 - val_loss: 0.8141 - val_accuracy: 0.7772\n",
      "Epoch 675/1000\n",
      "267/267 [==============================] - 3s 12ms/step - loss: 0.2918 - accuracy: 0.9026 - val_loss: 0.8228 - val_accuracy: 0.7731\n",
      "Epoch 676/1000\n",
      "267/267 [==============================] - 3s 12ms/step - loss: 0.2977 - accuracy: 0.9025 - val_loss: 0.7981 - val_accuracy: 0.7779\n",
      "Epoch 677/1000\n",
      "267/267 [==============================] - 3s 13ms/step - loss: 0.2914 - accuracy: 0.9046 - val_loss: 0.7829 - val_accuracy: 0.7770\n",
      "Epoch 678/1000\n",
      "267/267 [==============================] - 3s 13ms/step - loss: 0.2925 - accuracy: 0.9040 - val_loss: 0.8123 - val_accuracy: 0.7730\n",
      "Epoch 679/1000\n",
      "267/267 [==============================] - 3s 12ms/step - loss: 0.2829 - accuracy: 0.9080 - val_loss: 0.8080 - val_accuracy: 0.7838\n",
      "Epoch 680/1000\n",
      "267/267 [==============================] - 3s 12ms/step - loss: 0.2838 - accuracy: 0.9062 - val_loss: 0.8162 - val_accuracy: 0.7781\n",
      "Epoch 681/1000\n",
      "267/267 [==============================] - 3s 12ms/step - loss: 0.2793 - accuracy: 0.9082 - val_loss: 0.8086 - val_accuracy: 0.7707\n",
      "Epoch 682/1000\n",
      "267/267 [==============================] - 3s 12ms/step - loss: 0.2939 - accuracy: 0.9016 - val_loss: 0.8394 - val_accuracy: 0.7771\n",
      "Epoch 683/1000\n",
      "267/267 [==============================] - 3s 12ms/step - loss: 0.2835 - accuracy: 0.9047 - val_loss: 0.8032 - val_accuracy: 0.7789\n",
      "Epoch 684/1000\n",
      "267/267 [==============================] - 3s 13ms/step - loss: 0.2801 - accuracy: 0.9080 - val_loss: 0.8134 - val_accuracy: 0.7768\n",
      "Epoch 685/1000\n",
      "267/267 [==============================] - 3s 12ms/step - loss: 0.3041 - accuracy: 0.9014 - val_loss: 0.7922 - val_accuracy: 0.7766\n",
      "Epoch 686/1000\n",
      "267/267 [==============================] - 3s 12ms/step - loss: 0.2853 - accuracy: 0.9043 - val_loss: 0.8249 - val_accuracy: 0.7773\n",
      "Epoch 687/1000\n",
      "267/267 [==============================] - 3s 12ms/step - loss: 0.2956 - accuracy: 0.9041 - val_loss: 0.7937 - val_accuracy: 0.7815\n",
      "Epoch 688/1000\n",
      "267/267 [==============================] - 3s 12ms/step - loss: 0.2940 - accuracy: 0.9036 - val_loss: 0.8073 - val_accuracy: 0.7787\n",
      "Epoch 689/1000\n",
      "267/267 [==============================] - 3s 13ms/step - loss: 0.2866 - accuracy: 0.9056 - val_loss: 0.8085 - val_accuracy: 0.7767\n",
      "Epoch 690/1000\n",
      "267/267 [==============================] - 3s 12ms/step - loss: 0.2910 - accuracy: 0.9040 - val_loss: 0.8230 - val_accuracy: 0.7797\n",
      "Epoch 691/1000\n",
      "267/267 [==============================] - 3s 13ms/step - loss: 0.2978 - accuracy: 0.9007 - val_loss: 0.8042 - val_accuracy: 0.7766\n",
      "Epoch 692/1000\n",
      "267/267 [==============================] - 3s 12ms/step - loss: 0.2814 - accuracy: 0.9063 - val_loss: 0.8302 - val_accuracy: 0.7715\n",
      "Epoch 693/1000\n",
      "267/267 [==============================] - 3s 12ms/step - loss: 0.2867 - accuracy: 0.9059 - val_loss: 0.7795 - val_accuracy: 0.7766\n",
      "Epoch 694/1000\n",
      "267/267 [==============================] - 3s 13ms/step - loss: 0.2813 - accuracy: 0.9084 - val_loss: 0.8048 - val_accuracy: 0.7755\n",
      "Epoch 695/1000\n",
      "267/267 [==============================] - 3s 13ms/step - loss: 0.2887 - accuracy: 0.9039 - val_loss: 0.8352 - val_accuracy: 0.7729\n",
      "Epoch 696/1000\n",
      "267/267 [==============================] - 3s 12ms/step - loss: 0.2894 - accuracy: 0.9068 - val_loss: 0.8192 - val_accuracy: 0.7739\n",
      "Epoch 697/1000\n",
      "267/267 [==============================] - 3s 13ms/step - loss: 0.2804 - accuracy: 0.9081 - val_loss: 0.8032 - val_accuracy: 0.7790\n",
      "Epoch 698/1000\n",
      "267/267 [==============================] - 3s 13ms/step - loss: 0.2825 - accuracy: 0.9070 - val_loss: 0.8132 - val_accuracy: 0.7785\n",
      "Epoch 699/1000\n",
      "267/267 [==============================] - 3s 12ms/step - loss: 0.2917 - accuracy: 0.9034 - val_loss: 0.7956 - val_accuracy: 0.7817\n",
      "Epoch 700/1000\n",
      "267/267 [==============================] - 3s 13ms/step - loss: 0.2872 - accuracy: 0.9053 - val_loss: 0.7932 - val_accuracy: 0.7768\n",
      "Epoch 701/1000\n",
      "267/267 [==============================] - 3s 13ms/step - loss: 0.2856 - accuracy: 0.9061 - val_loss: 0.8207 - val_accuracy: 0.7787\n",
      "Epoch 702/1000\n",
      "267/267 [==============================] - 3s 12ms/step - loss: 0.2933 - accuracy: 0.9027 - val_loss: 0.8121 - val_accuracy: 0.7765\n",
      "Epoch 703/1000\n",
      "267/267 [==============================] - 3s 13ms/step - loss: 0.2954 - accuracy: 0.9031 - val_loss: 0.8162 - val_accuracy: 0.7794\n",
      "Epoch 704/1000\n",
      "267/267 [==============================] - 3s 12ms/step - loss: 0.2932 - accuracy: 0.9037 - val_loss: 0.8003 - val_accuracy: 0.7762\n",
      "Epoch 705/1000\n",
      "267/267 [==============================] - 3s 12ms/step - loss: 0.2882 - accuracy: 0.9068 - val_loss: 0.7978 - val_accuracy: 0.7777\n",
      "Epoch 706/1000\n",
      "267/267 [==============================] - 3s 13ms/step - loss: 0.2906 - accuracy: 0.9047 - val_loss: 0.8293 - val_accuracy: 0.7757\n",
      "Epoch 707/1000\n",
      "267/267 [==============================] - 3s 12ms/step - loss: 0.2878 - accuracy: 0.9054 - val_loss: 0.8231 - val_accuracy: 0.7755\n",
      "Epoch 708/1000\n",
      "267/267 [==============================] - 3s 12ms/step - loss: 0.2865 - accuracy: 0.9038 - val_loss: 0.8411 - val_accuracy: 0.7734\n",
      "Epoch 709/1000\n",
      "267/267 [==============================] - 3s 12ms/step - loss: 0.2968 - accuracy: 0.9017 - val_loss: 0.8116 - val_accuracy: 0.7754\n",
      "Epoch 710/1000\n",
      "267/267 [==============================] - 3s 12ms/step - loss: 0.2853 - accuracy: 0.9050 - val_loss: 0.8194 - val_accuracy: 0.7775\n",
      "Epoch 711/1000\n",
      "267/267 [==============================] - 3s 12ms/step - loss: 0.2879 - accuracy: 0.9051 - val_loss: 0.8415 - val_accuracy: 0.7716\n",
      "Epoch 712/1000\n",
      "267/267 [==============================] - 3s 12ms/step - loss: 0.2857 - accuracy: 0.9062 - val_loss: 0.7952 - val_accuracy: 0.7766\n",
      "Epoch 713/1000\n",
      "267/267 [==============================] - 3s 12ms/step - loss: 0.2901 - accuracy: 0.9052 - val_loss: 0.7946 - val_accuracy: 0.7767\n",
      "Epoch 714/1000\n",
      "267/267 [==============================] - 3s 12ms/step - loss: 0.2878 - accuracy: 0.9037 - val_loss: 0.8523 - val_accuracy: 0.7766\n",
      "Epoch 715/1000\n",
      "267/267 [==============================] - 3s 12ms/step - loss: 0.3008 - accuracy: 0.9028 - val_loss: 0.8371 - val_accuracy: 0.7812\n",
      "Epoch 716/1000\n",
      "267/267 [==============================] - 3s 13ms/step - loss: 0.2890 - accuracy: 0.9047 - val_loss: 0.8417 - val_accuracy: 0.7729\n",
      "Epoch 717/1000\n",
      "267/267 [==============================] - 3s 13ms/step - loss: 0.2872 - accuracy: 0.9062 - val_loss: 0.8121 - val_accuracy: 0.7779\n",
      "Epoch 718/1000\n",
      "267/267 [==============================] - 3s 12ms/step - loss: 0.2888 - accuracy: 0.9071 - val_loss: 0.7827 - val_accuracy: 0.7816\n",
      "Epoch 719/1000\n",
      "267/267 [==============================] - 3s 13ms/step - loss: 0.2823 - accuracy: 0.9083 - val_loss: 0.7841 - val_accuracy: 0.7804\n",
      "Epoch 720/1000\n",
      "267/267 [==============================] - 3s 13ms/step - loss: 0.2876 - accuracy: 0.9045 - val_loss: 0.8045 - val_accuracy: 0.7765\n",
      "Epoch 721/1000\n",
      "267/267 [==============================] - 3s 12ms/step - loss: 0.2792 - accuracy: 0.9077 - val_loss: 0.7986 - val_accuracy: 0.7798\n",
      "Epoch 722/1000\n",
      "267/267 [==============================] - 3s 13ms/step - loss: 0.2927 - accuracy: 0.9020 - val_loss: 0.7870 - val_accuracy: 0.7773\n",
      "Epoch 723/1000\n",
      "267/267 [==============================] - 3s 13ms/step - loss: 0.2851 - accuracy: 0.9058 - val_loss: 0.8101 - val_accuracy: 0.7804\n",
      "Epoch 724/1000\n",
      "267/267 [==============================] - 3s 13ms/step - loss: 0.2955 - accuracy: 0.9027 - val_loss: 0.8086 - val_accuracy: 0.7782\n",
      "Epoch 725/1000\n",
      "267/267 [==============================] - 3s 13ms/step - loss: 0.2948 - accuracy: 0.9045 - val_loss: 0.7834 - val_accuracy: 0.7804\n",
      "Epoch 726/1000\n",
      "267/267 [==============================] - 3s 13ms/step - loss: 0.2928 - accuracy: 0.9058 - val_loss: 0.7897 - val_accuracy: 0.7811\n",
      "Epoch 727/1000\n",
      "267/267 [==============================] - 3s 12ms/step - loss: 0.2853 - accuracy: 0.9051 - val_loss: 0.7869 - val_accuracy: 0.7755\n",
      "Epoch 728/1000\n",
      "267/267 [==============================] - 3s 13ms/step - loss: 0.2858 - accuracy: 0.9032 - val_loss: 0.8152 - val_accuracy: 0.7814\n",
      "Epoch 729/1000\n",
      "267/267 [==============================] - 3s 12ms/step - loss: 0.2926 - accuracy: 0.9053 - val_loss: 0.8432 - val_accuracy: 0.7779\n",
      "Epoch 730/1000\n",
      "267/267 [==============================] - 3s 13ms/step - loss: 0.2980 - accuracy: 0.9013 - val_loss: 0.8444 - val_accuracy: 0.7757\n",
      "Epoch 731/1000\n",
      "267/267 [==============================] - 3s 13ms/step - loss: 0.2872 - accuracy: 0.9057 - val_loss: 0.8175 - val_accuracy: 0.7735\n",
      "Epoch 732/1000\n",
      "267/267 [==============================] - 3s 12ms/step - loss: 0.2828 - accuracy: 0.9038 - val_loss: 0.8153 - val_accuracy: 0.7763\n",
      "Epoch 733/1000\n",
      "267/267 [==============================] - 3s 13ms/step - loss: 0.2962 - accuracy: 0.9031 - val_loss: 0.8260 - val_accuracy: 0.7803\n",
      "Epoch 734/1000\n",
      "267/267 [==============================] - 3s 12ms/step - loss: 0.2901 - accuracy: 0.9051 - val_loss: 0.8102 - val_accuracy: 0.7751\n",
      "Epoch 735/1000\n",
      "267/267 [==============================] - 3s 12ms/step - loss: 0.2875 - accuracy: 0.9067 - val_loss: 0.8038 - val_accuracy: 0.7746\n",
      "Epoch 736/1000\n",
      "267/267 [==============================] - 3s 13ms/step - loss: 0.2941 - accuracy: 0.9039 - val_loss: 0.8205 - val_accuracy: 0.7747\n",
      "Epoch 737/1000\n",
      "267/267 [==============================] - 3s 12ms/step - loss: 0.2989 - accuracy: 0.9048 - val_loss: 0.8272 - val_accuracy: 0.7793\n",
      "Epoch 738/1000\n",
      "267/267 [==============================] - 3s 12ms/step - loss: 0.2871 - accuracy: 0.9064 - val_loss: 0.8060 - val_accuracy: 0.7799\n",
      "Epoch 739/1000\n",
      "267/267 [==============================] - 3s 12ms/step - loss: 0.2807 - accuracy: 0.9077 - val_loss: 0.8173 - val_accuracy: 0.7810\n",
      "Epoch 740/1000\n",
      "267/267 [==============================] - 3s 12ms/step - loss: 0.2828 - accuracy: 0.9058 - val_loss: 0.8031 - val_accuracy: 0.7780\n",
      "Epoch 741/1000\n",
      "267/267 [==============================] - 3s 13ms/step - loss: 0.2791 - accuracy: 0.9080 - val_loss: 0.8125 - val_accuracy: 0.7772\n",
      "Epoch 742/1000\n",
      "267/267 [==============================] - 3s 13ms/step - loss: 0.2816 - accuracy: 0.9075 - val_loss: 0.8031 - val_accuracy: 0.7791\n",
      "Epoch 743/1000\n",
      "267/267 [==============================] - 3s 12ms/step - loss: 0.2861 - accuracy: 0.9054 - val_loss: 0.8378 - val_accuracy: 0.7766\n",
      "Epoch 744/1000\n",
      "267/267 [==============================] - 3s 13ms/step - loss: 0.2931 - accuracy: 0.9055 - val_loss: 0.8441 - val_accuracy: 0.7788\n",
      "Epoch 745/1000\n",
      "267/267 [==============================] - 3s 12ms/step - loss: 0.2879 - accuracy: 0.9061 - val_loss: 0.8429 - val_accuracy: 0.7744\n",
      "Epoch 746/1000\n",
      "267/267 [==============================] - 3s 12ms/step - loss: 0.2863 - accuracy: 0.9072 - val_loss: 0.8291 - val_accuracy: 0.7737\n",
      "Epoch 747/1000\n",
      "267/267 [==============================] - 3s 12ms/step - loss: 0.2840 - accuracy: 0.9061 - val_loss: 0.8333 - val_accuracy: 0.7748\n",
      "Epoch 748/1000\n",
      "267/267 [==============================] - 3s 13ms/step - loss: 0.2831 - accuracy: 0.9090 - val_loss: 0.8475 - val_accuracy: 0.7712\n",
      "Epoch 749/1000\n",
      "267/267 [==============================] - 3s 12ms/step - loss: 0.2982 - accuracy: 0.9059 - val_loss: 0.8243 - val_accuracy: 0.7767\n",
      "Epoch 750/1000\n",
      "267/267 [==============================] - 3s 12ms/step - loss: 0.2966 - accuracy: 0.9044 - val_loss: 0.8315 - val_accuracy: 0.7770\n",
      "Epoch 751/1000\n",
      "267/267 [==============================] - 3s 12ms/step - loss: 0.2949 - accuracy: 0.9054 - val_loss: 0.8019 - val_accuracy: 0.7747\n",
      "Epoch 752/1000\n",
      "267/267 [==============================] - 3s 13ms/step - loss: 0.2780 - accuracy: 0.9087 - val_loss: 0.8330 - val_accuracy: 0.7780\n",
      "Epoch 753/1000\n",
      "267/267 [==============================] - 3s 12ms/step - loss: 0.2935 - accuracy: 0.9048 - val_loss: 0.8045 - val_accuracy: 0.7795\n",
      "Epoch 754/1000\n",
      "267/267 [==============================] - 3s 13ms/step - loss: 0.2934 - accuracy: 0.9039 - val_loss: 0.8151 - val_accuracy: 0.7758\n",
      "Epoch 755/1000\n",
      "267/267 [==============================] - 3s 12ms/step - loss: 0.3011 - accuracy: 0.9018 - val_loss: 0.8315 - val_accuracy: 0.7760\n",
      "Epoch 756/1000\n",
      "267/267 [==============================] - 3s 13ms/step - loss: 0.2833 - accuracy: 0.9036 - val_loss: 0.8054 - val_accuracy: 0.7789\n",
      "Epoch 757/1000\n",
      "267/267 [==============================] - 3s 12ms/step - loss: 0.2867 - accuracy: 0.9064 - val_loss: 0.8103 - val_accuracy: 0.7769\n",
      "Epoch 758/1000\n",
      "267/267 [==============================] - 3s 13ms/step - loss: 0.2839 - accuracy: 0.9062 - val_loss: 0.8100 - val_accuracy: 0.7767\n",
      "Epoch 759/1000\n",
      "267/267 [==============================] - 3s 13ms/step - loss: 0.2751 - accuracy: 0.9087 - val_loss: 0.8624 - val_accuracy: 0.7744\n",
      "Epoch 760/1000\n",
      "267/267 [==============================] - 3s 12ms/step - loss: 0.2901 - accuracy: 0.9063 - val_loss: 0.8248 - val_accuracy: 0.7814\n",
      "Epoch 761/1000\n",
      "267/267 [==============================] - 3s 13ms/step - loss: 0.2829 - accuracy: 0.9072 - val_loss: 0.8009 - val_accuracy: 0.7771\n",
      "Epoch 762/1000\n",
      "267/267 [==============================] - 3s 13ms/step - loss: 0.2863 - accuracy: 0.9054 - val_loss: 0.7909 - val_accuracy: 0.7760\n",
      "Epoch 763/1000\n",
      "267/267 [==============================] - 3s 13ms/step - loss: 0.2843 - accuracy: 0.9048 - val_loss: 0.8154 - val_accuracy: 0.7765\n",
      "Epoch 764/1000\n",
      "267/267 [==============================] - 3s 12ms/step - loss: 0.2896 - accuracy: 0.9036 - val_loss: 0.8362 - val_accuracy: 0.7730\n",
      "Epoch 765/1000\n",
      "267/267 [==============================] - 3s 12ms/step - loss: 0.2899 - accuracy: 0.9042 - val_loss: 0.7999 - val_accuracy: 0.7758\n",
      "Epoch 766/1000\n",
      "267/267 [==============================] - 3s 13ms/step - loss: 0.2780 - accuracy: 0.9100 - val_loss: 0.8448 - val_accuracy: 0.7747\n",
      "Epoch 767/1000\n",
      "267/267 [==============================] - 3s 13ms/step - loss: 0.2805 - accuracy: 0.9049 - val_loss: 0.8396 - val_accuracy: 0.7713\n",
      "Epoch 768/1000\n",
      "267/267 [==============================] - 3s 13ms/step - loss: 0.2745 - accuracy: 0.9095 - val_loss: 0.8330 - val_accuracy: 0.7776\n",
      "Epoch 769/1000\n",
      "267/267 [==============================] - 3s 13ms/step - loss: 0.2782 - accuracy: 0.9071 - val_loss: 0.8322 - val_accuracy: 0.7742\n",
      "Epoch 770/1000\n",
      "267/267 [==============================] - 3s 12ms/step - loss: 0.2882 - accuracy: 0.9040 - val_loss: 0.8457 - val_accuracy: 0.7738\n",
      "Epoch 771/1000\n",
      "267/267 [==============================] - 3s 12ms/step - loss: 0.2824 - accuracy: 0.9076 - val_loss: 0.8525 - val_accuracy: 0.7757\n",
      "Epoch 772/1000\n",
      "267/267 [==============================] - 3s 12ms/step - loss: 0.2864 - accuracy: 0.9053 - val_loss: 0.8328 - val_accuracy: 0.7766\n",
      "Epoch 773/1000\n",
      "267/267 [==============================] - 3s 13ms/step - loss: 0.2929 - accuracy: 0.9071 - val_loss: 0.8292 - val_accuracy: 0.7751\n",
      "Epoch 774/1000\n",
      "267/267 [==============================] - 3s 13ms/step - loss: 0.2820 - accuracy: 0.9068 - val_loss: 0.8377 - val_accuracy: 0.7757\n",
      "Epoch 775/1000\n",
      "267/267 [==============================] - 3s 13ms/step - loss: 0.2829 - accuracy: 0.9063 - val_loss: 0.8350 - val_accuracy: 0.7799\n",
      "Epoch 776/1000\n",
      "267/267 [==============================] - 3s 13ms/step - loss: 0.2864 - accuracy: 0.9066 - val_loss: 0.8381 - val_accuracy: 0.7775\n",
      "Epoch 777/1000\n",
      "267/267 [==============================] - 3s 13ms/step - loss: 0.2862 - accuracy: 0.9039 - val_loss: 0.8417 - val_accuracy: 0.7774\n",
      "Epoch 778/1000\n",
      "267/267 [==============================] - 3s 12ms/step - loss: 0.2877 - accuracy: 0.9038 - val_loss: 0.8132 - val_accuracy: 0.7769\n",
      "Epoch 779/1000\n",
      "267/267 [==============================] - 3s 13ms/step - loss: 0.2783 - accuracy: 0.9096 - val_loss: 0.8276 - val_accuracy: 0.7780\n",
      "Epoch 780/1000\n",
      "267/267 [==============================] - 3s 12ms/step - loss: 0.2874 - accuracy: 0.9037 - val_loss: 0.8324 - val_accuracy: 0.7776\n",
      "Epoch 781/1000\n",
      "267/267 [==============================] - 3s 13ms/step - loss: 0.2841 - accuracy: 0.9067 - val_loss: 0.8425 - val_accuracy: 0.7779\n",
      "Epoch 782/1000\n",
      "267/267 [==============================] - 3s 13ms/step - loss: 0.2829 - accuracy: 0.9059 - val_loss: 0.8394 - val_accuracy: 0.7772\n",
      "Epoch 783/1000\n",
      "267/267 [==============================] - 3s 13ms/step - loss: 0.2836 - accuracy: 0.9090 - val_loss: 0.8492 - val_accuracy: 0.7746\n",
      "Epoch 784/1000\n",
      "267/267 [==============================] - 3s 13ms/step - loss: 0.2924 - accuracy: 0.9046 - val_loss: 0.8356 - val_accuracy: 0.7761\n",
      "Epoch 785/1000\n",
      "267/267 [==============================] - 3s 13ms/step - loss: 0.2932 - accuracy: 0.9060 - val_loss: 0.8153 - val_accuracy: 0.7769\n",
      "Epoch 786/1000\n",
      "267/267 [==============================] - 3s 13ms/step - loss: 0.2752 - accuracy: 0.9100 - val_loss: 0.7990 - val_accuracy: 0.7764\n",
      "Epoch 787/1000\n",
      "267/267 [==============================] - 3s 12ms/step - loss: 0.2964 - accuracy: 0.9035 - val_loss: 0.8459 - val_accuracy: 0.7766\n",
      "Epoch 788/1000\n",
      "267/267 [==============================] - 3s 13ms/step - loss: 0.2880 - accuracy: 0.9067 - val_loss: 0.8455 - val_accuracy: 0.7707\n",
      "Epoch 789/1000\n",
      "267/267 [==============================] - 3s 13ms/step - loss: 0.2750 - accuracy: 0.9101 - val_loss: 0.8051 - val_accuracy: 0.7762\n",
      "Epoch 790/1000\n",
      "267/267 [==============================] - 3s 12ms/step - loss: 0.2875 - accuracy: 0.9090 - val_loss: 0.7873 - val_accuracy: 0.7771\n",
      "Epoch 791/1000\n",
      "267/267 [==============================] - 3s 13ms/step - loss: 0.2743 - accuracy: 0.9090 - val_loss: 0.8202 - val_accuracy: 0.7679\n",
      "Epoch 792/1000\n",
      "267/267 [==============================] - 3s 13ms/step - loss: 0.2960 - accuracy: 0.9031 - val_loss: 0.8306 - val_accuracy: 0.7749\n",
      "Epoch 793/1000\n",
      "267/267 [==============================] - 3s 13ms/step - loss: 0.2786 - accuracy: 0.9087 - val_loss: 0.8332 - val_accuracy: 0.7749\n",
      "Epoch 794/1000\n",
      "267/267 [==============================] - 3s 13ms/step - loss: 0.2803 - accuracy: 0.9096 - val_loss: 0.7943 - val_accuracy: 0.7787\n",
      "Epoch 795/1000\n",
      "267/267 [==============================] - 3s 13ms/step - loss: 0.2804 - accuracy: 0.9080 - val_loss: 0.8362 - val_accuracy: 0.7767\n",
      "Epoch 796/1000\n",
      "267/267 [==============================] - 3s 13ms/step - loss: 0.2955 - accuracy: 0.9007 - val_loss: 0.8771 - val_accuracy: 0.7731\n",
      "Epoch 797/1000\n",
      "267/267 [==============================] - 3s 12ms/step - loss: 0.2831 - accuracy: 0.9077 - val_loss: 0.8325 - val_accuracy: 0.7778\n",
      "Epoch 798/1000\n",
      "267/267 [==============================] - 3s 12ms/step - loss: 0.2869 - accuracy: 0.9101 - val_loss: 0.8455 - val_accuracy: 0.7817\n",
      "Epoch 799/1000\n",
      "267/267 [==============================] - 3s 13ms/step - loss: 0.2851 - accuracy: 0.9082 - val_loss: 0.8298 - val_accuracy: 0.7727\n",
      "Epoch 800/1000\n",
      "267/267 [==============================] - 3s 12ms/step - loss: 0.2805 - accuracy: 0.9072 - val_loss: 0.8128 - val_accuracy: 0.7755\n",
      "Epoch 801/1000\n",
      "267/267 [==============================] - 3s 12ms/step - loss: 0.2896 - accuracy: 0.9069 - val_loss: 0.8241 - val_accuracy: 0.7768\n",
      "Epoch 802/1000\n",
      "267/267 [==============================] - 3s 12ms/step - loss: 0.2702 - accuracy: 0.9086 - val_loss: 0.8027 - val_accuracy: 0.7811\n",
      "Epoch 803/1000\n",
      "267/267 [==============================] - 3s 12ms/step - loss: 0.2828 - accuracy: 0.9085 - val_loss: 0.8407 - val_accuracy: 0.7752\n",
      "Epoch 804/1000\n",
      "267/267 [==============================] - 3s 13ms/step - loss: 0.2969 - accuracy: 0.9035 - val_loss: 0.8332 - val_accuracy: 0.7767\n",
      "Epoch 805/1000\n",
      "267/267 [==============================] - 3s 13ms/step - loss: 0.2839 - accuracy: 0.9063 - val_loss: 0.8162 - val_accuracy: 0.7766\n",
      "Epoch 806/1000\n",
      "267/267 [==============================] - 3s 12ms/step - loss: 0.2820 - accuracy: 0.9080 - val_loss: 0.8276 - val_accuracy: 0.7802\n",
      "Epoch 807/1000\n",
      "267/267 [==============================] - 3s 13ms/step - loss: 0.2722 - accuracy: 0.9119 - val_loss: 0.8338 - val_accuracy: 0.7776\n",
      "Epoch 808/1000\n",
      "267/267 [==============================] - 3s 13ms/step - loss: 0.2878 - accuracy: 0.9060 - val_loss: 0.8286 - val_accuracy: 0.7714\n",
      "Epoch 809/1000\n",
      "267/267 [==============================] - 3s 12ms/step - loss: 0.2848 - accuracy: 0.9063 - val_loss: 0.8288 - val_accuracy: 0.7737\n",
      "Epoch 810/1000\n",
      "267/267 [==============================] - 3s 12ms/step - loss: 0.2844 - accuracy: 0.9085 - val_loss: 0.7965 - val_accuracy: 0.7781\n",
      "Epoch 811/1000\n",
      "267/267 [==============================] - 3s 12ms/step - loss: 0.2762 - accuracy: 0.9086 - val_loss: 0.8142 - val_accuracy: 0.7788\n",
      "Epoch 812/1000\n",
      "267/267 [==============================] - 3s 13ms/step - loss: 0.2768 - accuracy: 0.9080 - val_loss: 0.8471 - val_accuracy: 0.7727\n",
      "Epoch 813/1000\n",
      "267/267 [==============================] - 3s 13ms/step - loss: 0.2848 - accuracy: 0.9041 - val_loss: 0.8666 - val_accuracy: 0.7744\n",
      "Epoch 814/1000\n",
      "267/267 [==============================] - 3s 13ms/step - loss: 0.2816 - accuracy: 0.9088 - val_loss: 0.8047 - val_accuracy: 0.7762\n",
      "Epoch 815/1000\n",
      "267/267 [==============================] - 3s 13ms/step - loss: 0.2886 - accuracy: 0.9064 - val_loss: 0.8046 - val_accuracy: 0.7761\n",
      "Epoch 816/1000\n",
      "267/267 [==============================] - 3s 13ms/step - loss: 0.2911 - accuracy: 0.9052 - val_loss: 0.8092 - val_accuracy: 0.7831\n",
      "Epoch 817/1000\n",
      "267/267 [==============================] - 3s 13ms/step - loss: 0.2847 - accuracy: 0.9070 - val_loss: 0.8151 - val_accuracy: 0.7787\n",
      "Epoch 818/1000\n",
      "267/267 [==============================] - 3s 12ms/step - loss: 0.2915 - accuracy: 0.9070 - val_loss: 0.8604 - val_accuracy: 0.7741\n",
      "Epoch 819/1000\n",
      "267/267 [==============================] - 3s 12ms/step - loss: 0.2787 - accuracy: 0.9103 - val_loss: 0.8131 - val_accuracy: 0.7764\n",
      "Epoch 820/1000\n",
      "267/267 [==============================] - 3s 13ms/step - loss: 0.2877 - accuracy: 0.9040 - val_loss: 0.8265 - val_accuracy: 0.7746\n",
      "Epoch 821/1000\n",
      "267/267 [==============================] - 3s 13ms/step - loss: 0.2816 - accuracy: 0.9076 - val_loss: 0.8824 - val_accuracy: 0.7749\n",
      "Epoch 822/1000\n",
      "267/267 [==============================] - 3s 13ms/step - loss: 0.2854 - accuracy: 0.9060 - val_loss: 0.8504 - val_accuracy: 0.7769\n",
      "Epoch 823/1000\n",
      "267/267 [==============================] - 3s 12ms/step - loss: 0.2765 - accuracy: 0.9103 - val_loss: 0.8303 - val_accuracy: 0.7783\n",
      "Epoch 824/1000\n",
      "267/267 [==============================] - 3s 13ms/step - loss: 0.2880 - accuracy: 0.9065 - val_loss: 0.8290 - val_accuracy: 0.7741\n",
      "Epoch 825/1000\n",
      "267/267 [==============================] - 3s 13ms/step - loss: 0.2799 - accuracy: 0.9086 - val_loss: 0.8006 - val_accuracy: 0.7810\n",
      "Epoch 826/1000\n",
      "267/267 [==============================] - 3s 13ms/step - loss: 0.2735 - accuracy: 0.9137 - val_loss: 0.8243 - val_accuracy: 0.7735\n",
      "Epoch 827/1000\n",
      "267/267 [==============================] - 3s 12ms/step - loss: 0.2801 - accuracy: 0.9068 - val_loss: 0.8520 - val_accuracy: 0.7772\n",
      "Epoch 828/1000\n",
      "267/267 [==============================] - 3s 12ms/step - loss: 0.2915 - accuracy: 0.9064 - val_loss: 0.8225 - val_accuracy: 0.7745\n",
      "Epoch 829/1000\n",
      "267/267 [==============================] - 3s 13ms/step - loss: 0.2785 - accuracy: 0.9094 - val_loss: 0.8636 - val_accuracy: 0.7794\n",
      "Epoch 830/1000\n",
      "267/267 [==============================] - 3s 12ms/step - loss: 0.2887 - accuracy: 0.9037 - val_loss: 0.7998 - val_accuracy: 0.7759\n",
      "Epoch 831/1000\n",
      "267/267 [==============================] - 3s 13ms/step - loss: 0.2795 - accuracy: 0.9090 - val_loss: 0.8175 - val_accuracy: 0.7746\n",
      "Epoch 832/1000\n",
      "267/267 [==============================] - 3s 12ms/step - loss: 0.2759 - accuracy: 0.9096 - val_loss: 0.8206 - val_accuracy: 0.7766\n",
      "Epoch 833/1000\n",
      "267/267 [==============================] - 3s 13ms/step - loss: 0.2852 - accuracy: 0.9067 - val_loss: 0.8447 - val_accuracy: 0.7717\n",
      "Epoch 834/1000\n",
      "267/267 [==============================] - 3s 13ms/step - loss: 0.2887 - accuracy: 0.9062 - val_loss: 0.8231 - val_accuracy: 0.7766\n",
      "Epoch 835/1000\n",
      "267/267 [==============================] - 3s 13ms/step - loss: 0.2886 - accuracy: 0.9080 - val_loss: 0.8431 - val_accuracy: 0.7738\n",
      "Epoch 836/1000\n",
      "267/267 [==============================] - 3s 12ms/step - loss: 0.2927 - accuracy: 0.9059 - val_loss: 0.8382 - val_accuracy: 0.7787\n",
      "Epoch 837/1000\n",
      "267/267 [==============================] - 3s 13ms/step - loss: 0.2851 - accuracy: 0.9099 - val_loss: 0.8459 - val_accuracy: 0.7764\n",
      "Epoch 838/1000\n",
      "267/267 [==============================] - 3s 12ms/step - loss: 0.2811 - accuracy: 0.9079 - val_loss: 0.8080 - val_accuracy: 0.7782\n",
      "Epoch 839/1000\n",
      "267/267 [==============================] - 3s 13ms/step - loss: 0.2747 - accuracy: 0.9109 - val_loss: 0.8847 - val_accuracy: 0.7698\n",
      "Epoch 840/1000\n",
      "267/267 [==============================] - 3s 13ms/step - loss: 0.2911 - accuracy: 0.9071 - val_loss: 0.8282 - val_accuracy: 0.7718\n",
      "Epoch 841/1000\n",
      "267/267 [==============================] - 3s 12ms/step - loss: 0.2824 - accuracy: 0.9071 - val_loss: 0.8290 - val_accuracy: 0.7779\n",
      "Epoch 842/1000\n",
      "267/267 [==============================] - 3s 12ms/step - loss: 0.2697 - accuracy: 0.9108 - val_loss: 0.8371 - val_accuracy: 0.7734\n",
      "Epoch 843/1000\n",
      "267/267 [==============================] - 3s 13ms/step - loss: 0.2737 - accuracy: 0.9101 - val_loss: 0.8461 - val_accuracy: 0.7763\n",
      "Epoch 844/1000\n",
      "267/267 [==============================] - 3s 13ms/step - loss: 0.2904 - accuracy: 0.9063 - val_loss: 0.8070 - val_accuracy: 0.7805\n",
      "Epoch 845/1000\n",
      "267/267 [==============================] - 3s 12ms/step - loss: 0.2806 - accuracy: 0.9099 - val_loss: 0.8161 - val_accuracy: 0.7782\n",
      "Epoch 846/1000\n",
      "267/267 [==============================] - 3s 13ms/step - loss: 0.2823 - accuracy: 0.9090 - val_loss: 0.8292 - val_accuracy: 0.7784\n",
      "Epoch 847/1000\n",
      "267/267 [==============================] - 3s 12ms/step - loss: 0.2797 - accuracy: 0.9092 - val_loss: 0.8457 - val_accuracy: 0.7788\n",
      "Epoch 848/1000\n",
      "267/267 [==============================] - 3s 12ms/step - loss: 0.2876 - accuracy: 0.9050 - val_loss: 0.8379 - val_accuracy: 0.7764\n",
      "Epoch 849/1000\n",
      "267/267 [==============================] - 3s 13ms/step - loss: 0.2906 - accuracy: 0.9033 - val_loss: 0.8474 - val_accuracy: 0.7767\n",
      "Epoch 850/1000\n",
      "267/267 [==============================] - 3s 13ms/step - loss: 0.2790 - accuracy: 0.9074 - val_loss: 0.8232 - val_accuracy: 0.7788\n",
      "Epoch 851/1000\n",
      "267/267 [==============================] - 3s 13ms/step - loss: 0.2888 - accuracy: 0.9053 - val_loss: 0.8488 - val_accuracy: 0.7768\n",
      "Epoch 852/1000\n",
      "267/267 [==============================] - 3s 13ms/step - loss: 0.2819 - accuracy: 0.9084 - val_loss: 0.7985 - val_accuracy: 0.7795\n",
      "Epoch 853/1000\n",
      "267/267 [==============================] - 3s 13ms/step - loss: 0.2690 - accuracy: 0.9106 - val_loss: 0.8420 - val_accuracy: 0.7772\n",
      "Epoch 854/1000\n",
      "267/267 [==============================] - 3s 13ms/step - loss: 0.2754 - accuracy: 0.9103 - val_loss: 0.8346 - val_accuracy: 0.7737\n",
      "Epoch 855/1000\n",
      "267/267 [==============================] - 3s 13ms/step - loss: 0.2789 - accuracy: 0.9114 - val_loss: 0.8298 - val_accuracy: 0.7770\n",
      "Epoch 856/1000\n",
      "267/267 [==============================] - 3s 13ms/step - loss: 0.2846 - accuracy: 0.9096 - val_loss: 0.8294 - val_accuracy: 0.7760\n",
      "Epoch 857/1000\n",
      "267/267 [==============================] - 3s 13ms/step - loss: 0.2828 - accuracy: 0.9081 - val_loss: 0.8259 - val_accuracy: 0.7773\n",
      "Epoch 858/1000\n",
      "267/267 [==============================] - 3s 13ms/step - loss: 0.2870 - accuracy: 0.9071 - val_loss: 0.8218 - val_accuracy: 0.7808\n",
      "Epoch 859/1000\n",
      "267/267 [==============================] - 3s 13ms/step - loss: 0.2852 - accuracy: 0.9085 - val_loss: 0.8253 - val_accuracy: 0.7753\n",
      "Epoch 860/1000\n",
      "267/267 [==============================] - 3s 13ms/step - loss: 0.2852 - accuracy: 0.9098 - val_loss: 0.8402 - val_accuracy: 0.7788\n",
      "Epoch 861/1000\n",
      "267/267 [==============================] - 3s 13ms/step - loss: 0.2767 - accuracy: 0.9085 - val_loss: 0.8338 - val_accuracy: 0.7761\n",
      "Epoch 862/1000\n",
      "267/267 [==============================] - 3s 13ms/step - loss: 0.2871 - accuracy: 0.9074 - val_loss: 0.8361 - val_accuracy: 0.7762\n",
      "Epoch 863/1000\n",
      "267/267 [==============================] - 3s 13ms/step - loss: 0.2847 - accuracy: 0.9059 - val_loss: 0.8094 - val_accuracy: 0.7807\n",
      "Epoch 864/1000\n",
      "267/267 [==============================] - 3s 13ms/step - loss: 0.2823 - accuracy: 0.9095 - val_loss: 0.8013 - val_accuracy: 0.7723\n",
      "Epoch 865/1000\n",
      "267/267 [==============================] - 3s 13ms/step - loss: 0.2825 - accuracy: 0.9080 - val_loss: 0.8349 - val_accuracy: 0.7800\n",
      "Epoch 866/1000\n",
      "267/267 [==============================] - 3s 13ms/step - loss: 0.2696 - accuracy: 0.9093 - val_loss: 0.8312 - val_accuracy: 0.7777\n",
      "Epoch 867/1000\n",
      "267/267 [==============================] - 3s 12ms/step - loss: 0.2820 - accuracy: 0.9074 - val_loss: 0.8296 - val_accuracy: 0.7798\n",
      "Epoch 868/1000\n",
      "267/267 [==============================] - 3s 13ms/step - loss: 0.2822 - accuracy: 0.9094 - val_loss: 0.8291 - val_accuracy: 0.7768\n",
      "Epoch 869/1000\n",
      "267/267 [==============================] - 3s 13ms/step - loss: 0.2797 - accuracy: 0.9109 - val_loss: 0.8309 - val_accuracy: 0.7751\n",
      "Epoch 870/1000\n",
      "267/267 [==============================] - 3s 13ms/step - loss: 0.2964 - accuracy: 0.9027 - val_loss: 0.8534 - val_accuracy: 0.7765\n",
      "Epoch 871/1000\n",
      "267/267 [==============================] - 3s 12ms/step - loss: 0.2887 - accuracy: 0.9060 - val_loss: 0.8108 - val_accuracy: 0.7808\n",
      "Epoch 872/1000\n",
      "267/267 [==============================] - 3s 13ms/step - loss: 0.2882 - accuracy: 0.9067 - val_loss: 0.8653 - val_accuracy: 0.7725\n",
      "Epoch 873/1000\n",
      "267/267 [==============================] - 3s 13ms/step - loss: 0.2762 - accuracy: 0.9093 - val_loss: 0.8075 - val_accuracy: 0.7805\n",
      "Epoch 874/1000\n",
      "267/267 [==============================] - 3s 13ms/step - loss: 0.2963 - accuracy: 0.9052 - val_loss: 0.8417 - val_accuracy: 0.7743\n",
      "Epoch 875/1000\n",
      "267/267 [==============================] - 3s 12ms/step - loss: 0.2832 - accuracy: 0.9094 - val_loss: 0.8210 - val_accuracy: 0.7774\n",
      "Epoch 876/1000\n",
      "267/267 [==============================] - 3s 13ms/step - loss: 0.2793 - accuracy: 0.9059 - val_loss: 0.8389 - val_accuracy: 0.7779\n",
      "Epoch 877/1000\n",
      "267/267 [==============================] - 3s 13ms/step - loss: 0.3065 - accuracy: 0.8998 - val_loss: 0.8493 - val_accuracy: 0.7761\n",
      "Epoch 878/1000\n",
      "267/267 [==============================] - 3s 12ms/step - loss: 0.2823 - accuracy: 0.9091 - val_loss: 0.8175 - val_accuracy: 0.7770\n",
      "Epoch 879/1000\n",
      "267/267 [==============================] - 3s 13ms/step - loss: 0.2757 - accuracy: 0.9092 - val_loss: 0.8538 - val_accuracy: 0.7731\n",
      "Epoch 880/1000\n",
      "267/267 [==============================] - 3s 13ms/step - loss: 0.2788 - accuracy: 0.9080 - val_loss: 0.8051 - val_accuracy: 0.7779\n",
      "Epoch 881/1000\n",
      "267/267 [==============================] - 3s 13ms/step - loss: 0.2780 - accuracy: 0.9085 - val_loss: 0.8115 - val_accuracy: 0.7734\n",
      "Epoch 882/1000\n",
      "267/267 [==============================] - 3s 13ms/step - loss: 0.2836 - accuracy: 0.9065 - val_loss: 0.8415 - val_accuracy: 0.7760\n",
      "Epoch 883/1000\n",
      "267/267 [==============================] - 3s 13ms/step - loss: 0.2784 - accuracy: 0.9088 - val_loss: 0.8460 - val_accuracy: 0.7810\n",
      "Epoch 884/1000\n",
      "267/267 [==============================] - 3s 13ms/step - loss: 0.2792 - accuracy: 0.9091 - val_loss: 0.8660 - val_accuracy: 0.7795\n",
      "Epoch 885/1000\n",
      "267/267 [==============================] - 3s 13ms/step - loss: 0.2871 - accuracy: 0.9071 - val_loss: 0.8487 - val_accuracy: 0.7777\n",
      "Epoch 886/1000\n",
      "267/267 [==============================] - 3s 13ms/step - loss: 0.2747 - accuracy: 0.9119 - val_loss: 0.8278 - val_accuracy: 0.7800\n",
      "Epoch 887/1000\n",
      "267/267 [==============================] - 3s 12ms/step - loss: 0.2774 - accuracy: 0.9087 - val_loss: 0.8443 - val_accuracy: 0.7721\n",
      "Epoch 888/1000\n",
      "267/267 [==============================] - 3s 12ms/step - loss: 0.2922 - accuracy: 0.9061 - val_loss: 0.8133 - val_accuracy: 0.7812\n",
      "Epoch 889/1000\n",
      "267/267 [==============================] - 3s 13ms/step - loss: 0.2771 - accuracy: 0.9103 - val_loss: 0.8249 - val_accuracy: 0.7784\n",
      "Epoch 890/1000\n",
      "267/267 [==============================] - 3s 12ms/step - loss: 0.2778 - accuracy: 0.9114 - val_loss: 0.8412 - val_accuracy: 0.7762\n",
      "Epoch 891/1000\n",
      "267/267 [==============================] - 3s 13ms/step - loss: 0.2750 - accuracy: 0.9112 - val_loss: 0.8367 - val_accuracy: 0.7775\n",
      "Epoch 892/1000\n",
      "267/267 [==============================] - 3s 13ms/step - loss: 0.2712 - accuracy: 0.9118 - val_loss: 0.8037 - val_accuracy: 0.7768\n",
      "Epoch 893/1000\n",
      "267/267 [==============================] - 3s 13ms/step - loss: 0.2841 - accuracy: 0.9074 - val_loss: 0.8165 - val_accuracy: 0.7763\n",
      "Epoch 894/1000\n",
      "267/267 [==============================] - 3s 13ms/step - loss: 0.2779 - accuracy: 0.9116 - val_loss: 0.8204 - val_accuracy: 0.7770\n",
      "Epoch 895/1000\n",
      "267/267 [==============================] - 3s 13ms/step - loss: 0.2791 - accuracy: 0.9078 - val_loss: 0.8282 - val_accuracy: 0.7732\n",
      "Epoch 896/1000\n",
      "267/267 [==============================] - 3s 13ms/step - loss: 0.2778 - accuracy: 0.9108 - val_loss: 0.8191 - val_accuracy: 0.7782\n",
      "Epoch 897/1000\n",
      "267/267 [==============================] - 3s 12ms/step - loss: 0.2890 - accuracy: 0.9075 - val_loss: 0.7962 - val_accuracy: 0.7792\n",
      "Epoch 898/1000\n",
      "267/267 [==============================] - 3s 13ms/step - loss: 0.2737 - accuracy: 0.9074 - val_loss: 0.8034 - val_accuracy: 0.7806\n",
      "Epoch 899/1000\n",
      "267/267 [==============================] - 3s 13ms/step - loss: 0.2801 - accuracy: 0.9100 - val_loss: 0.8566 - val_accuracy: 0.7758\n",
      "Epoch 900/1000\n",
      "267/267 [==============================] - 3s 13ms/step - loss: 0.2686 - accuracy: 0.9132 - val_loss: 0.8161 - val_accuracy: 0.7818\n",
      "Epoch 901/1000\n",
      "267/267 [==============================] - 3s 13ms/step - loss: 0.2652 - accuracy: 0.9123 - val_loss: 0.8088 - val_accuracy: 0.7785\n",
      "Epoch 902/1000\n",
      "267/267 [==============================] - 3s 13ms/step - loss: 0.2718 - accuracy: 0.9091 - val_loss: 0.8637 - val_accuracy: 0.7753\n",
      "Epoch 903/1000\n",
      "267/267 [==============================] - 3s 12ms/step - loss: 0.2724 - accuracy: 0.9097 - val_loss: 0.8387 - val_accuracy: 0.7774\n",
      "Epoch 904/1000\n",
      "267/267 [==============================] - 3s 13ms/step - loss: 0.2790 - accuracy: 0.9076 - val_loss: 0.8319 - val_accuracy: 0.7728\n",
      "Epoch 905/1000\n",
      "267/267 [==============================] - 3s 13ms/step - loss: 0.2904 - accuracy: 0.9054 - val_loss: 0.8466 - val_accuracy: 0.7753\n",
      "Epoch 906/1000\n",
      "267/267 [==============================] - 3s 13ms/step - loss: 0.2836 - accuracy: 0.9060 - val_loss: 0.8381 - val_accuracy: 0.7782\n",
      "Epoch 907/1000\n",
      "267/267 [==============================] - 3s 13ms/step - loss: 0.2856 - accuracy: 0.9100 - val_loss: 0.8163 - val_accuracy: 0.7734\n",
      "Epoch 908/1000\n",
      "267/267 [==============================] - 3s 13ms/step - loss: 0.2832 - accuracy: 0.9093 - val_loss: 0.8359 - val_accuracy: 0.7728\n",
      "Epoch 909/1000\n",
      "267/267 [==============================] - 3s 13ms/step - loss: 0.2831 - accuracy: 0.9085 - val_loss: 0.7884 - val_accuracy: 0.7765\n",
      "Epoch 910/1000\n",
      "267/267 [==============================] - 3s 13ms/step - loss: 0.2732 - accuracy: 0.9100 - val_loss: 0.8128 - val_accuracy: 0.7787\n",
      "Epoch 911/1000\n",
      "267/267 [==============================] - 3s 13ms/step - loss: 0.2851 - accuracy: 0.9069 - val_loss: 0.7879 - val_accuracy: 0.7770\n",
      "Epoch 912/1000\n",
      "267/267 [==============================] - 3s 13ms/step - loss: 0.2619 - accuracy: 0.9134 - val_loss: 0.7811 - val_accuracy: 0.7800\n",
      "Epoch 913/1000\n",
      "267/267 [==============================] - 3s 13ms/step - loss: 0.2776 - accuracy: 0.9150 - val_loss: 0.8305 - val_accuracy: 0.7750\n",
      "Epoch 914/1000\n",
      "267/267 [==============================] - 3s 13ms/step - loss: 0.2858 - accuracy: 0.9084 - val_loss: 0.8136 - val_accuracy: 0.7786\n",
      "Epoch 915/1000\n",
      "267/267 [==============================] - 3s 13ms/step - loss: 0.2700 - accuracy: 0.9119 - val_loss: 0.8837 - val_accuracy: 0.7782\n",
      "Epoch 916/1000\n",
      "267/267 [==============================] - 3s 13ms/step - loss: 0.2765 - accuracy: 0.9118 - val_loss: 0.8273 - val_accuracy: 0.7767\n",
      "Epoch 917/1000\n",
      "267/267 [==============================] - 3s 13ms/step - loss: 0.2899 - accuracy: 0.9068 - val_loss: 0.8335 - val_accuracy: 0.7799\n",
      "Epoch 918/1000\n",
      "267/267 [==============================] - 3s 13ms/step - loss: 0.2749 - accuracy: 0.9113 - val_loss: 0.8381 - val_accuracy: 0.7752\n",
      "Epoch 919/1000\n",
      "267/267 [==============================] - 3s 13ms/step - loss: 0.2778 - accuracy: 0.9086 - val_loss: 0.8238 - val_accuracy: 0.7803\n",
      "Epoch 920/1000\n",
      "267/267 [==============================] - 3s 13ms/step - loss: 0.2854 - accuracy: 0.9081 - val_loss: 0.8123 - val_accuracy: 0.7793\n",
      "Epoch 921/1000\n",
      "267/267 [==============================] - 3s 13ms/step - loss: 0.2914 - accuracy: 0.9063 - val_loss: 0.8349 - val_accuracy: 0.7762\n",
      "Epoch 922/1000\n",
      "267/267 [==============================] - 3s 13ms/step - loss: 0.2845 - accuracy: 0.9079 - val_loss: 0.8344 - val_accuracy: 0.7761\n",
      "Epoch 923/1000\n",
      "267/267 [==============================] - 3s 13ms/step - loss: 0.2757 - accuracy: 0.9086 - val_loss: 0.8508 - val_accuracy: 0.7742\n",
      "Epoch 924/1000\n",
      "267/267 [==============================] - 3s 13ms/step - loss: 0.2884 - accuracy: 0.9075 - val_loss: 0.8098 - val_accuracy: 0.7766\n",
      "Epoch 925/1000\n",
      "267/267 [==============================] - 3s 13ms/step - loss: 0.2863 - accuracy: 0.9048 - val_loss: 0.8211 - val_accuracy: 0.7792\n",
      "Epoch 926/1000\n",
      "267/267 [==============================] - 3s 13ms/step - loss: 0.2766 - accuracy: 0.9097 - val_loss: 0.8190 - val_accuracy: 0.7741\n",
      "Epoch 927/1000\n",
      "267/267 [==============================] - 3s 13ms/step - loss: 0.2737 - accuracy: 0.9124 - val_loss: 0.8370 - val_accuracy: 0.7798\n",
      "Epoch 928/1000\n",
      "267/267 [==============================] - 3s 13ms/step - loss: 0.2676 - accuracy: 0.9136 - val_loss: 0.8233 - val_accuracy: 0.7774\n",
      "Epoch 929/1000\n",
      "267/267 [==============================] - 3s 13ms/step - loss: 0.2852 - accuracy: 0.9069 - val_loss: 0.8111 - val_accuracy: 0.7800\n",
      "Epoch 930/1000\n",
      "267/267 [==============================] - 3s 13ms/step - loss: 0.2623 - accuracy: 0.9122 - val_loss: 0.8786 - val_accuracy: 0.7743\n",
      "Epoch 931/1000\n",
      "267/267 [==============================] - 3s 13ms/step - loss: 0.2747 - accuracy: 0.9102 - val_loss: 0.8191 - val_accuracy: 0.7777\n",
      "Epoch 932/1000\n",
      "267/267 [==============================] - 3s 13ms/step - loss: 0.2769 - accuracy: 0.9093 - val_loss: 0.8331 - val_accuracy: 0.7748\n",
      "Epoch 933/1000\n",
      "267/267 [==============================] - 3s 12ms/step - loss: 0.2789 - accuracy: 0.9094 - val_loss: 0.8236 - val_accuracy: 0.7787\n",
      "Epoch 934/1000\n",
      "267/267 [==============================] - 3s 13ms/step - loss: 0.2773 - accuracy: 0.9102 - val_loss: 0.8294 - val_accuracy: 0.7732\n",
      "Epoch 935/1000\n",
      "267/267 [==============================] - 3s 13ms/step - loss: 0.2957 - accuracy: 0.9047 - val_loss: 0.8471 - val_accuracy: 0.7766\n",
      "Epoch 936/1000\n",
      "267/267 [==============================] - 3s 12ms/step - loss: 0.2882 - accuracy: 0.9109 - val_loss: 0.8269 - val_accuracy: 0.7769\n",
      "Epoch 937/1000\n",
      "267/267 [==============================] - 3s 13ms/step - loss: 0.2705 - accuracy: 0.9114 - val_loss: 0.8372 - val_accuracy: 0.7756\n",
      "Epoch 938/1000\n",
      "267/267 [==============================] - 3s 13ms/step - loss: 0.2875 - accuracy: 0.9092 - val_loss: 0.8448 - val_accuracy: 0.7762\n",
      "Epoch 939/1000\n",
      "267/267 [==============================] - 3s 13ms/step - loss: 0.2869 - accuracy: 0.9079 - val_loss: 0.8586 - val_accuracy: 0.7710\n",
      "Epoch 940/1000\n",
      "267/267 [==============================] - 3s 12ms/step - loss: 0.2875 - accuracy: 0.9116 - val_loss: 0.8435 - val_accuracy: 0.7808\n",
      "Epoch 941/1000\n",
      "267/267 [==============================] - 3s 12ms/step - loss: 0.2867 - accuracy: 0.9068 - val_loss: 0.8289 - val_accuracy: 0.7730\n",
      "Epoch 942/1000\n",
      "267/267 [==============================] - 3s 13ms/step - loss: 0.2804 - accuracy: 0.9121 - val_loss: 0.8382 - val_accuracy: 0.7716\n",
      "Epoch 943/1000\n",
      "267/267 [==============================] - 3s 13ms/step - loss: 0.2735 - accuracy: 0.9138 - val_loss: 0.8204 - val_accuracy: 0.7772\n",
      "Epoch 944/1000\n",
      "267/267 [==============================] - 3s 13ms/step - loss: 0.2850 - accuracy: 0.9094 - val_loss: 0.8324 - val_accuracy: 0.7814\n",
      "Epoch 945/1000\n",
      "267/267 [==============================] - 3s 13ms/step - loss: 0.2814 - accuracy: 0.9071 - val_loss: 0.8457 - val_accuracy: 0.7758\n",
      "Epoch 946/1000\n",
      "267/267 [==============================] - 3s 12ms/step - loss: 0.2802 - accuracy: 0.9086 - val_loss: 0.8276 - val_accuracy: 0.7757\n",
      "Epoch 947/1000\n",
      "267/267 [==============================] - 3s 12ms/step - loss: 0.2816 - accuracy: 0.9097 - val_loss: 0.8144 - val_accuracy: 0.7774\n",
      "Epoch 948/1000\n",
      "267/267 [==============================] - 3s 13ms/step - loss: 0.2827 - accuracy: 0.9073 - val_loss: 0.8159 - val_accuracy: 0.7803\n",
      "Epoch 949/1000\n",
      "267/267 [==============================] - 3s 12ms/step - loss: 0.2726 - accuracy: 0.9127 - val_loss: 0.8243 - val_accuracy: 0.7747\n",
      "Epoch 950/1000\n",
      "267/267 [==============================] - 3s 13ms/step - loss: 0.2792 - accuracy: 0.9115 - val_loss: 0.8628 - val_accuracy: 0.7730\n",
      "Epoch 951/1000\n",
      "267/267 [==============================] - 3s 13ms/step - loss: 0.2824 - accuracy: 0.9089 - val_loss: 0.8303 - val_accuracy: 0.7757\n",
      "Epoch 952/1000\n",
      "267/267 [==============================] - 3s 12ms/step - loss: 0.2771 - accuracy: 0.9078 - val_loss: 0.8307 - val_accuracy: 0.7789\n",
      "Epoch 953/1000\n",
      "267/267 [==============================] - 3s 13ms/step - loss: 0.2730 - accuracy: 0.9104 - val_loss: 0.8095 - val_accuracy: 0.7780\n",
      "Epoch 954/1000\n",
      "267/267 [==============================] - 3s 13ms/step - loss: 0.2788 - accuracy: 0.9089 - val_loss: 0.8065 - val_accuracy: 0.7762\n",
      "Epoch 955/1000\n",
      "267/267 [==============================] - 3s 13ms/step - loss: 0.2828 - accuracy: 0.9090 - val_loss: 0.8172 - val_accuracy: 0.7759\n",
      "Epoch 956/1000\n",
      "267/267 [==============================] - 3s 13ms/step - loss: 0.2811 - accuracy: 0.9087 - val_loss: 0.8777 - val_accuracy: 0.7767\n",
      "Epoch 957/1000\n",
      "267/267 [==============================] - 3s 13ms/step - loss: 0.2904 - accuracy: 0.9065 - val_loss: 0.8407 - val_accuracy: 0.7754\n",
      "Epoch 958/1000\n",
      "267/267 [==============================] - 3s 12ms/step - loss: 0.2652 - accuracy: 0.9144 - val_loss: 0.8473 - val_accuracy: 0.7759\n",
      "Epoch 959/1000\n",
      "267/267 [==============================] - 3s 13ms/step - loss: 0.2804 - accuracy: 0.9116 - val_loss: 0.8235 - val_accuracy: 0.7769\n",
      "Epoch 960/1000\n",
      "267/267 [==============================] - 3s 13ms/step - loss: 0.2757 - accuracy: 0.9109 - val_loss: 0.8267 - val_accuracy: 0.7702\n",
      "Epoch 961/1000\n",
      "267/267 [==============================] - 3s 13ms/step - loss: 0.2783 - accuracy: 0.9108 - val_loss: 0.8259 - val_accuracy: 0.7749\n",
      "Epoch 962/1000\n",
      "267/267 [==============================] - 3s 12ms/step - loss: 0.2718 - accuracy: 0.9129 - val_loss: 0.8244 - val_accuracy: 0.7770\n",
      "Epoch 963/1000\n",
      "267/267 [==============================] - 3s 13ms/step - loss: 0.2760 - accuracy: 0.9095 - val_loss: 0.8172 - val_accuracy: 0.7807\n",
      "Epoch 964/1000\n",
      "267/267 [==============================] - 3s 13ms/step - loss: 0.2765 - accuracy: 0.9109 - val_loss: 0.8063 - val_accuracy: 0.7758\n",
      "Epoch 965/1000\n",
      "267/267 [==============================] - 3s 13ms/step - loss: 0.2823 - accuracy: 0.9077 - val_loss: 0.8362 - val_accuracy: 0.7787\n",
      "Epoch 966/1000\n",
      "267/267 [==============================] - 3s 13ms/step - loss: 0.2882 - accuracy: 0.9092 - val_loss: 0.8226 - val_accuracy: 0.7740\n",
      "Epoch 967/1000\n",
      "267/267 [==============================] - 3s 13ms/step - loss: 0.2812 - accuracy: 0.9080 - val_loss: 0.8251 - val_accuracy: 0.7764\n",
      "Epoch 968/1000\n",
      "267/267 [==============================] - 3s 13ms/step - loss: 0.2805 - accuracy: 0.9089 - val_loss: 0.8541 - val_accuracy: 0.7771\n",
      "Epoch 969/1000\n",
      "267/267 [==============================] - 3s 13ms/step - loss: 0.2853 - accuracy: 0.9107 - val_loss: 0.8488 - val_accuracy: 0.7667\n",
      "Epoch 970/1000\n",
      "267/267 [==============================] - 3s 13ms/step - loss: 0.2766 - accuracy: 0.9092 - val_loss: 0.8686 - val_accuracy: 0.7713\n",
      "Epoch 971/1000\n",
      "267/267 [==============================] - 3s 13ms/step - loss: 0.2814 - accuracy: 0.9083 - val_loss: 0.8480 - val_accuracy: 0.7763\n",
      "Epoch 972/1000\n",
      "267/267 [==============================] - 3s 13ms/step - loss: 0.2662 - accuracy: 0.9126 - val_loss: 0.8173 - val_accuracy: 0.7782\n",
      "Epoch 973/1000\n",
      "267/267 [==============================] - 3s 13ms/step - loss: 0.2813 - accuracy: 0.9080 - val_loss: 0.8369 - val_accuracy: 0.7771\n",
      "Epoch 974/1000\n",
      "267/267 [==============================] - 3s 13ms/step - loss: 0.2854 - accuracy: 0.9062 - val_loss: 0.8488 - val_accuracy: 0.7750\n",
      "Epoch 975/1000\n",
      "267/267 [==============================] - 3s 13ms/step - loss: 0.2901 - accuracy: 0.9071 - val_loss: 0.8235 - val_accuracy: 0.7776\n",
      "Epoch 976/1000\n",
      "267/267 [==============================] - 3s 13ms/step - loss: 0.2734 - accuracy: 0.9099 - val_loss: 0.8307 - val_accuracy: 0.7740\n",
      "Epoch 977/1000\n",
      "267/267 [==============================] - 3s 13ms/step - loss: 0.2705 - accuracy: 0.9115 - val_loss: 0.8641 - val_accuracy: 0.7725\n",
      "Epoch 978/1000\n",
      "267/267 [==============================] - 3s 12ms/step - loss: 0.2923 - accuracy: 0.9082 - val_loss: 0.8478 - val_accuracy: 0.7780\n",
      "Epoch 979/1000\n",
      "267/267 [==============================] - 3s 13ms/step - loss: 0.2690 - accuracy: 0.9126 - val_loss: 0.8380 - val_accuracy: 0.7800\n",
      "Epoch 980/1000\n",
      "267/267 [==============================] - 3s 13ms/step - loss: 0.2817 - accuracy: 0.9084 - val_loss: 0.8393 - val_accuracy: 0.7761\n",
      "Epoch 981/1000\n",
      "267/267 [==============================] - 3s 13ms/step - loss: 0.2801 - accuracy: 0.9080 - val_loss: 0.8418 - val_accuracy: 0.7773\n",
      "Epoch 982/1000\n",
      "267/267 [==============================] - 3s 13ms/step - loss: 0.2808 - accuracy: 0.9106 - val_loss: 0.8442 - val_accuracy: 0.7761\n",
      "Epoch 983/1000\n",
      "267/267 [==============================] - 3s 13ms/step - loss: 0.2748 - accuracy: 0.9099 - val_loss: 0.8574 - val_accuracy: 0.7729\n",
      "Epoch 984/1000\n",
      "267/267 [==============================] - 3s 13ms/step - loss: 0.2798 - accuracy: 0.9087 - val_loss: 0.8356 - val_accuracy: 0.7779\n",
      "Epoch 985/1000\n",
      "267/267 [==============================] - 3s 13ms/step - loss: 0.2776 - accuracy: 0.9065 - val_loss: 0.8226 - val_accuracy: 0.7820\n",
      "Epoch 986/1000\n",
      "267/267 [==============================] - 3s 13ms/step - loss: 0.2897 - accuracy: 0.9051 - val_loss: 0.8568 - val_accuracy: 0.7786\n",
      "Epoch 987/1000\n",
      "267/267 [==============================] - 3s 13ms/step - loss: 0.2673 - accuracy: 0.9131 - val_loss: 0.8423 - val_accuracy: 0.7788\n",
      "Epoch 988/1000\n",
      "267/267 [==============================] - 3s 13ms/step - loss: 0.2812 - accuracy: 0.9099 - val_loss: 0.8235 - val_accuracy: 0.7805\n",
      "Epoch 989/1000\n",
      "267/267 [==============================] - 3s 13ms/step - loss: 0.2779 - accuracy: 0.9105 - val_loss: 0.8326 - val_accuracy: 0.7814\n",
      "Epoch 990/1000\n",
      "267/267 [==============================] - 3s 13ms/step - loss: 0.2792 - accuracy: 0.9089 - val_loss: 0.8449 - val_accuracy: 0.7768\n",
      "Epoch 991/1000\n",
      "267/267 [==============================] - 3s 13ms/step - loss: 0.2772 - accuracy: 0.9093 - val_loss: 0.8380 - val_accuracy: 0.7740\n",
      "Epoch 992/1000\n",
      "267/267 [==============================] - 3s 13ms/step - loss: 0.2738 - accuracy: 0.9109 - val_loss: 0.8561 - val_accuracy: 0.7744\n",
      "Epoch 993/1000\n",
      "267/267 [==============================] - 3s 12ms/step - loss: 0.2943 - accuracy: 0.9064 - val_loss: 0.9271 - val_accuracy: 0.7713\n",
      "Epoch 994/1000\n",
      "267/267 [==============================] - 3s 12ms/step - loss: 0.2890 - accuracy: 0.9065 - val_loss: 0.8753 - val_accuracy: 0.7800\n",
      "Epoch 995/1000\n",
      "267/267 [==============================] - 3s 13ms/step - loss: 0.2692 - accuracy: 0.9122 - val_loss: 0.8565 - val_accuracy: 0.7740\n",
      "Epoch 996/1000\n",
      "267/267 [==============================] - 3s 13ms/step - loss: 0.2794 - accuracy: 0.9081 - val_loss: 0.8442 - val_accuracy: 0.7783\n",
      "Epoch 997/1000\n",
      "267/267 [==============================] - 3s 13ms/step - loss: 0.2784 - accuracy: 0.9097 - val_loss: 0.8366 - val_accuracy: 0.7780\n",
      "Epoch 998/1000\n",
      "267/267 [==============================] - 3s 12ms/step - loss: 0.2815 - accuracy: 0.9103 - val_loss: 0.8586 - val_accuracy: 0.7773\n",
      "Epoch 999/1000\n",
      "267/267 [==============================] - 3s 13ms/step - loss: 0.2851 - accuracy: 0.9103 - val_loss: 0.8336 - val_accuracy: 0.7767\n",
      "Epoch 1000/1000\n",
      "267/267 [==============================] - 3s 13ms/step - loss: 0.2779 - accuracy: 0.9096 - val_loss: 0.8264 - val_accuracy: 0.7766\n"
     ]
    }
   ],
   "source": [
    "history1 = model_1.fit(x_train,y_cat_train,epochs=1000,batch_size=150,validation_data=(x_val,y_val_cat))"
   ]
  },
  {
   "cell_type": "code",
   "execution_count": null,
   "metadata": {
    "id": "QefPS7CcT8lm"
   },
   "outputs": [],
   "source": []
  },
  {
   "cell_type": "code",
   "execution_count": null,
   "metadata": {
    "colab": {
     "base_uri": "https://localhost:8080/"
    },
    "executionInfo": {
     "elapsed": 3318028,
     "status": "ok",
     "timestamp": 1616548599062,
     "user": {
      "displayName": "Aveen Najm",
      "photoUrl": "",
      "userId": "16510286446234260860"
     },
     "user_tz": 0
    },
    "id": "j1OMbov_K_9e",
    "outputId": "e7cae408-f170-4b74-fb43-3c5ce876c261"
   },
   "outputs": [
    {
     "data": {
      "text/plain": [
       "dict_keys(['loss', 'accuracy', 'val_loss', 'val_accuracy'])"
      ]
     },
     "execution_count": 31,
     "metadata": {
      "tags": []
     },
     "output_type": "execute_result"
    }
   ],
   "source": [
    "history1.history.keys()"
   ]
  },
  {
   "cell_type": "code",
   "execution_count": null,
   "metadata": {
    "id": "vkwETSsSK_9e"
   },
   "outputs": [],
   "source": [
    "metrics_1 = pd.DataFrame(history1.history)"
   ]
  },
  {
   "cell_type": "code",
   "execution_count": null,
   "metadata": {
    "colab": {
     "base_uri": "https://localhost:8080/",
     "height": 415
    },
    "executionInfo": {
     "elapsed": 3318021,
     "status": "ok",
     "timestamp": 1616548599063,
     "user": {
      "displayName": "Aveen Najm",
      "photoUrl": "",
      "userId": "16510286446234260860"
     },
     "user_tz": 0
    },
    "id": "Da45aAWpK_9e",
    "outputId": "335ff714-2c2b-489a-9c67-83dcbeafdcce"
   },
   "outputs": [
    {
     "data": {
      "text/html": [
       "<div>\n",
       "<style scoped>\n",
       "    .dataframe tbody tr th:only-of-type {\n",
       "        vertical-align: middle;\n",
       "    }\n",
       "\n",
       "    .dataframe tbody tr th {\n",
       "        vertical-align: top;\n",
       "    }\n",
       "\n",
       "    .dataframe thead th {\n",
       "        text-align: right;\n",
       "    }\n",
       "</style>\n",
       "<table border=\"1\" class=\"dataframe\">\n",
       "  <thead>\n",
       "    <tr style=\"text-align: right;\">\n",
       "      <th></th>\n",
       "      <th>loss</th>\n",
       "      <th>accuracy</th>\n",
       "      <th>val_loss</th>\n",
       "      <th>val_accuracy</th>\n",
       "    </tr>\n",
       "  </thead>\n",
       "  <tbody>\n",
       "    <tr>\n",
       "      <th>0</th>\n",
       "      <td>1.932399</td>\n",
       "      <td>0.258100</td>\n",
       "      <td>1.625793</td>\n",
       "      <td>0.3894</td>\n",
       "    </tr>\n",
       "    <tr>\n",
       "      <th>1</th>\n",
       "      <td>1.577710</td>\n",
       "      <td>0.413675</td>\n",
       "      <td>1.399623</td>\n",
       "      <td>0.4841</td>\n",
       "    </tr>\n",
       "    <tr>\n",
       "      <th>2</th>\n",
       "      <td>1.390420</td>\n",
       "      <td>0.493900</td>\n",
       "      <td>1.255176</td>\n",
       "      <td>0.5506</td>\n",
       "    </tr>\n",
       "    <tr>\n",
       "      <th>3</th>\n",
       "      <td>1.272179</td>\n",
       "      <td>0.546400</td>\n",
       "      <td>1.160279</td>\n",
       "      <td>0.5886</td>\n",
       "    </tr>\n",
       "    <tr>\n",
       "      <th>4</th>\n",
       "      <td>1.182088</td>\n",
       "      <td>0.582650</td>\n",
       "      <td>1.099708</td>\n",
       "      <td>0.6165</td>\n",
       "    </tr>\n",
       "    <tr>\n",
       "      <th>...</th>\n",
       "      <td>...</td>\n",
       "      <td>...</td>\n",
       "      <td>...</td>\n",
       "      <td>...</td>\n",
       "    </tr>\n",
       "    <tr>\n",
       "      <th>995</th>\n",
       "      <td>0.282488</td>\n",
       "      <td>0.909425</td>\n",
       "      <td>0.844160</td>\n",
       "      <td>0.7783</td>\n",
       "    </tr>\n",
       "    <tr>\n",
       "      <th>996</th>\n",
       "      <td>0.276361</td>\n",
       "      <td>0.910875</td>\n",
       "      <td>0.836601</td>\n",
       "      <td>0.7780</td>\n",
       "    </tr>\n",
       "    <tr>\n",
       "      <th>997</th>\n",
       "      <td>0.283605</td>\n",
       "      <td>0.908600</td>\n",
       "      <td>0.858610</td>\n",
       "      <td>0.7773</td>\n",
       "    </tr>\n",
       "    <tr>\n",
       "      <th>998</th>\n",
       "      <td>0.288250</td>\n",
       "      <td>0.907575</td>\n",
       "      <td>0.833611</td>\n",
       "      <td>0.7767</td>\n",
       "    </tr>\n",
       "    <tr>\n",
       "      <th>999</th>\n",
       "      <td>0.285425</td>\n",
       "      <td>0.908375</td>\n",
       "      <td>0.826396</td>\n",
       "      <td>0.7766</td>\n",
       "    </tr>\n",
       "  </tbody>\n",
       "</table>\n",
       "<p>1000 rows × 4 columns</p>\n",
       "</div>"
      ],
      "text/plain": [
       "         loss  accuracy  val_loss  val_accuracy\n",
       "0    1.932399  0.258100  1.625793        0.3894\n",
       "1    1.577710  0.413675  1.399623        0.4841\n",
       "2    1.390420  0.493900  1.255176        0.5506\n",
       "3    1.272179  0.546400  1.160279        0.5886\n",
       "4    1.182088  0.582650  1.099708        0.6165\n",
       "..        ...       ...       ...           ...\n",
       "995  0.282488  0.909425  0.844160        0.7783\n",
       "996  0.276361  0.910875  0.836601        0.7780\n",
       "997  0.283605  0.908600  0.858610        0.7773\n",
       "998  0.288250  0.907575  0.833611        0.7767\n",
       "999  0.285425  0.908375  0.826396        0.7766\n",
       "\n",
       "[1000 rows x 4 columns]"
      ]
     },
     "execution_count": 33,
     "metadata": {
      "tags": []
     },
     "output_type": "execute_result"
    }
   ],
   "source": [
    "metrics_1"
   ]
  },
  {
   "cell_type": "code",
   "execution_count": null,
   "metadata": {
    "colab": {
     "base_uri": "https://localhost:8080/",
     "height": 283
    },
    "executionInfo": {
     "elapsed": 3318405,
     "status": "ok",
     "timestamp": 1616548599454,
     "user": {
      "displayName": "Aveen Najm",
      "photoUrl": "",
      "userId": "16510286446234260860"
     },
     "user_tz": 0
    },
    "id": "uOaBK1spK_9f",
    "outputId": "572b4443-9401-411c-e457-b0ff619a6364"
   },
   "outputs": [
    {
     "data": {
      "image/png": "[encoded data removed]",
      "text/plain": [
       "<Figure size 432x288 with 1 Axes>"
      ]
     },
     "metadata": {
      "needs_background": "light",
      "tags": []
     },
     "output_type": "display_data"
    }
   ],
   "source": [
    "metrics_1[['loss', 'val_loss']].plot()\n",
    "plt.title('Training Loss Vs Validation Loss', fontsize=16)\n",
    "plt.show()"
   ]
  },
  {
   "cell_type": "code",
   "execution_count": null,
   "metadata": {
    "colab": {
     "base_uri": "https://localhost:8080/",
     "height": 283
    },
    "executionInfo": {
     "elapsed": 3318400,
     "status": "ok",
     "timestamp": 1616548599456,
     "user": {
      "displayName": "Aveen Najm",
      "photoUrl": "",
      "userId": "16510286446234260860"
     },
     "user_tz": 0
    },
    "id": "JpamU1m5K_9f",
    "outputId": "a2ec951a-6a7c-4041-c2c2-7ec0af39a79c"
   },
   "outputs": [
    {
     "data": {
      "image/png": "[encoded data removed]",
      "text/plain": [
       "<Figure size 432x288 with 1 Axes>"
      ]
     },
     "metadata": {
      "needs_background": "light",
      "tags": []
     },
     "output_type": "display_data"
    }
   ],
   "source": [
    "metrics_1[['accuracy', 'val_accuracy']].plot()\n",
    "plt.title('Training Accuracy Vs Validation Accuracy', fontsize=16)\n",
    "plt.show()"
   ]
  },
  {
   "cell_type": "markdown",
   "metadata": {},
   "source": [
    "# Evaluation on Test Data"
   ]
  },
  {
   "cell_type": "code",
   "execution_count": null,
   "metadata": {
    "colab": {
     "base_uri": "https://localhost:8080/"
    },
    "executionInfo": {
     "elapsed": 3319506,
     "status": "ok",
     "timestamp": 1616548600569,
     "user": {
      "displayName": "Aveen Najm",
      "photoUrl": "",
      "userId": "16510286446234260860"
     },
     "user_tz": 0
    },
    "id": "7V74RVtuK_9f",
    "outputId": "9903e95e-4289-4d28-e3b7-c0bba1bb9840"
   },
   "outputs": [
    {
     "name": "stdout",
     "output_type": "stream",
     "text": [
      "313/313 [==============================] - 1s 3ms/step - loss: 0.8206 - accuracy: 0.7787\n"
     ]
    },
    {
     "data": {
      "text/plain": [
       "[0.8205503225326538, 0.7786999940872192]"
      ]
     },
     "execution_count": 36,
     "metadata": {
      "tags": []
     },
     "output_type": "execute_result"
    }
   ],
   "source": [
    "model_1.evaluate(x_test,y_cat_test)"
   ]
  },
  {
   "cell_type": "markdown",
   "metadata": {
    "id": "GL9IXqb8g6r6"
   },
   "source": [
    "# Classification Report and Confusion Matrix"
   ]
  },
  {
   "cell_type": "code",
   "execution_count": null,
   "metadata": {
    "id": "SxYS7RS1gcl1"
   },
   "outputs": [],
   "source": [
    "from sklearn.metrics import classification_report, confusion_matrix"
   ]
  },
  {
   "cell_type": "code",
   "execution_count": null,
   "metadata": {
    "colab": {
     "base_uri": "https://localhost:8080/"
    },
    "executionInfo": {
     "elapsed": 3320191,
     "status": "ok",
     "timestamp": 1616548601257,
     "user": {
      "displayName": "Aveen Najm",
      "photoUrl": "",
      "userId": "16510286446234260860"
     },
     "user_tz": 0
    },
    "id": "2aBKzC3PhEgv",
    "outputId": "337309d6-fcc5-4bf3-ce0d-4a00818f412e"
   },
   "outputs": [],
   "source": [
    "predictions = model_1.predict_classes(x_test)"
   ]
  },
  {
   "cell_type": "code",
   "execution_count": null,
   "metadata": {
    "colab": {
     "base_uri": "https://localhost:8080/"
    },
    "executionInfo": {
     "elapsed": 3320190,
     "status": "ok",
     "timestamp": 1616548601259,
     "user": {
      "displayName": "Aveen Najm",
      "photoUrl": "",
      "userId": "16510286446234260860"
     },
     "user_tz": 0
    },
    "id": "O2jJsRJphRxP",
    "outputId": "54f1fa39-4404-42ac-bfd0-d2ad1dca0318"
   },
   "outputs": [
    {
     "name": "stdout",
     "output_type": "stream",
     "text": [
      "              precision    recall  f1-score   support\n",
      "\n",
      "           0       0.84      0.73      0.78      1000\n",
      "           1       0.91      0.85      0.88      1000\n",
      "           2       0.74      0.65      0.69      1000\n",
      "           3       0.63      0.62      0.63      1000\n",
      "           4       0.75      0.80      0.77      1000\n",
      "           5       0.71      0.71      0.71      1000\n",
      "           6       0.79      0.87      0.83      1000\n",
      "           7       0.84      0.79      0.81      1000\n",
      "           8       0.79      0.87      0.83      1000\n",
      "           9       0.79      0.89      0.84      1000\n",
      "\n",
      "    accuracy                           0.78     10000\n",
      "   macro avg       0.78      0.78      0.78     10000\n",
      "weighted avg       0.78      0.78      0.78     10000\n",
      "\n"
     ]
    }
   ],
   "source": [
    "print(classification_report(y_test,predictions))"
   ]
  },
  {
   "cell_type": "code",
   "execution_count": null,
   "metadata": {
    "colab": {
     "base_uri": "https://localhost:8080/"
    },
    "executionInfo": {
     "elapsed": 3320190,
     "status": "ok",
     "timestamp": 1616548601260,
     "user": {
      "displayName": "Aveen Najm",
      "photoUrl": "",
      "userId": "16510286446234260860"
     },
     "user_tz": 0
    },
    "id": "QTBJWUnbhWvP",
    "outputId": "b6402f91-e722-4b75-eb31-0418de114f67"
   },
   "outputs": [
    {
     "data": {
      "text/plain": [
       "array([[734,  20,  40,  19,  20,   2,  10,  10,  98,  47],\n",
       "       [ 14, 850,   5,   1,   2,   3,   8,   1,  32,  84],\n",
       "       [ 49,   4, 650,  58,  66,  60,  65,  21,  16,  11],\n",
       "       [ 10,   3,  45, 625,  55, 125,  69,  34,  20,  14],\n",
       "       [  4,   3,  36,  51, 796,  27,  38,  30,   9,   6],\n",
       "       [  3,   2,  46, 136,  32, 706,  22,  41,   2,  10],\n",
       "       [  6,   1,  33,  33,  27,  17, 870,   7,   2,   4],\n",
       "       [ 12,   1,  16,  51,  59,  43,   8, 788,   8,  14],\n",
       "       [ 33,  16,  10,  11,   2,   1,   5,   3, 874,  45],\n",
       "       [ 13,  30,   2,   7,   2,   4,   6,   3,  39, 894]])"
      ]
     },
     "execution_count": 40,
     "metadata": {
      "tags": []
     },
     "output_type": "execute_result"
    }
   ],
   "source": [
    "confusion_matrix(y_test,predictions)"
   ]
  },
  {
   "cell_type": "code",
   "execution_count": null,
   "metadata": {
    "colab": {
     "base_uri": "https://localhost:8080/",
     "height": 283
    },
    "executionInfo": {
     "elapsed": 3320638,
     "status": "ok",
     "timestamp": 1616548601710,
     "user": {
      "displayName": "Aveen Najm",
      "photoUrl": "",
      "userId": "16510286446234260860"
     },
     "user_tz": 0
    },
    "id": "b_6XeBwuhieU",
    "outputId": "f29c74d0-c9ab-4eed-d928-b888074dc55c"
   },
   "outputs": [
    {
     "data": {
      "text/plain": [
       "<matplotlib.image.AxesImage at 0x7f769eb7e5d0>"
      ]
     },
     "execution_count": 41,
     "metadata": {
      "tags": []
     },
     "output_type": "execute_result"
    },
    {
     "data": {
      "image/png": "[encoded data removed]",
      "text/plain": [
       "<Figure size 432x288 with 1 Axes>"
      ]
     },
     "metadata": {
      "needs_background": "light",
      "tags": []
     },
     "output_type": "display_data"
    }
   ],
   "source": [
    "plt.imshow(x_test[16])"
   ]
  },
  {
   "cell_type": "code",
   "execution_count": null,
   "metadata": {
    "id": "P0XGwKZehszO"
   },
   "outputs": [],
   "source": [
    "my_image = x_test[16]"
   ]
  },
  {
   "cell_type": "code",
   "execution_count": null,
   "metadata": {
    "colab": {
     "base_uri": "https://localhost:8080/"
    },
    "executionInfo": {
     "elapsed": 3320637,
     "status": "ok",
     "timestamp": 1616548601712,
     "user": {
      "displayName": "Aveen Najm",
      "photoUrl": "",
      "userId": "16510286446234260860"
     },
     "user_tz": 0
    },
    "id": "XMyBguMQhyQc",
    "outputId": "7275a190-bc07-41a6-d748-5302b70223b4"
   },
   "outputs": [],
   "source": [
    "# SHAPE --> (num_images,width,height,color_channels)\n",
    "model_1.predict_classes(my_image.reshape(1,32,32,3))"
   ]
  },
  {
   "cell_type": "code",
   "execution_count": null,
   "metadata": {
    "colab": {
     "base_uri": "https://localhost:8080/",
     "height": 35
    },
    "executionInfo": {
     "elapsed": 3320636,
     "status": "ok",
     "timestamp": 1616548601712,
     "user": {
      "displayName": "Aveen Najm",
      "photoUrl": "",
      "userId": "16510286446234260860"
     },
     "user_tz": 0
    },
    "id": "VMjndsIsh8qR",
    "outputId": "9453cc74-9840-4f76-e2d3-0fae8c0613d3"
   },
   "outputs": [
    {
     "data": {
      "application/vnd.google.colaboratory.intrinsic+json": {
       "type": "string"
      },
      "text/plain": [
       "'dog'"
      ]
     },
     "execution_count": 44,
     "metadata": {
      "tags": []
     },
     "output_type": "execute_result"
    }
   ],
   "source": [
    "LABEL_NAMES[y_test[16][0]]"
   ]
  },
  {
   "cell_type": "markdown",
   "metadata": {
    "id": "USCYZPG4iJnV"
   },
   "source": [
    "## Confusion Matrix"
   ]
  },
  {
   "cell_type": "code",
   "execution_count": null,
   "metadata": {
    "colab": {
     "base_uri": "https://localhost:8080/"
    },
    "executionInfo": {
     "elapsed": 3321072,
     "status": "ok",
     "timestamp": 1616548602150,
     "user": {
      "displayName": "Aveen Najm",
      "photoUrl": "",
      "userId": "16510286446234260860"
     },
     "user_tz": 0
    },
    "id": "aDSH9XGLiLw9",
    "outputId": "91f0d0ac-ec6f-4cba-c068-b7ba59a2b7a9"
   },
   "outputs": [],
   "source": [
    "predictions = model_1.predict_classes(x_test)\n",
    "conf_matrix = confusion_matrix(y_true=y_test, y_pred=predictions)"
   ]
  },
  {
   "cell_type": "code",
   "execution_count": null,
   "metadata": {
    "colab": {
     "base_uri": "https://localhost:8080/"
    },
    "executionInfo": {
     "elapsed": 3321070,
     "status": "ok",
     "timestamp": 1616548602150,
     "user": {
      "displayName": "Aveen Najm",
      "photoUrl": "",
      "userId": "16510286446234260860"
     },
     "user_tz": 0
    },
    "id": "OCoOImNxiVYX",
    "outputId": "7fd9064e-b67e-40fb-b4fd-a00909d4d56d"
   },
   "outputs": [
    {
     "data": {
      "text/plain": [
       "(10, 10)"
      ]
     },
     "execution_count": 46,
     "metadata": {
      "tags": []
     },
     "output_type": "execute_result"
    }
   ],
   "source": [
    "conf_matrix.shape"
   ]
  },
  {
   "cell_type": "code",
   "execution_count": null,
   "metadata": {
    "id": "XiyF_XoSiaaf"
   },
   "outputs": [],
   "source": [
    "nr_rows = conf_matrix.shape[0]\n",
    "nr_cols = conf_matrix.shape[1]"
   ]
  },
  {
   "cell_type": "code",
   "execution_count": null,
   "metadata": {
    "colab": {
     "base_uri": "https://localhost:8080/"
    },
    "executionInfo": {
     "elapsed": 3321068,
     "status": "ok",
     "timestamp": 1616548602151,
     "user": {
      "displayName": "Aveen Najm",
      "photoUrl": "",
      "userId": "16510286446234260860"
     },
     "user_tz": 0
    },
    "id": "GG64smGqihrF",
    "outputId": "a6d932f2-3152-4ab6-ceab-4919e0947e45"
   },
   "outputs": [
    {
     "data": {
      "text/plain": [
       "894"
      ]
     },
     "execution_count": 48,
     "metadata": {
      "tags": []
     },
     "output_type": "execute_result"
    }
   ],
   "source": [
    "# Showing the value with th\n",
    "conf_matrix.max()"
   ]
  },
  {
   "cell_type": "code",
   "execution_count": null,
   "metadata": {
    "colab": {
     "base_uri": "https://localhost:8080/"
    },
    "executionInfo": {
     "elapsed": 3321067,
     "status": "ok",
     "timestamp": 1616548602151,
     "user": {
      "displayName": "Aveen Najm",
      "photoUrl": "",
      "userId": "16510286446234260860"
     },
     "user_tz": 0
    },
    "id": "1Ru--Xy6in0I",
    "outputId": "a3fb5cef-ee8c-40df-cfb5-47a40def5cb6"
   },
   "outputs": [
    {
     "data": {
      "text/plain": [
       "1"
      ]
     },
     "execution_count": 49,
     "metadata": {
      "tags": []
     },
     "output_type": "execute_result"
    }
   ],
   "source": [
    "conf_matrix.min()"
   ]
  },
  {
   "cell_type": "code",
   "execution_count": null,
   "metadata": {
    "id": "1-EmIQ0Liv2j"
   },
   "outputs": [],
   "source": [
    "NR_CLASSES = 10"
   ]
  },
  {
   "cell_type": "code",
   "execution_count": null,
   "metadata": {
    "colab": {
     "base_uri": "https://localhost:8080/",
     "height": 674
    },
    "executionInfo": {
     "elapsed": 3321942,
     "status": "ok",
     "timestamp": 1616548603029,
     "user": {
      "displayName": "Aveen Najm",
      "photoUrl": "",
      "userId": "16510286446234260860"
     },
     "user_tz": 0
    },
    "id": "bcZvUcFZi47X",
    "outputId": "e301c5cc-8695-48a1-ee49-1c3eaaaf2f5f"
   },
   "outputs": [
    {
     "data": {
      "image/png": "[encoded data removed]",
      "text/plain": [
       "<Figure size 1520x760 with 2 Axes>"
      ]
     },
     "metadata": {
      "needs_background": "light",
      "tags": []
     },
     "output_type": "display_data"
    }
   ],
   "source": [
    "plt.figure(figsize=(16,8), dpi=95)\n",
    "plt.imshow(conf_matrix, cmap=plt.cm.Greens)\n",
    "\n",
    "plt.title('Confusion Matrix', fontsize=16) # Title for the plot\n",
    "plt.ylabel('Actual Labels', fontsize=10) # y lable\n",
    "plt.xlabel('Predicted Labels', fontsize=10) #\n",
    "\n",
    "tick_marks = np.arange(NR_CLASSES)  # Formatting Tick marks for our actual classes\n",
    "plt.yticks(tick_marks, LABEL_NAMES) # Assigning the classes to the label name for Y-axis\n",
    "plt.xticks(tick_marks, LABEL_NAMES) #Assigning the classes to the label name for X-axis\n",
    "\n",
    "plt.colorbar() # This shows a color bar to the right\n",
    "\n",
    "# Using the pythin itertools to loop through 2 values i j (rows & columns) ...\n",
    "# ...to print the actual values on the conf matrix\n",
    "# plt.text(j, i, conf_matrix[i, j]) {conf_matrix[i, j]} ->pulls out the actual values from the conf matrix\n",
    "\n",
    "for i, j in itertools.product(range(nr_rows), range(nr_cols)):\n",
    "    plt.text(j, i, conf_matrix[i, j], horizontalalignment='center',\n",
    "            color='white' if conf_matrix[i, j] > conf_matrix.max()/2 else 'black')\n",
    "    \n",
    "\n",
    "plt.show()"
   ]
  },
  {
   "cell_type": "markdown",
   "metadata": {
    "id": "g5coexj9Ps1S"
   },
   "source": [
    "# MODEL TWO /Early stopping"
   ]
  },
  {
   "cell_type": "code",
   "execution_count": null,
   "metadata": {
    "id": "cx0D8mThP5x5"
   },
   "outputs": [],
   "source": [
    "model_2 = Sequential()\n",
    "\n",
    "# CONVOLUTIONAL LAYER\n",
    "model_2.add(Conv2D(filters=32, kernel_size=(3,3),input_shape=(32, 32, 3), activation='relu',))\n",
    "model_2.add(Conv2D(filters=32, kernel_size=(3,3),input_shape=(32, 32, 3), activation='relu',))\n",
    "# POOLING LAYER\n",
    "model_2.add(MaxPool2D(pool_size=(2, 2)))\n",
    "\n",
    "# *************CONVOLUTIONAL LAYER\n",
    "model_2.add(Conv2D(filters=64, kernel_size=(3,3),input_shape=(32, 32, 3), activation='relu',))\n",
    "model_2.add(Conv2D(filters=64, kernel_size=(3,3),input_shape=(32, 32, 3), activation='relu',))\n",
    "# POOLING LAYER\n",
    "model_2.add(MaxPool2D(pool_size=(2, 2)))\n",
    "\n",
    "##CONVOLUTIONAL LAYER\n",
    "model_2.add(Conv2D(filters=128, kernel_size=(3,3),input_shape=(32, 32, 3), activation='relu',))\n",
    "# POOLING LAYER\n",
    "model_2.add(MaxPool2D(pool_size=(2, 2)))\n",
    "\n",
    "\n",
    "# FLATTEN IMAGES, BEFORE FINAL LAYER\n",
    "model_2.add(Flatten())\n",
    "# 256 NEURONS IN DENSE HIDDEN LAYER \n",
    "model_2.add(Dense(256, activation='relu'))\n",
    "# 128 NEURONS IN DENSE HIDDEN LAYER \n",
    "model_2.add(Dense(128, activation='relu'))\n",
    "\n",
    "# LAST LAYER IS THE CLASSIFIER, THUS 10 POSSIBLE CLASSES\n",
    "model_2.add(Dense(10, activation='softmax'))\n",
    "\n",
    "model_2.compile(loss='categorical_crossentropy',\n",
    "              optimizer='adam',\n",
    "              metrics=['accuracy'])"
   ]
  },
  {
   "cell_type": "code",
   "execution_count": null,
   "metadata": {
    "colab": {
     "base_uri": "https://localhost:8080/"
    },
    "executionInfo": {
     "elapsed": 3321935,
     "status": "ok",
     "timestamp": 1616548603030,
     "user": {
      "displayName": "Aveen Najm",
      "photoUrl": "",
      "userId": "16510286446234260860"
     },
     "user_tz": 0
    },
    "id": "eVQO8qc952Gs",
    "outputId": "be7cd827-94f1-47a3-9cb8-1f3c438da1e5"
   },
   "outputs": [
    {
     "name": "stdout",
     "output_type": "stream",
     "text": [
      "Model: \"sequential_1\"\n",
      "_________________________________________________________________\n",
      "Layer (type)                 Output Shape              Param #   \n",
      "=================================================================\n",
      "conv2d_5 (Conv2D)            (None, 30, 30, 32)        896       \n",
      "_________________________________________________________________\n",
      "conv2d_6 (Conv2D)            (None, 28, 28, 32)        9248      \n",
      "_________________________________________________________________\n",
      "max_pooling2d_3 (MaxPooling2 (None, 14, 14, 32)        0         \n",
      "_________________________________________________________________\n",
      "conv2d_7 (Conv2D)            (None, 12, 12, 64)        18496     \n",
      "_________________________________________________________________\n",
      "conv2d_8 (Conv2D)            (None, 10, 10, 64)        36928     \n",
      "_________________________________________________________________\n",
      "max_pooling2d_4 (MaxPooling2 (None, 5, 5, 64)          0         \n",
      "_________________________________________________________________\n",
      "conv2d_9 (Conv2D)            (None, 3, 3, 128)         73856     \n",
      "_________________________________________________________________\n",
      "max_pooling2d_5 (MaxPooling2 (None, 1, 1, 128)         0         \n",
      "_________________________________________________________________\n",
      "flatten_1 (Flatten)          (None, 128)               0         \n",
      "_________________________________________________________________\n",
      "dense_3 (Dense)              (None, 256)               33024     \n",
      "_________________________________________________________________\n",
      "dense_4 (Dense)              (None, 128)               32896     \n",
      "_________________________________________________________________\n",
      "dense_5 (Dense)              (None, 10)                1290      \n",
      "=================================================================\n",
      "Total params: 206,634\n",
      "Trainable params: 206,634\n",
      "Non-trainable params: 0\n",
      "_________________________________________________________________\n"
     ]
    }
   ],
   "source": [
    "model_2.summary()"
   ]
  },
  {
   "cell_type": "markdown",
   "metadata": {
    "id": "enUBVt7SgVPq"
   },
   "source": [
    "### Adding Early stopping"
   ]
  },
  {
   "cell_type": "code",
   "execution_count": null,
   "metadata": {
    "id": "kjh2aBzhgVPq"
   },
   "outputs": [],
   "source": [
    "from tensorflow.keras.callbacks import EarlyStopping"
   ]
  },
  {
   "cell_type": "code",
   "execution_count": null,
   "metadata": {
    "id": "ZQz_GA83gVPq"
   },
   "outputs": [],
   "source": [
    "early_stop = EarlyStopping(monitor='val_loss',patience=2)"
   ]
  },
  {
   "cell_type": "markdown",
   "metadata": {
    "id": "3CQ4ZvMESHOL"
   },
   "source": [
    "early_stop = EarlyStopping(monitor='val_loss',patience=2)"
   ]
  },
  {
   "cell_type": "code",
   "execution_count": null,
   "metadata": {
    "colab": {
     "base_uri": "https://localhost:8080/"
    },
    "executionInfo": {
     "elapsed": 3352739,
     "status": "ok",
     "timestamp": 1616548633846,
     "user": {
      "displayName": "Aveen Najm",
      "photoUrl": "",
      "userId": "16510286446234260860"
     },
     "user_tz": 0
    },
    "id": "GAy8uGH_Scvy",
    "outputId": "30ba5dae-b939-46de-94bf-da06cdb6ea88"
   },
   "outputs": [
    {
     "name": "stdout",
     "output_type": "stream",
     "text": [
      "Epoch 1/1000\n",
      "267/267 [==============================] - 4s 12ms/step - loss: 2.0448 - accuracy: 0.2273 - val_loss: 1.5136 - val_accuracy: 0.4473\n",
      "Epoch 2/1000\n",
      "267/267 [==============================] - 3s 11ms/step - loss: 1.4729 - accuracy: 0.4638 - val_loss: 1.2932 - val_accuracy: 0.5314\n",
      "Epoch 3/1000\n",
      "267/267 [==============================] - 3s 11ms/step - loss: 1.2659 - accuracy: 0.5411 - val_loss: 1.2654 - val_accuracy: 0.5455\n",
      "Epoch 4/1000\n",
      "267/267 [==============================] - 3s 11ms/step - loss: 1.1452 - accuracy: 0.5943 - val_loss: 1.1148 - val_accuracy: 0.6072\n",
      "Epoch 5/1000\n",
      "267/267 [==============================] - 3s 11ms/step - loss: 1.0411 - accuracy: 0.6300 - val_loss: 1.0481 - val_accuracy: 0.6319\n",
      "Epoch 6/1000\n",
      "267/267 [==============================] - 3s 11ms/step - loss: 0.9652 - accuracy: 0.6586 - val_loss: 0.9961 - val_accuracy: 0.6514\n",
      "Epoch 7/1000\n",
      "267/267 [==============================] - 3s 11ms/step - loss: 0.9012 - accuracy: 0.6840 - val_loss: 0.9670 - val_accuracy: 0.6627\n",
      "Epoch 8/1000\n",
      "267/267 [==============================] - 3s 11ms/step - loss: 0.8453 - accuracy: 0.7060 - val_loss: 0.9108 - val_accuracy: 0.6807\n",
      "Epoch 9/1000\n",
      "267/267 [==============================] - 3s 11ms/step - loss: 0.7763 - accuracy: 0.7282 - val_loss: 0.9852 - val_accuracy: 0.6670\n",
      "Epoch 10/1000\n",
      "267/267 [==============================] - 3s 11ms/step - loss: 0.7330 - accuracy: 0.7388 - val_loss: 0.9127 - val_accuracy: 0.6863\n"
     ]
    }
   ],
   "source": [
    "history2 = model_2.fit(x_train,y_cat_train,epochs=1000,batch_size=150,validation_data=(x_val,y_val_cat),callbacks=[early_stop])"
   ]
  },
  {
   "cell_type": "code",
   "execution_count": null,
   "metadata": {
    "colab": {
     "base_uri": "https://localhost:8080/"
    },
    "executionInfo": {
     "elapsed": 3352734,
     "status": "ok",
     "timestamp": 1616548633847,
     "user": {
      "displayName": "Aveen Najm",
      "photoUrl": "",
      "userId": "16510286446234260860"
     },
     "user_tz": 0
    },
    "id": "7wHxBk9SSzGS",
    "outputId": "a6b396a4-b9ab-47ec-f1f5-d651f3690a7f"
   },
   "outputs": [
    {
     "data": {
      "text/plain": [
       "dict_keys(['loss', 'accuracy', 'val_loss', 'val_accuracy'])"
      ]
     },
     "execution_count": 57,
     "metadata": {
      "tags": []
     },
     "output_type": "execute_result"
    }
   ],
   "source": [
    "history2.history.keys()"
   ]
  },
  {
   "cell_type": "code",
   "execution_count": null,
   "metadata": {
    "id": "xfCUiDy4S-cZ"
   },
   "outputs": [],
   "source": [
    "metrics_2 = pd.DataFrame(history2.history)"
   ]
  },
  {
   "cell_type": "code",
   "execution_count": null,
   "metadata": {
    "colab": {
     "base_uri": "https://localhost:8080/",
     "height": 355
    },
    "executionInfo": {
     "elapsed": 3352726,
     "status": "ok",
     "timestamp": 1616548633848,
     "user": {
      "displayName": "Aveen Najm",
      "photoUrl": "",
      "userId": "16510286446234260860"
     },
     "user_tz": 0
    },
    "id": "9BQT-OSkTWTf",
    "outputId": "e80ee39a-6053-48d5-eef5-5b6176c062bf"
   },
   "outputs": [
    {
     "data": {
      "text/html": [
       "<div>\n",
       "<style scoped>\n",
       "    .dataframe tbody tr th:only-of-type {\n",
       "        vertical-align: middle;\n",
       "    }\n",
       "\n",
       "    .dataframe tbody tr th {\n",
       "        vertical-align: top;\n",
       "    }\n",
       "\n",
       "    .dataframe thead th {\n",
       "        text-align: right;\n",
       "    }\n",
       "</style>\n",
       "<table border=\"1\" class=\"dataframe\">\n",
       "  <thead>\n",
       "    <tr style=\"text-align: right;\">\n",
       "      <th></th>\n",
       "      <th>loss</th>\n",
       "      <th>accuracy</th>\n",
       "      <th>val_loss</th>\n",
       "      <th>val_accuracy</th>\n",
       "    </tr>\n",
       "  </thead>\n",
       "  <tbody>\n",
       "    <tr>\n",
       "      <th>0</th>\n",
       "      <td>1.841393</td>\n",
       "      <td>0.308675</td>\n",
       "      <td>1.513559</td>\n",
       "      <td>0.4473</td>\n",
       "    </tr>\n",
       "    <tr>\n",
       "      <th>1</th>\n",
       "      <td>1.416850</td>\n",
       "      <td>0.482200</td>\n",
       "      <td>1.293185</td>\n",
       "      <td>0.5314</td>\n",
       "    </tr>\n",
       "    <tr>\n",
       "      <th>2</th>\n",
       "      <td>1.241945</td>\n",
       "      <td>0.552450</td>\n",
       "      <td>1.265407</td>\n",
       "      <td>0.5455</td>\n",
       "    </tr>\n",
       "    <tr>\n",
       "      <th>3</th>\n",
       "      <td>1.122795</td>\n",
       "      <td>0.602000</td>\n",
       "      <td>1.114792</td>\n",
       "      <td>0.6072</td>\n",
       "    </tr>\n",
       "    <tr>\n",
       "      <th>4</th>\n",
       "      <td>1.032753</td>\n",
       "      <td>0.635250</td>\n",
       "      <td>1.048109</td>\n",
       "      <td>0.6319</td>\n",
       "    </tr>\n",
       "    <tr>\n",
       "      <th>5</th>\n",
       "      <td>0.969756</td>\n",
       "      <td>0.657225</td>\n",
       "      <td>0.996071</td>\n",
       "      <td>0.6514</td>\n",
       "    </tr>\n",
       "    <tr>\n",
       "      <th>6</th>\n",
       "      <td>0.899243</td>\n",
       "      <td>0.683650</td>\n",
       "      <td>0.967042</td>\n",
       "      <td>0.6627</td>\n",
       "    </tr>\n",
       "    <tr>\n",
       "      <th>7</th>\n",
       "      <td>0.843886</td>\n",
       "      <td>0.704225</td>\n",
       "      <td>0.910760</td>\n",
       "      <td>0.6807</td>\n",
       "    </tr>\n",
       "    <tr>\n",
       "      <th>8</th>\n",
       "      <td>0.781957</td>\n",
       "      <td>0.727575</td>\n",
       "      <td>0.985216</td>\n",
       "      <td>0.6670</td>\n",
       "    </tr>\n",
       "    <tr>\n",
       "      <th>9</th>\n",
       "      <td>0.733162</td>\n",
       "      <td>0.742325</td>\n",
       "      <td>0.912657</td>\n",
       "      <td>0.6863</td>\n",
       "    </tr>\n",
       "  </tbody>\n",
       "</table>\n",
       "</div>"
      ],
      "text/plain": [
       "       loss  accuracy  val_loss  val_accuracy\n",
       "0  1.841393  0.308675  1.513559        0.4473\n",
       "1  1.416850  0.482200  1.293185        0.5314\n",
       "2  1.241945  0.552450  1.265407        0.5455\n",
       "3  1.122795  0.602000  1.114792        0.6072\n",
       "4  1.032753  0.635250  1.048109        0.6319\n",
       "5  0.969756  0.657225  0.996071        0.6514\n",
       "6  0.899243  0.683650  0.967042        0.6627\n",
       "7  0.843886  0.704225  0.910760        0.6807\n",
       "8  0.781957  0.727575  0.985216        0.6670\n",
       "9  0.733162  0.742325  0.912657        0.6863"
      ]
     },
     "execution_count": 59,
     "metadata": {
      "tags": []
     },
     "output_type": "execute_result"
    }
   ],
   "source": [
    "metrics_2"
   ]
  },
  {
   "cell_type": "code",
   "execution_count": null,
   "metadata": {
    "colab": {
     "base_uri": "https://localhost:8080/",
     "height": 283
    },
    "executionInfo": {
     "elapsed": 3352721,
     "status": "ok",
     "timestamp": 1616548633849,
     "user": {
      "displayName": "Aveen Najm",
      "photoUrl": "",
      "userId": "16510286446234260860"
     },
     "user_tz": 0
    },
    "id": "x87bxsl26CVy",
    "outputId": "31412cac-bb37-4981-d947-292a425eb65f"
   },
   "outputs": [
    {
     "data": {
      "image/png": "[encoded data removed]",
      "text/plain": [
       "<Figure size 432x288 with 1 Axes>"
      ]
     },
     "metadata": {
      "needs_background": "light",
      "tags": []
     },
     "output_type": "display_data"
    }
   ],
   "source": [
    "metrics_2[['loss', 'val_loss']].plot()\n",
    "plt.title('Training Loss Vs Validation Loss', fontsize=16)\n",
    "plt.show()"
   ]
  },
  {
   "cell_type": "code",
   "execution_count": null,
   "metadata": {
    "colab": {
     "base_uri": "https://localhost:8080/",
     "height": 283
    },
    "executionInfo": {
     "elapsed": 3353008,
     "status": "ok",
     "timestamp": 1616548634143,
     "user": {
      "displayName": "Aveen Najm",
      "photoUrl": "",
      "userId": "16510286446234260860"
     },
     "user_tz": 0
    },
    "id": "iZJff5z7TcF8",
    "outputId": "f70656cb-41ad-44cb-be34-f82df8fc9028"
   },
   "outputs": [
    {
     "data": {
      "image/png": "[encoded data removed]",
      "text/plain": [
       "<Figure size 432x288 with 1 Axes>"
      ]
     },
     "metadata": {
      "needs_background": "light",
      "tags": []
     },
     "output_type": "display_data"
    }
   ],
   "source": [
    "metrics_2[['accuracy', 'val_accuracy']].plot()\n",
    "plt.title('Training Accuracy Vs Validation Accuracy', fontsize=16)\n",
    "plt.show()"
   ]
  },
  {
   "cell_type": "markdown",
   "metadata": {},
   "source": [
    "# Evaluation on Test Data"
   ]
  },
  {
   "cell_type": "code",
   "execution_count": null,
   "metadata": {
    "colab": {
     "base_uri": "https://localhost:8080/"
    },
    "executionInfo": {
     "elapsed": 3353929,
     "status": "ok",
     "timestamp": 1616548635070,
     "user": {
      "displayName": "Aveen Najm",
      "photoUrl": "",
      "userId": "16510286446234260860"
     },
     "user_tz": 0
    },
    "id": "j3c_0cqpTh9s",
    "outputId": "32266894-cbd3-402c-877c-c26ca815f2e7"
   },
   "outputs": [
    {
     "name": "stdout",
     "output_type": "stream",
     "text": [
      "313/313 [==============================] - 1s 3ms/step - loss: 0.9241 - accuracy: 0.6861\n"
     ]
    },
    {
     "data": {
      "text/plain": [
       "[0.9241401553153992, 0.6861000061035156]"
      ]
     },
     "execution_count": 62,
     "metadata": {
      "tags": []
     },
     "output_type": "execute_result"
    }
   ],
   "source": [
    "model_2.evaluate(x_test,y_cat_test)"
   ]
  },
  {
   "cell_type": "markdown",
   "metadata": {
    "id": "eGCwQuXRWS5q"
   },
   "source": [
    "# Model three adding Early stopping & Dropout"
   ]
  },
  {
   "cell_type": "code",
   "execution_count": null,
   "metadata": {
    "id": "Gl-tLJXnWLdY"
   },
   "outputs": [],
   "source": [
    "\n",
    "model_3 = Sequential()\n",
    "\n",
    "# CONVOLUTIONAL LAYER\n",
    "model_3.add(Conv2D(filters=32, kernel_size=(3,3),input_shape=(32, 32, 3), activation='relu',))\n",
    "\n",
    "# POOLING LAYER\n",
    "model_3.add(MaxPool2D(pool_size=(2, 2)))\n",
    "model_3.add(Dropout(0.2))\n",
    "\n",
    "# CONVOLUTIONAL LAYER\n",
    "model_3.add(Conv2D(filters=64, kernel_size=(3,3),input_shape=(32, 32, 3), activation='relu',))\n",
    "\n",
    "# POOLING LAYER\n",
    "model_3.add(MaxPool2D(pool_size=(2, 2)))\n",
    "model_3.add(Dropout(0.2))\n",
    "\n",
    "\n",
    "\n",
    "# FLATTEN IMAGES FROM 32 x 32 x 3 =3072 BEFORE FINAL LAYER\n",
    "model_3.add(Flatten())\n",
    "\n",
    "# 128 NEURONS IN DENSE HIDDEN LAYER\n",
    "model_3.add(Dense(128, activation='relu'))\n",
    "model_3.add(Dropout(0.2))\n",
    "\n",
    "# LAST LAYER IS THE CLASSIFIER, THUS 10 POSSIBLE CLASSES\n",
    "model_3.add(Dense(10, activation='softmax'))\n",
    "\n",
    "model_3.compile(loss='categorical_crossentropy',\n",
    "              optimizer='adam',\n",
    "              metrics=['accuracy'])"
   ]
  },
  {
   "cell_type": "code",
   "execution_count": null,
   "metadata": {
    "colab": {
     "base_uri": "https://localhost:8080/"
    },
    "executionInfo": {
     "elapsed": 3353922,
     "status": "ok",
     "timestamp": 1616548635071,
     "user": {
      "displayName": "Aveen Najm",
      "photoUrl": "",
      "userId": "16510286446234260860"
     },
     "user_tz": 0
    },
    "id": "h5w32dTPXDL9",
    "outputId": "ca30d6b6-c317-4a71-8c4d-3649eeb48d69"
   },
   "outputs": [
    {
     "name": "stdout",
     "output_type": "stream",
     "text": [
      "Model: \"sequential_2\"\n",
      "_________________________________________________________________\n",
      "Layer (type)                 Output Shape              Param #   \n",
      "=================================================================\n",
      "conv2d_10 (Conv2D)           (None, 30, 30, 32)        896       \n",
      "_________________________________________________________________\n",
      "max_pooling2d_6 (MaxPooling2 (None, 15, 15, 32)        0         \n",
      "_________________________________________________________________\n",
      "dropout_5 (Dropout)          (None, 15, 15, 32)        0         \n",
      "_________________________________________________________________\n",
      "conv2d_11 (Conv2D)           (None, 13, 13, 64)        18496     \n",
      "_________________________________________________________________\n",
      "max_pooling2d_7 (MaxPooling2 (None, 6, 6, 64)          0         \n",
      "_________________________________________________________________\n",
      "dropout_6 (Dropout)          (None, 6, 6, 64)          0         \n",
      "_________________________________________________________________\n",
      "flatten_2 (Flatten)          (None, 2304)              0         \n",
      "_________________________________________________________________\n",
      "dense_6 (Dense)              (None, 128)               295040    \n",
      "_________________________________________________________________\n",
      "dropout_7 (Dropout)          (None, 128)               0         \n",
      "_________________________________________________________________\n",
      "dense_7 (Dense)              (None, 10)                1290      \n",
      "=================================================================\n",
      "Total params: 315,722\n",
      "Trainable params: 315,722\n",
      "Non-trainable params: 0\n",
      "_________________________________________________________________\n"
     ]
    }
   ],
   "source": [
    "model_3.summary()"
   ]
  },
  {
   "cell_type": "markdown",
   "metadata": {
    "id": "GYBNYnO-gVPu"
   },
   "source": [
    "### Adding Early stopping"
   ]
  },
  {
   "cell_type": "code",
   "execution_count": null,
   "metadata": {
    "id": "RIjcOXqgYE2J"
   },
   "outputs": [],
   "source": [
    "from tensorflow.keras.callbacks import EarlyStopping"
   ]
  },
  {
   "cell_type": "code",
   "execution_count": null,
   "metadata": {
    "id": "zBnW64p7YXCO"
   },
   "outputs": [],
   "source": [
    "early_stop = EarlyStopping(monitor='val_loss',patience=2)"
   ]
  },
  {
   "cell_type": "code",
   "execution_count": null,
   "metadata": {
    "colab": {
     "base_uri": "https://localhost:8080/"
    },
    "executionInfo": {
     "elapsed": 3381157,
     "status": "ok",
     "timestamp": 1616548662315,
     "user": {
      "displayName": "Aveen Najm",
      "photoUrl": "",
      "userId": "16510286446234260860"
     },
     "user_tz": 0
    },
    "id": "nkd9ybYQYdLA",
    "outputId": "67631b5b-f68b-4bab-bbb0-923b90a89c79"
   },
   "outputs": [
    {
     "name": "stdout",
     "output_type": "stream",
     "text": [
      "Epoch 1/1000\n",
      "267/267 [==============================] - 3s 8ms/step - loss: 1.9124 - accuracy: 0.2945 - val_loss: 1.4349 - val_accuracy: 0.4866\n",
      "Epoch 2/1000\n",
      "267/267 [==============================] - 2s 7ms/step - loss: 1.4402 - accuracy: 0.4844 - val_loss: 1.3036 - val_accuracy: 0.5398\n",
      "Epoch 3/1000\n",
      "267/267 [==============================] - 2s 7ms/step - loss: 1.2703 - accuracy: 0.5499 - val_loss: 1.1390 - val_accuracy: 0.6083\n",
      "Epoch 4/1000\n",
      "267/267 [==============================] - 2s 7ms/step - loss: 1.1664 - accuracy: 0.5872 - val_loss: 1.0579 - val_accuracy: 0.6277\n",
      "Epoch 5/1000\n",
      "267/267 [==============================] - 2s 7ms/step - loss: 1.1084 - accuracy: 0.6082 - val_loss: 1.0206 - val_accuracy: 0.6442\n",
      "Epoch 6/1000\n",
      "267/267 [==============================] - 2s 7ms/step - loss: 1.0491 - accuracy: 0.6318 - val_loss: 0.9712 - val_accuracy: 0.6637\n",
      "Epoch 7/1000\n",
      "267/267 [==============================] - 2s 7ms/step - loss: 1.0002 - accuracy: 0.6510 - val_loss: 0.9552 - val_accuracy: 0.6761\n",
      "Epoch 8/1000\n",
      "267/267 [==============================] - 2s 7ms/step - loss: 0.9546 - accuracy: 0.6621 - val_loss: 0.9232 - val_accuracy: 0.6826\n",
      "Epoch 9/1000\n",
      "267/267 [==============================] - 2s 7ms/step - loss: 0.9160 - accuracy: 0.6761 - val_loss: 0.8904 - val_accuracy: 0.6904\n",
      "Epoch 10/1000\n",
      "267/267 [==============================] - 2s 7ms/step - loss: 0.8659 - accuracy: 0.6965 - val_loss: 0.8736 - val_accuracy: 0.6981\n",
      "Epoch 11/1000\n",
      "267/267 [==============================] - 2s 7ms/step - loss: 0.8485 - accuracy: 0.7003 - val_loss: 0.8657 - val_accuracy: 0.7019\n",
      "Epoch 12/1000\n",
      "267/267 [==============================] - 2s 7ms/step - loss: 0.8177 - accuracy: 0.7117 - val_loss: 0.8325 - val_accuracy: 0.7114\n",
      "Epoch 13/1000\n",
      "267/267 [==============================] - 2s 7ms/step - loss: 0.7941 - accuracy: 0.7206 - val_loss: 0.8333 - val_accuracy: 0.7109\n",
      "Epoch 14/1000\n",
      "267/267 [==============================] - 2s 7ms/step - loss: 0.7670 - accuracy: 0.7263 - val_loss: 0.8379 - val_accuracy: 0.7042\n"
     ]
    }
   ],
   "source": [
    "history3 = model_3.fit(x_train,y_cat_train,epochs=1000,batch_size=150,validation_data=(x_val,y_val_cat),callbacks=[early_stop])"
   ]
  },
  {
   "cell_type": "code",
   "execution_count": null,
   "metadata": {
    "colab": {
     "base_uri": "https://localhost:8080/"
    },
    "executionInfo": {
     "elapsed": 3381151,
     "status": "ok",
     "timestamp": 1616548662315,
     "user": {
      "displayName": "Aveen Najm",
      "photoUrl": "",
      "userId": "16510286446234260860"
     },
     "user_tz": 0
    },
    "id": "_h9MN9hsZMcZ",
    "outputId": "f9bd62e8-6202-4499-fa16-07948bfaa54a"
   },
   "outputs": [
    {
     "data": {
      "text/plain": [
       "dict_keys(['loss', 'accuracy', 'val_loss', 'val_accuracy'])"
      ]
     },
     "execution_count": 68,
     "metadata": {
      "tags": []
     },
     "output_type": "execute_result"
    }
   ],
   "source": [
    "history3.history.keys()"
   ]
  },
  {
   "cell_type": "code",
   "execution_count": null,
   "metadata": {
    "id": "T2wDVsP5ZQIy"
   },
   "outputs": [],
   "source": [
    "metrics_3 = pd.DataFrame(history3.history)"
   ]
  },
  {
   "cell_type": "code",
   "execution_count": null,
   "metadata": {
    "colab": {
     "base_uri": "https://localhost:8080/",
     "height": 478
    },
    "executionInfo": {
     "elapsed": 3381142,
     "status": "ok",
     "timestamp": 1616548662316,
     "user": {
      "displayName": "Aveen Najm",
      "photoUrl": "",
      "userId": "16510286446234260860"
     },
     "user_tz": 0
    },
    "id": "yY5rxMzyaROQ",
    "outputId": "ef28bbcb-e85e-4bab-cafb-8ff200510a18"
   },
   "outputs": [
    {
     "data": {
      "text/html": [
       "<div>\n",
       "<style scoped>\n",
       "    .dataframe tbody tr th:only-of-type {\n",
       "        vertical-align: middle;\n",
       "    }\n",
       "\n",
       "    .dataframe tbody tr th {\n",
       "        vertical-align: top;\n",
       "    }\n",
       "\n",
       "    .dataframe thead th {\n",
       "        text-align: right;\n",
       "    }\n",
       "</style>\n",
       "<table border=\"1\" class=\"dataframe\">\n",
       "  <thead>\n",
       "    <tr style=\"text-align: right;\">\n",
       "      <th></th>\n",
       "      <th>loss</th>\n",
       "      <th>accuracy</th>\n",
       "      <th>val_loss</th>\n",
       "      <th>val_accuracy</th>\n",
       "    </tr>\n",
       "  </thead>\n",
       "  <tbody>\n",
       "    <tr>\n",
       "      <th>0</th>\n",
       "      <td>1.708698</td>\n",
       "      <td>0.374750</td>\n",
       "      <td>1.434867</td>\n",
       "      <td>0.4866</td>\n",
       "    </tr>\n",
       "    <tr>\n",
       "      <th>1</th>\n",
       "      <td>1.398616</td>\n",
       "      <td>0.502675</td>\n",
       "      <td>1.303624</td>\n",
       "      <td>0.5398</td>\n",
       "    </tr>\n",
       "    <tr>\n",
       "      <th>2</th>\n",
       "      <td>1.252410</td>\n",
       "      <td>0.553775</td>\n",
       "      <td>1.138972</td>\n",
       "      <td>0.6083</td>\n",
       "    </tr>\n",
       "    <tr>\n",
       "      <th>3</th>\n",
       "      <td>1.158067</td>\n",
       "      <td>0.591125</td>\n",
       "      <td>1.057857</td>\n",
       "      <td>0.6277</td>\n",
       "    </tr>\n",
       "    <tr>\n",
       "      <th>4</th>\n",
       "      <td>1.097765</td>\n",
       "      <td>0.613200</td>\n",
       "      <td>1.020573</td>\n",
       "      <td>0.6442</td>\n",
       "    </tr>\n",
       "    <tr>\n",
       "      <th>5</th>\n",
       "      <td>1.036914</td>\n",
       "      <td>0.634875</td>\n",
       "      <td>0.971174</td>\n",
       "      <td>0.6637</td>\n",
       "    </tr>\n",
       "    <tr>\n",
       "      <th>6</th>\n",
       "      <td>0.997654</td>\n",
       "      <td>0.650500</td>\n",
       "      <td>0.955231</td>\n",
       "      <td>0.6761</td>\n",
       "    </tr>\n",
       "    <tr>\n",
       "      <th>7</th>\n",
       "      <td>0.948606</td>\n",
       "      <td>0.665150</td>\n",
       "      <td>0.923222</td>\n",
       "      <td>0.6826</td>\n",
       "    </tr>\n",
       "    <tr>\n",
       "      <th>8</th>\n",
       "      <td>0.913740</td>\n",
       "      <td>0.679025</td>\n",
       "      <td>0.890400</td>\n",
       "      <td>0.6904</td>\n",
       "    </tr>\n",
       "    <tr>\n",
       "      <th>9</th>\n",
       "      <td>0.875665</td>\n",
       "      <td>0.691200</td>\n",
       "      <td>0.873596</td>\n",
       "      <td>0.6981</td>\n",
       "    </tr>\n",
       "    <tr>\n",
       "      <th>10</th>\n",
       "      <td>0.846072</td>\n",
       "      <td>0.702600</td>\n",
       "      <td>0.865749</td>\n",
       "      <td>0.7019</td>\n",
       "    </tr>\n",
       "    <tr>\n",
       "      <th>11</th>\n",
       "      <td>0.824294</td>\n",
       "      <td>0.708675</td>\n",
       "      <td>0.832535</td>\n",
       "      <td>0.7114</td>\n",
       "    </tr>\n",
       "    <tr>\n",
       "      <th>12</th>\n",
       "      <td>0.802223</td>\n",
       "      <td>0.717075</td>\n",
       "      <td>0.833299</td>\n",
       "      <td>0.7109</td>\n",
       "    </tr>\n",
       "    <tr>\n",
       "      <th>13</th>\n",
       "      <td>0.770063</td>\n",
       "      <td>0.725350</td>\n",
       "      <td>0.837948</td>\n",
       "      <td>0.7042</td>\n",
       "    </tr>\n",
       "  </tbody>\n",
       "</table>\n",
       "</div>"
      ],
      "text/plain": [
       "        loss  accuracy  val_loss  val_accuracy\n",
       "0   1.708698  0.374750  1.434867        0.4866\n",
       "1   1.398616  0.502675  1.303624        0.5398\n",
       "2   1.252410  0.553775  1.138972        0.6083\n",
       "3   1.158067  0.591125  1.057857        0.6277\n",
       "4   1.097765  0.613200  1.020573        0.6442\n",
       "5   1.036914  0.634875  0.971174        0.6637\n",
       "6   0.997654  0.650500  0.955231        0.6761\n",
       "7   0.948606  0.665150  0.923222        0.6826\n",
       "8   0.913740  0.679025  0.890400        0.6904\n",
       "9   0.875665  0.691200  0.873596        0.6981\n",
       "10  0.846072  0.702600  0.865749        0.7019\n",
       "11  0.824294  0.708675  0.832535        0.7114\n",
       "12  0.802223  0.717075  0.833299        0.7109\n",
       "13  0.770063  0.725350  0.837948        0.7042"
      ]
     },
     "execution_count": 70,
     "metadata": {
      "tags": []
     },
     "output_type": "execute_result"
    }
   ],
   "source": [
    "metrics_3"
   ]
  },
  {
   "cell_type": "code",
   "execution_count": null,
   "metadata": {
    "colab": {
     "base_uri": "https://localhost:8080/",
     "height": 283
    },
    "executionInfo": {
     "elapsed": 3381523,
     "status": "ok",
     "timestamp": 1616548662704,
     "user": {
      "displayName": "Aveen Najm",
      "photoUrl": "",
      "userId": "16510286446234260860"
     },
     "user_tz": 0
    },
    "id": "GqkjCzA9ajOc",
    "outputId": "d7873e82-13ee-47f4-d927-36fa1fae871e"
   },
   "outputs": [
    {
     "data": {
      "image/png": "[encoded data removed]",
      "text/plain": [
       "<Figure size 432x288 with 1 Axes>"
      ]
     },
     "metadata": {
      "needs_background": "light",
      "tags": []
     },
     "output_type": "display_data"
    }
   ],
   "source": [
    "metrics_3[['loss', 'val_loss']].plot()\n",
    "plt.title('Training Loss Vs Validation Loss', fontsize=16)\n",
    "plt.show()"
   ]
  },
  {
   "cell_type": "code",
   "execution_count": null,
   "metadata": {
    "colab": {
     "base_uri": "https://localhost:8080/",
     "height": 283
    },
    "executionInfo": {
     "elapsed": 3381518,
     "status": "ok",
     "timestamp": 1616548662705,
     "user": {
      "displayName": "Aveen Najm",
      "photoUrl": "",
      "userId": "16510286446234260860"
     },
     "user_tz": 0
    },
    "id": "wMwYpKSiaoFt",
    "outputId": "f3f80033-18c7-4bf4-9711-8c67db9d07cf"
   },
   "outputs": [
    {
     "data": {
      "image/png": "[encoded data removed]",
      "text/plain": [
       "<Figure size 432x288 with 1 Axes>"
      ]
     },
     "metadata": {
      "needs_background": "light",
      "tags": []
     },
     "output_type": "display_data"
    }
   ],
   "source": [
    "metrics_3[['accuracy', 'val_accuracy']].plot()\n",
    "plt.title('Training Accuracy Vs Validation Accuracy', fontsize=16)\n",
    "plt.show()"
   ]
  },
  {
   "cell_type": "markdown",
   "metadata": {},
   "source": [
    "# Evaluation on Test Data"
   ]
  },
  {
   "cell_type": "code",
   "execution_count": null,
   "metadata": {
    "colab": {
     "base_uri": "https://localhost:8080/"
    },
    "executionInfo": {
     "elapsed": 3382314,
     "status": "ok",
     "timestamp": 1616548663507,
     "user": {
      "displayName": "Aveen Najm",
      "photoUrl": "",
      "userId": "16510286446234260860"
     },
     "user_tz": 0
    },
    "id": "pdI8I6OMa21R",
    "outputId": "ef26fb69-b9f9-4fc9-c7f9-2574a64c702a"
   },
   "outputs": [
    {
     "name": "stdout",
     "output_type": "stream",
     "text": [
      "313/313 [==============================] - 1s 3ms/step - loss: 0.8619 - accuracy: 0.7019\n"
     ]
    },
    {
     "data": {
      "text/plain": [
       "[0.8618693351745605, 0.7019000053405762]"
      ]
     },
     "execution_count": 73,
     "metadata": {
      "tags": []
     },
     "output_type": "execute_result"
    }
   ],
   "source": [
    "model_3.evaluate(x_test,y_cat_test)"
   ]
  },
  {
   "cell_type": "markdown",
   "metadata": {
    "id": "lFkD5fNpK_9f"
   },
   "source": [
    "# Classification Report and Confusion Matrix"
   ]
  },
  {
   "cell_type": "code",
   "execution_count": null,
   "metadata": {
    "id": "LTh28xzfK_9f"
   },
   "outputs": [],
   "source": [
    "from sklearn.metrics import classification_report, confusion_matrix"
   ]
  },
  {
   "cell_type": "code",
   "execution_count": null,
   "metadata": {
    "colab": {
     "base_uri": "https://localhost:8080/"
    },
    "executionInfo": {
     "elapsed": 3383059,
     "status": "ok",
     "timestamp": 1616548664260,
     "user": {
      "displayName": "Aveen Najm",
      "photoUrl": "",
      "userId": "16510286446234260860"
     },
     "user_tz": 0
    },
    "id": "yyxvYjN2K_9g",
    "outputId": "44bafc2a-bb0c-4f0b-a849-eff9f5c4a1fb"
   },
   "outputs": [
    {
     "name": "stderr",
     "output_type": "stream",
     "text": [
      "/usr/local/lib/python3.7/dist-packages/tensorflow/python/keras/engine/sequential.py:450: UserWarning: `model.predict_classes()` is deprecated and will be removed after 2021-01-01. Please use instead:* `np.argmax(model.predict(x), axis=-1)`,   if your model does multi-class classification   (e.g. if it uses a `softmax` last-layer activation).* `(model.predict(x) > 0.5).astype(\"int32\")`,   if your model does binary classification   (e.g. if it uses a `sigmoid` last-layer activation).\n",
      "  warnings.warn('`model.predict_classes()` is deprecated and '\n"
     ]
    }
   ],
   "source": [
    "predictions = model_3.predict_classes(x_test)"
   ]
  },
  {
   "cell_type": "code",
   "execution_count": null,
   "metadata": {
    "colab": {
     "base_uri": "https://localhost:8080/"
    },
    "executionInfo": {
     "elapsed": 3383054,
     "status": "ok",
     "timestamp": 1616548664261,
     "user": {
      "displayName": "Aveen Najm",
      "photoUrl": "",
      "userId": "16510286446234260860"
     },
     "user_tz": 0
    },
    "id": "aLs8LjfpK_9g",
    "outputId": "c71869f7-8a70-497b-9e8c-147fa523d8e4"
   },
   "outputs": [
    {
     "name": "stdout",
     "output_type": "stream",
     "text": [
      "              precision    recall  f1-score   support\n",
      "\n",
      "           0       0.74      0.79      0.76      1000\n",
      "           1       0.80      0.84      0.82      1000\n",
      "           2       0.59      0.58      0.58      1000\n",
      "           3       0.61      0.40      0.48      1000\n",
      "           4       0.70      0.56      0.62      1000\n",
      "           5       0.62      0.63      0.62      1000\n",
      "           6       0.59      0.90      0.71      1000\n",
      "           7       0.76      0.78      0.77      1000\n",
      "           8       0.82      0.81      0.81      1000\n",
      "           9       0.83      0.75      0.79      1000\n",
      "\n",
      "    accuracy                           0.70     10000\n",
      "   macro avg       0.71      0.70      0.70     10000\n",
      "weighted avg       0.71      0.70      0.70     10000\n",
      "\n"
     ]
    }
   ],
   "source": [
    "print(classification_report(y_test,predictions))"
   ]
  },
  {
   "cell_type": "code",
   "execution_count": null,
   "metadata": {
    "colab": {
     "base_uri": "https://localhost:8080/"
    },
    "executionInfo": {
     "elapsed": 3383047,
     "status": "ok",
     "timestamp": 1616548664261,
     "user": {
      "displayName": "Aveen Najm",
      "photoUrl": "",
      "userId": "16510286446234260860"
     },
     "user_tz": 0
    },
    "id": "z6cIIPNBK_9g",
    "outputId": "05ce1961-c2ee-4666-8299-5ddd6c796108"
   },
   "outputs": [
    {
     "data": {
      "text/plain": [
       "array([[788,  26,  47,   6,  12,   6,  19,  12,  62,  22],\n",
       "       [ 14, 836,  10,   8,   1,   2,  31,   3,  28,  67],\n",
       "       [ 71,   6, 579,  25,  70,  74, 121,  40,   8,   6],\n",
       "       [ 24,  11,  94, 400,  56, 190, 156,  39,  15,  15],\n",
       "       [ 25,   3,  75,  37, 562,  40, 168,  71,  15,   4],\n",
       "       [ 17,   5,  72, 113,  34, 628,  61,  57,   8,   5],\n",
       "       [  5,   1,  35,  21,  14,  11, 897,   5,   6,   5],\n",
       "       [ 16,   4,  49,  21,  45,  51,  24, 775,   5,  10],\n",
       "       [ 74,  43,  15,  11,   7,   3,  16,   5, 807,  19],\n",
       "       [ 38, 109,  11,  11,   4,  15,  21,  15,  29, 747]])"
      ]
     },
     "execution_count": 77,
     "metadata": {
      "tags": []
     },
     "output_type": "execute_result"
    }
   ],
   "source": [
    "confusion_matrix(y_test,predictions)"
   ]
  },
  {
   "cell_type": "markdown",
   "metadata": {},
   "source": [
    "Predicting on single image"
   ]
  },
  {
   "cell_type": "code",
   "execution_count": null,
   "metadata": {
    "colab": {
     "base_uri": "https://localhost:8080/",
     "height": 283
    },
    "executionInfo": {
     "elapsed": 3383042,
     "status": "ok",
     "timestamp": 1616548664262,
     "user": {
      "displayName": "Aveen Najm",
      "photoUrl": "",
      "userId": "16510286446234260860"
     },
     "user_tz": 0
    },
    "id": "1xq9N-prK_9g",
    "outputId": "44034103-001d-4e5c-ab61-13f26346a6c8"
   },
   "outputs": [
    {
     "data": {
      "text/plain": [
       "<matplotlib.image.AxesImage at 0x7f769e6167d0>"
      ]
     },
     "execution_count": 78,
     "metadata": {
      "tags": []
     },
     "output_type": "execute_result"
    },
    {
     "data": {
      "image/png": "[encoded data removed]",
      "text/plain": [
       "<Figure size 432x288 with 1 Axes>"
      ]
     },
     "metadata": {
      "needs_background": "light",
      "tags": []
     },
     "output_type": "display_data"
    }
   ],
   "source": [
    "plt.imshow(x_test[16])"
   ]
  },
  {
   "cell_type": "code",
   "execution_count": null,
   "metadata": {
    "id": "0renRQ04K_9h"
   },
   "outputs": [],
   "source": [
    "my_image = x_test[16]"
   ]
  },
  {
   "cell_type": "code",
   "execution_count": null,
   "metadata": {
    "colab": {
     "base_uri": "https://localhost:8080/"
    },
    "executionInfo": {
     "elapsed": 3383303,
     "status": "ok",
     "timestamp": 1616548664531,
     "user": {
      "displayName": "Aveen Najm",
      "photoUrl": "",
      "userId": "16510286446234260860"
     },
     "user_tz": 0
    },
    "id": "hZlWleehK_9h",
    "outputId": "55c78d84-b6ee-4c0a-bf3f-01d52f36ffd3"
   },
   "outputs": [],
   "source": [
    "# SHAPE --> (num_images,width,height,color_channels)\n",
    "model_3.predict_classes(my_image.reshape(1,32,32,3))"
   ]
  },
  {
   "cell_type": "code",
   "execution_count": null,
   "metadata": {
    "colab": {
     "base_uri": "https://localhost:8080/",
     "height": 35
    },
    "executionInfo": {
     "elapsed": 3383297,
     "status": "ok",
     "timestamp": 1616548664531,
     "user": {
      "displayName": "Aveen Najm",
      "photoUrl": "",
      "userId": "16510286446234260860"
     },
     "user_tz": 0
    },
    "id": "WhuqMx-fK_9h",
    "outputId": "74e6d0c7-9e7d-494d-d482-0ba1ff76f0f0"
   },
   "outputs": [
    {
     "data": {
      "application/vnd.google.colaboratory.intrinsic+json": {
       "type": "string"
      },
      "text/plain": [
       "'dog'"
      ]
     },
     "execution_count": 81,
     "metadata": {
      "tags": []
     },
     "output_type": "execute_result"
    }
   ],
   "source": [
    "LABEL_NAMES[y_test[16][0]]"
   ]
  },
  {
   "cell_type": "markdown",
   "metadata": {
    "id": "UYKULQWbK_9h"
   },
   "source": [
    "# Confusion Matrix"
   ]
  },
  {
   "cell_type": "code",
   "execution_count": null,
   "metadata": {
    "colab": {
     "base_uri": "https://localhost:8080/"
    },
    "executionInfo": {
     "elapsed": 3383675,
     "status": "ok",
     "timestamp": 1616548664914,
     "user": {
      "displayName": "Aveen Najm",
      "photoUrl": "",
      "userId": "16510286446234260860"
     },
     "user_tz": 0
    },
    "id": "LXzDEuWDgVPy",
    "outputId": "980f9a58-a923-4743-bddf-f3182f592e9f"
   },
   "outputs": [
    {
     "name": "stderr",
     "output_type": "stream",
     "text": [
      "/usr/local/lib/python3.7/dist-packages/tensorflow/python/keras/engine/sequential.py:450: UserWarning: `model.predict_classes()` is deprecated and will be removed after 2021-01-01. Please use instead:* `np.argmax(model.predict(x), axis=-1)`,   if your model does multi-class classification   (e.g. if it uses a `softmax` last-layer activation).* `(model.predict(x) > 0.5).astype(\"int32\")`,   if your model does binary classification   (e.g. if it uses a `sigmoid` last-layer activation).\n",
      "  warnings.warn('`model.predict_classes()` is deprecated and '\n"
     ]
    }
   ],
   "source": [
    "predictions = model_3.predict_classes(x_test)\n",
    "conf_matrix = confusion_matrix(y_true=y_test, y_pred=predictions)"
   ]
  },
  {
   "cell_type": "code",
   "execution_count": null,
   "metadata": {
    "colab": {
     "base_uri": "https://localhost:8080/"
    },
    "executionInfo": {
     "elapsed": 3383669,
     "status": "ok",
     "timestamp": 1616548664914,
     "user": {
      "displayName": "Aveen Najm",
      "photoUrl": "",
      "userId": "16510286446234260860"
     },
     "user_tz": 0
    },
    "id": "pCBhgiFGgVPz",
    "outputId": "4133d771-fb52-41a3-c4d9-77faa5a282e6"
   },
   "outputs": [
    {
     "data": {
      "text/plain": [
       "(10, 10)"
      ]
     },
     "execution_count": 84,
     "metadata": {
      "tags": []
     },
     "output_type": "execute_result"
    }
   ],
   "source": [
    "conf_matrix.shape"
   ]
  },
  {
   "cell_type": "code",
   "execution_count": null,
   "metadata": {
    "id": "6yv9SmxOgVPz"
   },
   "outputs": [],
   "source": [
    "nr_rows = conf_matrix.shape[0]\n",
    "nr_cols = conf_matrix.shape[1]"
   ]
  },
  {
   "cell_type": "code",
   "execution_count": null,
   "metadata": {
    "colab": {
     "base_uri": "https://localhost:8080/"
    },
    "executionInfo": {
     "elapsed": 3383944,
     "status": "ok",
     "timestamp": 1616548665197,
     "user": {
      "displayName": "Aveen Najm",
      "photoUrl": "",
      "userId": "16510286446234260860"
     },
     "user_tz": 0
    },
    "id": "GjjV097OgVPz",
    "outputId": "0c95be6f-dc13-4a18-a049-8c655a806ea1"
   },
   "outputs": [
    {
     "data": {
      "text/plain": [
       "897"
      ]
     },
     "execution_count": 86,
     "metadata": {
      "tags": []
     },
     "output_type": "execute_result"
    }
   ],
   "source": [
    "# Showing the value with th\n",
    "conf_matrix.max()"
   ]
  },
  {
   "cell_type": "code",
   "execution_count": null,
   "metadata": {
    "colab": {
     "base_uri": "https://localhost:8080/"
    },
    "executionInfo": {
     "elapsed": 3383938,
     "status": "ok",
     "timestamp": 1616548665197,
     "user": {
      "displayName": "Aveen Najm",
      "photoUrl": "",
      "userId": "16510286446234260860"
     },
     "user_tz": 0
    },
    "id": "vtComDYYgVPz",
    "outputId": "08aa334e-a989-49c2-d624-06078d4e83d1"
   },
   "outputs": [
    {
     "data": {
      "text/plain": [
       "1"
      ]
     },
     "execution_count": 87,
     "metadata": {
      "tags": []
     },
     "output_type": "execute_result"
    }
   ],
   "source": [
    "conf_matrix.min()"
   ]
  },
  {
   "cell_type": "code",
   "execution_count": null,
   "metadata": {
    "id": "R-S6ZfFIgVP0"
   },
   "outputs": [],
   "source": [
    "NR_CLASSES = 10"
   ]
  },
  {
   "cell_type": "code",
   "execution_count": null,
   "metadata": {
    "colab": {
     "base_uri": "https://localhost:8080/",
     "height": 674
    },
    "executionInfo": {
     "elapsed": 3384528,
     "status": "ok",
     "timestamp": 1616548665795,
     "user": {
      "displayName": "Aveen Najm",
      "photoUrl": "",
      "userId": "16510286446234260860"
     },
     "user_tz": 0
    },
    "id": "wS2-8gxHgVP0",
    "outputId": "30a04de1-8057-4a3d-c42d-3860e0d35e6f"
   },
   "outputs": [
    {
     "data": {
      "image/png": "[encoded data removed]",
      "text/plain": [
       "<Figure size 1520x760 with 2 Axes>"
      ]
     },
     "metadata": {
      "needs_background": "light",
      "tags": []
     },
     "output_type": "display_data"
    }
   ],
   "source": [
    "plt.figure(figsize=(16,8), dpi=95)\n",
    "plt.imshow(conf_matrix, cmap=plt.cm.Greens)\n",
    "\n",
    "plt.title('Confusion Matrix', fontsize=16) # Title for the plot\n",
    "plt.ylabel('Actual Labels', fontsize=10) # y lable\n",
    "plt.xlabel('Predicted Labels', fontsize=10) #\n",
    "\n",
    "tick_marks = np.arange(NR_CLASSES)  # Formatting Tick marks for our actual classes\n",
    "plt.yticks(tick_marks, LABEL_NAMES) # Assigning the classes to the label name for Y-axis\n",
    "plt.xticks(tick_marks, LABEL_NAMES) #Assigning the classes to the label name for X-axis\n",
    "\n",
    "plt.colorbar() # This shows a color bar to the right\n",
    "\n",
    "# Using the pythin itertools to loop through 2 values i j (rows & columns) ...\n",
    "# ...to print the actual values on the conf matrix\n",
    "# plt.text(j, i, conf_matrix[i, j]) {conf_matrix[i, j]} ->pulls out the actual values from the conf matrix\n",
    "\n",
    "for i, j in itertools.product(range(nr_rows), range(nr_cols)):\n",
    "    plt.text(j, i, conf_matrix[i, j], horizontalalignment='center',\n",
    "            color='white' if conf_matrix[i, j] > conf_matrix.max()/2 else 'black')\n",
    "    \n",
    "\n",
    "plt.show()"
   ]
  },
  {
   "cell_type": "code",
   "execution_count": null,
   "metadata": {
    "id": "hr-0d6gVgVP0"
   },
   "outputs": [],
   "source": []
  },
  {
   "cell_type": "code",
   "execution_count": null,
   "metadata": {
    "id": "Njlj4o5fgVP0"
   },
   "outputs": [],
   "source": []
  },
  {
   "cell_type": "code",
   "execution_count": null,
   "metadata": {
    "id": "RJcILKuQgVP0"
   },
   "outputs": [],
   "source": []
  }
 ],
 "metadata": {
  "accelerator": "GPU",
  "colab": {
   "collapsed_sections": [],
   "name": "assignment 2.ipynb",
   "provenance": []
  },
  "kernelspec": {
   "display_name": "Python 3",
   "language": "python",
   "name": "python3"
  },
  "language_info": {
   "codemirror_mode": {
    "name": "ipython",
    "version": 3
   },
   "file_extension": ".py",
   "mimetype": "text/x-python",
   "name": "python",
   "nbconvert_exporter": "python",
   "pygments_lexer": "ipython3",
   "version": "3.8.5"
  }
 },
 "nbformat": 4,
 "nbformat_minor": 4
}
